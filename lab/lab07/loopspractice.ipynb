{
 "cells": [
  {
   "cell_type": "code",
   "execution_count": null,
   "metadata": {},
   "outputs": [],
   "source": [
    "### Import our libraries\n",
    "import numpy as np\n",
    "from datascience import *"
   ]
  },
  {
   "cell_type": "code",
   "execution_count": null,
   "metadata": {},
   "outputs": [],
   "source": [
    "## What is a list?\n",
    "weekdays = [\"Monday\", \"Tuesday\", \"Wednesday\", \"Thursday\", \"Friday\"]\n",
    "weekdays"
   ]
  },
  {
   "cell_type": "code",
   "execution_count": null,
   "metadata": {},
   "outputs": [],
   "source": [
    "## Versus arrays\n",
    "weekdays_array = make_array(\"Monday\", \"Tuesday\", \"Wednesday\", \"Thursday\", \"Friday\")\n",
    "weekdays_array"
   ]
  },
  {
   "cell_type": "code",
   "execution_count": null,
   "metadata": {},
   "outputs": [],
   "source": [
    "### Accessing items in a list: list indices & splicing vs arrays\n",
    "weekdays[???]\n",
    "weekdays_array.???"
   ]
  },
  {
   "cell_type": "code",
   "execution_count": null,
   "metadata": {},
   "outputs": [],
   "source": [
    "### Adding items to a list; replacing a specific item and adding items with append\n",
    "numbers_list = [3, 1, 4, 1, 5, 9]\n",
    "numbers_list[???] = ???\n",
    "#numbers_list.append(???)"
   ]
  },
  {
   "cell_type": "code",
   "execution_count": null,
   "metadata": {},
   "outputs": [],
   "source": [
    "### Datatypes in arrays versus lists\n",
    "mixed_array = make_array(???)\n",
    "mixed_list = [???]\n",
    "type(???)"
   ]
  },
  {
   "cell_type": "code",
   "execution_count": null,
   "metadata": {},
   "outputs": [],
   "source": [
    "### Before we get into iterating over a list, let's go over the ways we can perform an interation. \n",
    "## While loops are one way we can do this. In essence:\n",
    "## while a specific condition is true, repeat performing the indexed code until the condition is no longer true. \n",
    "# For example: We're going shopping, and I am picking up my groceries in order.\n",
    "# Let's write some code that will let us see the total cost after I pick up 3 items, 5 items, or all of my items.\n",
    "\n",
    "shopping_cart = [13.99, 9.99, 4.49, 12.99, 11.99, 24.99, 22.00, 4.99, 1.25, 16.49]\n",
    "total_price = 0\n",
    "index = 0 \n",
    "while index <= ???:\n",
    "    cost_of_item = shopping_cart[index]\n",
    "    total_price = total_price + cost_of_item\n",
    "    index = index + 1\n",
    "\n",
    "total_price\n",
    "## Similarly (in a much simpler way):\n",
    "# sum(shopping_cart)"
   ]
  },
  {
   "cell_type": "code",
   "execution_count": null,
   "metadata": {},
   "outputs": [],
   "source": [
    "### Try it yourself: From the shopping cart list, calculate a 5% tax for the first 5 items and save those taxes in a new list.\n",
    "## Hint: to add a separate item to a list, you can do list.append(value). for example: empty_list.append(5): [] --> [5]\n",
    "# This will update the list; you do not need to save it in a new variable. \n",
    "\n",
    "shopping_cart = [13.99, 9.99, 4.49, 12.99, 11.99, 24.99, 22.00, 4.99, 1.25, 16.49]\n",
    "total_taxes = []\n",
    "index = 0\n",
    "while ???:\n",
    "    tax = ???\n",
    "    total_taxes.???\n",
    "    index = ???\n",
    "\n",
    "total_taxes"
   ]
  },
  {
   "cell_type": "code",
   "execution_count": null,
   "metadata": {},
   "outputs": [],
   "source": [
    "### Now, let's apply this concept to iterating through a list with a while loop. \n",
    "## Imagine we have a list of temperatures in F and we want to convert them to C.\n",
    "# Using the following function, let's iterate over a list and transform each value. \n",
    "\n",
    "def fahrenheit_to_celsius(tempf):\n",
    "    return (tempf - 32) * 5.0 / 9.0\n",
    "\n",
    "temperatures = [9, 14, 18, 12, -4, 16]\n",
    "\n",
    "index = 0\n",
    "while index < len(temperatures):\n",
    "    temperatures[index] = fahrenheit_to_celsius(temperatures[index])\n",
    "    index = index + 1\n",
    "\n",
    "temperatures"
   ]
  },
  {
   "cell_type": "code",
   "execution_count": null,
   "metadata": {},
   "outputs": [],
   "source": [
    "### Notice that it requires a few more lines of code to iterate through a full list.\n",
    "## So, let's use a for loop! For loops let you (1) iterate through a full array/list or (2) repeat a block of code many times.\n",
    "# For example: using the temperature question again\n",
    "\n",
    "temperatures = [9, 14, 18, 12, -4, 16]\n",
    "\n",
    "temperatures_list = []\n",
    "for temp in temperatures:\n",
    "    celsius = fahrenheit_to_celsius(temp)\n",
    "    temperatures_list.append(celsius)\n",
    "    \n",
    "temperatures_list\n",
    "\n",
    "### Notice we do not have to assign the index to 0 or update the index in each iteration. \n",
    "## We also do not call each temperature by using temperature[index]; \n",
    "# instead, temp stands in for a specific temperature at each index."
   ]
  },
  {
   "cell_type": "code",
   "execution_count": null,
   "metadata": {},
   "outputs": [],
   "source": [
    "### Let's practice. I have a list of strings with \"$\" at the front. \n",
    "## Let's use a for loop to get rid of those, and convert them to floats so we can work with them.\n",
    "# Hint: you can remove a character in a string by using string.replace(\"X\", \"\")\n",
    "\n",
    "prices = [\"$45\", \"$200\", \"$96\", \"$422\", \"$12\"]\n",
    "new_prices = []\n",
    "\n",
    "for price in prices:\n",
    "    no_dollar = ???\n",
    "    no_dollar_float = ???\n",
    "    new_prices.???\n",
    "    \n",
    "new_prices"
   ]
  },
  {
   "cell_type": "code",
   "execution_count": null,
   "metadata": {},
   "outputs": [],
   "source": [
    "### So, what if I want to do something many times instead of iterating through an array?\n",
    "## We can still use for loops to do so. However, in that case, we don't care about using the \"i\" in \"for i in array\"\n",
    "# The for loop will still iterate through the array (setting i to each value in that array),\n",
    "# but we will not reference i in the code because we care more about the length of the array (the number of iterations)\n",
    "# more than the values in the array. For example: I want to randomly roll a dice 1000 times.\n",
    "\n",
    "dice_sides = make_array(1, 2, 3, 4, 5, 6)\n",
    "results = make_array()\n",
    "num_rolls = 1000\n",
    "\n",
    "for i in np.arange(1000): ### We use np.arange because we need an array of a specific length to iterate through.\n",
    "    roll = np.random.choice(dice_sides)\n",
    "    results = np.append(results, roll)\n",
    "    \n",
    "results\n",
    "\n",
    "## Notice that lists and arrays are generally interchangeable for our purposes."
   ]
  },
  {
   "cell_type": "code",
   "execution_count": null,
   "metadata": {},
   "outputs": [],
   "source": [
    "### Let's practice one last time. Let's go a bit further in terms of using a for loop:\n",
    "## Let's say we don't care about every roll. I only want to count the number of times I get a roll 3 or less.\n",
    "# So, we can do this by using a counter (instead of a storage list/array) and if statement within the for loop.\n",
    "\n",
    "dice_sides = make_array(1, 2, 3, 4, 5, 6)\n",
    "counter = ???\n",
    "num_rolls = 1000\n",
    "for i in ???:\n",
    "    roll = ???\n",
    "    if ???:\n",
    "        ???\n",
    "counter\n",
    "\n",
    "## How do we find the proportion of rolls that were 3 or less out of our 1000 rolls?\n",
    "???"
   ]
  },
  {
   "cell_type": "code",
   "execution_count": null,
   "metadata": {},
   "outputs": [],
   "source": [
    "### Now you know about lists, while loops, and for loops!\n",
    "## In general: \n",
    "# lists are collections of ordered and interchangeable data. They are similar to arrays, but not the same. \n",
    "# While loops let us perform code while a specific condition is true.\n",
    "# For loops let us iterate through all values in an array OR perform a block of code many times."
   ]
  }
 ],
 "metadata": {
  "kernelspec": {
   "display_name": "Python 3",
   "language": "python",
   "name": "python3"
  },
  "language_info": {
   "codemirror_mode": {
    "name": "ipython",
    "version": 3
   },
   "file_extension": ".py",
   "mimetype": "text/x-python",
   "name": "python",
   "nbconvert_exporter": "python",
   "pygments_lexer": "ipython3",
   "version": "3.6.9"
  }
 },
 "nbformat": 4,
 "nbformat_minor": 4
}
