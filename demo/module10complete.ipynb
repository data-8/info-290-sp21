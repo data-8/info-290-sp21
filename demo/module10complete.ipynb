{
 "cells": [
  {
   "cell_type": "code",
   "execution_count": 4,
   "metadata": {},
   "outputs": [],
   "source": [
    "import numpy as np\n",
    "from datascience import *\n",
    "from math import *\n",
    "\n",
    "import matplotlib\n",
    "%matplotlib inline\n",
    "import matplotlib.pyplot as plt\n",
    "plt.style.use('fivethirtyeight') # error: plots --> plt"
   ]
  },
  {
   "cell_type": "markdown",
   "metadata": {},
   "source": [
    "# Resampling with Replacement\n",
    "\n",
    "Why do we resample with replacement? How is that different from resample without replacement? \n",
    "\n",
    "Recall that, in bootstrapping, we will resample with replacement the same sample size."
   ]
  },
  {
   "cell_type": "code",
   "execution_count": 8,
   "metadata": {},
   "outputs": [
    {
     "data": {
      "text/html": [
       "<table border=\"1\" class=\"dataframe\">\n",
       "    <thead>\n",
       "        <tr>\n",
       "            <th>MT1 %</th>\n",
       "        </tr>\n",
       "    </thead>\n",
       "    <tbody>\n",
       "        <tr>\n",
       "            <td>70   </td>\n",
       "        </tr>\n",
       "        <tr>\n",
       "            <td>71.25</td>\n",
       "        </tr>\n",
       "        <tr>\n",
       "            <td>58.75</td>\n",
       "        </tr>\n",
       "        <tr>\n",
       "            <td>61.25</td>\n",
       "        </tr>\n",
       "        <tr>\n",
       "            <td>71.25</td>\n",
       "        </tr>\n",
       "    </tbody>\n",
       "</table>\n",
       "<p>... (1651 rows omitted)</p>"
      ],
      "text/plain": [
       "<IPython.core.display.HTML object>"
      ]
     },
     "metadata": {},
     "output_type": "display_data"
    }
   ],
   "source": [
    "# This data are midterm scores from CS61A, Fall 2017\n",
    "scores = Table().read_table(\"scores.csv\")\n",
    "\n",
    "mt1_scores = scores.select(\"MT1 %\")\n",
    "mt1_scores.show(5)"
   ]
  },
  {
   "cell_type": "code",
   "execution_count": 9,
   "metadata": {},
   "outputs": [
    {
     "data": {
      "text/plain": [
       "70.28117451690821"
      ]
     },
     "execution_count": 9,
     "metadata": {},
     "output_type": "execute_result"
    }
   ],
   "source": [
    "# What is the original mean?\n",
    "np.mean(mt1_scores.column(0))\n"
   ]
  },
  {
   "cell_type": "code",
   "execution_count": 10,
   "metadata": {},
   "outputs": [
    {
     "data": {
      "text/html": [
       "<table border=\"1\" class=\"dataframe\">\n",
       "    <thead>\n",
       "        <tr>\n",
       "            <th>MT1 %</th>\n",
       "        </tr>\n",
       "    </thead>\n",
       "    <tbody>\n",
       "        <tr>\n",
       "            <td>80   </td>\n",
       "        </tr>\n",
       "        <tr>\n",
       "            <td>83.75</td>\n",
       "        </tr>\n",
       "        <tr>\n",
       "            <td>62.5 </td>\n",
       "        </tr>\n",
       "        <tr>\n",
       "            <td>76.25</td>\n",
       "        </tr>\n",
       "        <tr>\n",
       "            <td>95   </td>\n",
       "        </tr>\n",
       "    </tbody>\n",
       "</table>\n",
       "<p>... (1651 rows omitted)</p>"
      ],
      "text/plain": [
       "<IPython.core.display.HTML object>"
      ]
     },
     "metadata": {},
     "output_type": "display_data"
    }
   ],
   "source": [
    "# What if we sampled withOUT replacement?\n",
    "scores_n = scores.num_rows\n",
    "\n",
    "wo_replacement = mt1_scores.sample(scores_n, with_replacement = False)\n",
    "wo_replacement.show(5)"
   ]
  },
  {
   "cell_type": "code",
   "execution_count": 11,
   "metadata": {},
   "outputs": [
    {
     "data": {
      "text/plain": [
       "70.28117451690821"
      ]
     },
     "execution_count": 11,
     "metadata": {},
     "output_type": "execute_result"
    }
   ],
   "source": [
    "# Mean without replacement, same sample size\n",
    "np.mean(wo_replacement.column(0))\n",
    "\n",
    "# Why did we get the same mean as the original dataset?\n",
    "\n",
    "# sample without replacement, the same sample size\n",
    "# shuffling/permuting the data --> A/B test"
   ]
  },
  {
   "cell_type": "code",
   "execution_count": 21,
   "metadata": {},
   "outputs": [
    {
     "data": {
      "text/html": [
       "<table border=\"1\" class=\"dataframe\">\n",
       "    <thead>\n",
       "        <tr>\n",
       "            <th>MT1 %</th>\n",
       "        </tr>\n",
       "    </thead>\n",
       "    <tbody>\n",
       "        <tr>\n",
       "            <td>83.75</td>\n",
       "        </tr>\n",
       "        <tr>\n",
       "            <td>77.5 </td>\n",
       "        </tr>\n",
       "        <tr>\n",
       "            <td>77.5 </td>\n",
       "        </tr>\n",
       "        <tr>\n",
       "            <td>53.75</td>\n",
       "        </tr>\n",
       "        <tr>\n",
       "            <td>60   </td>\n",
       "        </tr>\n",
       "    </tbody>\n",
       "</table>\n",
       "<p>... (1651 rows omitted)</p>"
      ],
      "text/plain": [
       "<IPython.core.display.HTML object>"
      ]
     },
     "metadata": {},
     "output_type": "display_data"
    }
   ],
   "source": [
    "# Now, what if we sample with replacement?\n",
    "w_replacement = mt1_scores.sample(scores_n, with_replacement = True)\n",
    "w_replacement.show(5)"
   ]
  },
  {
   "cell_type": "code",
   "execution_count": 22,
   "metadata": {},
   "outputs": [
    {
     "data": {
      "text/plain": [
       "69.94376509661836"
      ]
     },
     "execution_count": 22,
     "metadata": {},
     "output_type": "execute_result"
    }
   ],
   "source": [
    "# Mean with replacement, same sample size\n",
    "np.mean(w_replacement.column(0))\n",
    "\n",
    "# we either include multiple copies of the same value\n",
    "# and/or we exclude some other values\n"
   ]
  },
  {
   "cell_type": "markdown",
   "metadata": {},
   "source": [
    "## Bootstrapping: What is the average MT1 score?\n",
    "\n",
    "The `scores` dataset is population-level; in other words, it has all of the information for every student in the class. That isn't good for our purpose, since there is no reason for us to do inferential statistics if we have all of the data. \n",
    "\n",
    "(Note: this does not happen very often at all; you'll usually start off with a sample.)\n",
    "\n",
    "Instead, let's imagine we randomly asked a sample of 60 students what they got on MT1. Then, let's use that sample of 60 to estimate what the whole class got on the exam."
   ]
  },
  {
   "cell_type": "code",
   "execution_count": 55,
   "metadata": {},
   "outputs": [
    {
     "data": {
      "text/plain": [
       "9"
      ]
     },
     "execution_count": 55,
     "metadata": {},
     "output_type": "execute_result"
    }
   ],
   "source": [
    "np.random.seed(3) # pre-determines the random result you will get\n",
    "np.random.choice(np.arange(1, 11))"
   ]
  },
  {
   "cell_type": "code",
   "execution_count": 26,
   "metadata": {},
   "outputs": [
    {
     "data": {
      "text/html": [
       "<table border=\"1\" class=\"dataframe\">\n",
       "    <thead>\n",
       "        <tr>\n",
       "            <th>MT1 %</th>\n",
       "        </tr>\n",
       "    </thead>\n",
       "    <tbody>\n",
       "        <tr>\n",
       "            <td>87.5 </td>\n",
       "        </tr>\n",
       "        <tr>\n",
       "            <td>67.5 </td>\n",
       "        </tr>\n",
       "        <tr>\n",
       "            <td>85   </td>\n",
       "        </tr>\n",
       "        <tr>\n",
       "            <td>58.75</td>\n",
       "        </tr>\n",
       "        <tr>\n",
       "            <td>68.75</td>\n",
       "        </tr>\n",
       "    </tbody>\n",
       "</table>\n",
       "<p>... (55 rows omitted)</p>"
      ],
      "text/plain": [
       "<IPython.core.display.HTML object>"
      ]
     },
     "metadata": {},
     "output_type": "display_data"
    }
   ],
   "source": [
    "np.random.seed(12345) # So we all get the same data\n",
    "\n",
    "class_sample = mt1_scores.sample(60, with_replacement = False)\n",
    "class_sample.show(5)"
   ]
  },
  {
   "cell_type": "code",
   "execution_count": 27,
   "metadata": {},
   "outputs": [
    {
     "data": {
      "text/plain": [
       "70.27083333333333"
      ]
     },
     "execution_count": 27,
     "metadata": {},
     "output_type": "execute_result"
    }
   ],
   "source": [
    "np.mean(class_sample.column(0))"
   ]
  },
  {
   "cell_type": "code",
   "execution_count": 40,
   "metadata": {},
   "outputs": [
    {
     "data": {
      "text/html": [
       "<table border=\"1\" class=\"dataframe\">\n",
       "    <thead>\n",
       "        <tr>\n",
       "            <th>MT1 %</th>\n",
       "        </tr>\n",
       "    </thead>\n",
       "    <tbody>\n",
       "        <tr>\n",
       "            <td>38.75</td>\n",
       "        </tr>\n",
       "        <tr>\n",
       "            <td>56.25</td>\n",
       "        </tr>\n",
       "        <tr>\n",
       "            <td>92.5 </td>\n",
       "        </tr>\n",
       "        <tr>\n",
       "            <td>61.25</td>\n",
       "        </tr>\n",
       "        <tr>\n",
       "            <td>82.5 </td>\n",
       "        </tr>\n",
       "        <tr>\n",
       "            <td>81.25</td>\n",
       "        </tr>\n",
       "        <tr>\n",
       "            <td>100  </td>\n",
       "        </tr>\n",
       "        <tr>\n",
       "            <td>98.75</td>\n",
       "        </tr>\n",
       "        <tr>\n",
       "            <td>68.75</td>\n",
       "        </tr>\n",
       "        <tr>\n",
       "            <td>100  </td>\n",
       "        </tr>\n",
       "    </tbody>\n",
       "</table>\n",
       "<p>... (50 rows omitted)</p>"
      ],
      "text/plain": [
       "MT1 %\n",
       "38.75\n",
       "56.25\n",
       "92.5\n",
       "61.25\n",
       "82.5\n",
       "81.25\n",
       "100\n",
       "98.75\n",
       "68.75\n",
       "100\n",
       "... (50 rows omitted)"
      ]
     },
     "execution_count": 40,
     "metadata": {},
     "output_type": "execute_result"
    }
   ],
   "source": [
    "## Question 1: Let's practice taking a resample with replacement.\n",
    "one_resample = class_sample.sample()\n",
    "# by default: same sample size as tbl, with replacement\n",
    "one_resample"
   ]
  },
  {
   "cell_type": "code",
   "execution_count": 32,
   "metadata": {},
   "outputs": [
    {
     "data": {
      "text/plain": [
       "False"
      ]
     },
     "execution_count": 32,
     "metadata": {},
     "output_type": "execute_result"
    }
   ],
   "source": [
    "# Did we get some variation?\n",
    "np.mean(class_sample.column(0)) == np.mean(one_resample.column(0))"
   ]
  },
  {
   "cell_type": "code",
   "execution_count": 57,
   "metadata": {},
   "outputs": [],
   "source": [
    "# Question 2: Resampling with replacement... many times (let's try 1000!)\n",
    "# calculate the statistic for each resample\n",
    "\n",
    "def bootstrap_stats(tbl, repetitions):\n",
    "    \"\"\"\n",
    "    tbl = your data, a 1-column table of numerical scores\n",
    "    repetitions = num bootstrap repetitions/resamples\n",
    "    \"\"\"\n",
    "    # Storage array for each resampled statistic (mean)\n",
    "    bootstrap_stats = make_array() \n",
    "\n",
    "    # Iterate to create many different resamples, and calculate each individual mean\n",
    "    for i in np.arange(repetitions):\n",
    "        resample = tbl.sample(tbl.num_rows, with_replacement = True)\n",
    "        resample_stat = np.mean(resample.column(0))\n",
    "        bootstrap_stats = np.append(bootstrap_stats, resample_stat)\n",
    "\n",
    "    # return the resampled statistic\n",
    "    return bootstrap_stats\n",
    "\n",
    "mt1_resampled_scores = bootstrap_stats(class_sample, 2000)"
   ]
  },
  {
   "cell_type": "code",
   "execution_count": null,
   "metadata": {},
   "outputs": [],
   "source": [
    "# sampling in datascience, given a table: \n",
    "tbl.sample(tbl.num_rows, with_replacement = True)\n",
    "\n",
    "# sampling in numpy, given an array:\n",
    "np.random.choice(array, size = len(array), replace = True)"
   ]
  },
  {
   "cell_type": "code",
   "execution_count": 69,
   "metadata": {},
   "outputs": [
    {
     "data": {
      "image/png": "[encoded data removed]",
      "text/plain": [
       "<Figure size 432x288 with 1 Axes>"
      ]
     },
     "metadata": {},
     "output_type": "display_data"
    }
   ],
   "source": [
    "## Question 3: Make a histogram of the resampled statistics\n",
    "\n",
    "#Table().with_column(\"Resampled Mean Scores\", mt1_resampled_scores).hist()\n",
    "plt.hist(mt1_resampled_scores, density = True);\n",
    "plt.title(\"Resampled MT1 Average Scores\");\n",
    "plt.ylabel(\"Density\");\n",
    "plt.xlabel(\"% Score\")\n",
    "plt.axvline(lower_bound, color = \"gold\");\n",
    "plt.axvline(upper_bound, color = \"gold\");"
   ]
  },
  {
   "cell_type": "code",
   "execution_count": 67,
   "metadata": {},
   "outputs": [
    {
     "data": {
      "text/plain": [
       "[65.95833333333333, 74.43802083333333]"
      ]
     },
     "execution_count": 67,
     "metadata": {},
     "output_type": "execute_result"
    }
   ],
   "source": [
    "## Question 4: Calculate a 95% confidence interval.\n",
    "# Hint: use the percentile function! It takes in 2 arguments,\n",
    "# the percent and the array of values\n",
    "\n",
    "lower_bound = percentile(2.5, mt1_resampled_scores) # datascience approach\n",
    "upper_bound = np.percentile(mt1_resampled_scores, 97.5) # numpy approach\n",
    "\n",
    "[lower_bound, upper_bound]"
   ]
  },
  {
   "cell_type": "code",
   "execution_count": 66,
   "metadata": {},
   "outputs": [],
   "source": [
    "# Finding bounds: confidence = C%\n",
    "# exclude = 100 - C% = X\n",
    "# Lower bound = 0 + X/2 = percentile for lower bound\n",
    "# Upper bound = 100 - X/2 = percentile for upper bound\n",
    "\n",
    "# 80% interval:\n",
    "# X = 100 - 80 = 20%\n",
    "# Lower = 0 + (20/2) = 10% \n",
    "# Upper = 100 - (20/2) = 90%\n",
    "# checking: upper - lower == C%\n",
    "# 90 - 10 = 80%"
   ]
  },
  {
   "cell_type": "markdown",
   "metadata": {},
   "source": [
    "## What do we conclude about the MT1 score based on the interval above?\n",
    "\n",
    "[65.95833333333333, 74.43802083333333]\n",
    "\n",
    "With 95% confidence, the average MT1 score for the population (CS61A in Fall 2017) is (most likely) between 65.95% and 74.44%. \n",
    "\n",
    "\"The probability of the true mean being between 65.95% and 74.44% is 95%.\" <-- DON'T SAY THIS"
   ]
  },
  {
   "cell_type": "code",
   "execution_count": 70,
   "metadata": {},
   "outputs": [
    {
     "data": {
      "text/plain": [
       "70.28117451690821"
      ]
     },
     "execution_count": 70,
     "metadata": {},
     "output_type": "execute_result"
    }
   ],
   "source": [
    "# The true MT1 score:\n",
    "true_val = np.mean(mt1_scores.column(0))\n",
    "true_val\n",
    "\n",
    "# we made a \"good\" interval! "
   ]
  },
  {
   "cell_type": "code",
   "execution_count": 78,
   "metadata": {},
   "outputs": [],
   "source": [
    "## Properties of intervals: what does confidence mean?\n",
    "\n",
    "def fast_intervals():\n",
    "    # Take a large, random sample without replacement (SRS)\n",
    "    our_large_sample = np.random.choice(mt1_scores.column(0), size = 60, replace = False)\n",
    "    scores = []\n",
    "    for i in np.arange(1000):\n",
    "        # Resample with replacement\n",
    "        sample = np.random.choice(our_large_sample, size = 60, replace = True)\n",
    "        # Calculate the resample statistic\n",
    "        scores.append(np.mean(sample))\n",
    "    # Generate an interval using percentiles\n",
    "    left, right = np.percentile(scores, 10), np.percentile(scores, 90) # 80% interval\n",
    "    return left, right"
   ]
  },
  {
   "cell_type": "code",
   "execution_count": 79,
   "metadata": {},
   "outputs": [
    {
     "data": {
      "image/png": "[encoded data removed]",
      "text/plain": [
       "<Figure size 432x288 with 1 Axes>"
      ]
     },
     "metadata": {},
     "output_type": "display_data"
    }
   ],
   "source": [
    "# Making some intervals and a graph; it'll take a sec\n",
    "intervals = [fast_intervals() for i in range(100)]\n",
    "bounds = list(zip(*intervals))\n",
    "\n",
    "plt.xlim(min(bounds[0]), max(bounds[1]));\n",
    "plt.ylim(0, 100);\n",
    "step = 0\n",
    "for interval in intervals:\n",
    "    plt.plot(interval, (step, step), color = \"gold\");\n",
    "    step += 4\n",
    "\n",
    "plt.axvline(true_val, color = \"navy\");\n",
    "plt.xlabel(\"MT1 Score Average\");"
   ]
  },
  {
   "cell_type": "code",
   "execution_count": 80,
   "metadata": {},
   "outputs": [
    {
     "data": {
      "text/plain": [
       "79"
      ]
     },
     "execution_count": 80,
     "metadata": {},
     "output_type": "execute_result"
    }
   ],
   "source": [
    "# Confidence refers to process of making intervals\n",
    "# from: taking a large random sample --> calculating the percentiles of the resampled statistics\n",
    "captured = 0\n",
    "for i in intervals:\n",
    "    captured = captured + (i[0] <= true_val <= i[1]) # Did this interval capture the parameter?\n",
    "    \n",
    "captured # Number of intervals that got the parameter, out of 100"
   ]
  },
  {
   "cell_type": "code",
   "execution_count": 77,
   "metadata": {},
   "outputs": [
    {
     "data": {
      "text/plain": [
       "8000.0"
      ]
     },
     "execution_count": 77,
     "metadata": {},
     "output_type": "execute_result"
    }
   ],
   "source": [
    "# Manually creating + checking many intervals can be computationally intensive\n",
    "# But in theory, if we made 10000 intervals, ? will capture true_val\n",
    "\n",
    "# confidence = 80% --> cutoff would be 20% --> 20% will miss\n",
    "# confidence = 95% --> cutoff of 5% --> 5% will miss\n",
    "# 99% --> cutoff of 1% --> 1% of intervals we make will \"miss\"\n",
    "\n",
    "num_good_intervals = 0.80 * 10000\n",
    "num_good_intervals"
   ]
  },
  {
   "cell_type": "markdown",
   "metadata": {},
   "source": [
    "## Hypothesis testing with confidence intervals\n",
    "\n",
    "Remember from a few weeks ago, we had a hunch that MT2 was significantly more difficult than MT1 in this dataset, and we proved it with a hypothesis test.  \n",
    "\n",
    "If it was more difficult, this would influence any further analysis we do with the data -- if the means were significantly different, we should not do a simple comparison between exam 1 and exam 2, since our analysis will reflect the difficulty of the exams moreso than an individual's improvement.\n",
    "\n",
    "So: let's figure out if there was a significant difference! Let's use a different approach - we can use hypothesis testing with a confidence interval. "
   ]
  },
  {
   "cell_type": "code",
   "execution_count": 81,
   "metadata": {},
   "outputs": [
    {
     "data": {
      "text/html": [
       "<table border=\"1\" class=\"dataframe\">\n",
       "    <thead>\n",
       "        <tr>\n",
       "            <th>Mentored</th> <th>MT1 %</th> <th>MT2 %</th> <th>difference</th>\n",
       "        </tr>\n",
       "    </thead>\n",
       "    <tbody>\n",
       "        <tr>\n",
       "            <td>False   </td> <td>87.5 </td> <td>94   </td> <td>6.5       </td>\n",
       "        </tr>\n",
       "        <tr>\n",
       "            <td>False   </td> <td>67.5 </td> <td>41   </td> <td>-26.5     </td>\n",
       "        </tr>\n",
       "        <tr>\n",
       "            <td>False   </td> <td>85   </td> <td>97   </td> <td>12        </td>\n",
       "        </tr>\n",
       "        <tr>\n",
       "            <td>False   </td> <td>58.75</td> <td>35   </td> <td>-23.75    </td>\n",
       "        </tr>\n",
       "        <tr>\n",
       "            <td>True    </td> <td>68.75</td> <td>60   </td> <td>-8.75     </td>\n",
       "        </tr>\n",
       "    </tbody>\n",
       "</table>\n",
       "<p>... (55 rows omitted)</p>"
      ],
      "text/plain": [
       "<IPython.core.display.HTML object>"
      ]
     },
     "metadata": {},
     "output_type": "display_data"
    }
   ],
   "source": [
    "# Imagine we have a sample of 60 students, or 2 lab sections. \n",
    "np.random.seed(12345);\n",
    "\n",
    "exams = Table().read_table(\"scores.csv\").sample(60, with_replacement = False)\n",
    "exams.show(5)"
   ]
  },
  {
   "cell_type": "code",
   "execution_count": 82,
   "metadata": {},
   "outputs": [
    {
     "data": {
      "image/png": "[encoded data removed]",
      "text/plain": [
       "<Figure size 432x288 with 1 Axes>"
      ]
     },
     "metadata": {},
     "output_type": "display_data"
    }
   ],
   "source": [
    "# Let's compare the distributions.\n",
    "exams.hist([\"MT1 %\", \"MT2 %\"])"
   ]
  },
  {
   "cell_type": "markdown",
   "metadata": {},
   "source": [
    "**In this cell, answer the following:**\n",
    "\n",
    "What is our test statistic?\n",
    "X = Average difference between MT2 - MT1\n",
    "\n",
    "\n",
    "What is our null hypothesis?\n",
    "X = 0\n",
    "\n",
    "\n",
    "What is our alternative hypothesis?\n",
    "X != 0\n",
    "\n"
   ]
  },
  {
   "cell_type": "code",
   "execution_count": 84,
   "metadata": {},
   "outputs": [
    {
     "data": {
      "text/plain": [
       "array([  6.5 , -26.5 ,  12.  , -23.75,  -8.75, -31.25, -15.75,  10.5 ,\n",
       "        14.5 ,  10.  ,  -9.75,   3.75,   0.25, -37.  , -34.25, -22.25,\n",
       "         0.75,  12.5 , -34.5 , -31.75,  -1.  , -12.  ,  -3.25,  -4.75,\n",
       "        -5.  , -12.5 , -35.5 , -19.25,  -7.75, -19.25,   2.75, -23.5 ,\n",
       "        10.  , -13.5 ,  11.25, -28.25,  -3.25,  10.  ,  -1.5 , -20.75,\n",
       "         7.  ,  28.75, -16.75,   6.5 ,  -4.5 ,  -5.  , -19.25,   0.5 ,\n",
       "        10.75,  -5.  , -11.  ,  -1.  , -30.25,   4.  ,   9.25,  -8.75,\n",
       "       -22.5 ,  -1.25,  -8.75,  15.25])"
      ]
     },
     "execution_count": 84,
     "metadata": {},
     "output_type": "execute_result"
    }
   ],
   "source": [
    "exams.column(\"difference\")"
   ]
  },
  {
   "cell_type": "code",
   "execution_count": 85,
   "metadata": {},
   "outputs": [
    {
     "data": {
      "text/plain": [
       "-7.229166666666667"
      ]
     },
     "execution_count": 85,
     "metadata": {},
     "output_type": "execute_result"
    }
   ],
   "source": [
    "# So, was there a difference between the two exams, given (MT2 - MT1)?\n",
    "# Q1: Calculate the observed statistic from the dataset. \n",
    "# Hint -- we did most of this for you already (look at exams)\n",
    "\n",
    "obs_diff = np.average(exams.column(\"difference\"))\n",
    "obs_diff"
   ]
  },
  {
   "cell_type": "code",
   "execution_count": 86,
   "metadata": {},
   "outputs": [
    {
     "data": {
      "text/plain": [
       "array([ -7.375     ,  -8.75      , -11.2125    ,  -5.82916667,\n",
       "        -9.57083333,  -6.075     ,  -7.2       ,  -2.72916667,\n",
       "        -7.2375    ,  -6.35416667,  -7.70833333, -11.17916667,\n",
       "       -12.3       ,  -9.12916667, -10.375     ,  -8.1       ,\n",
       "        -5.5625    ,  -8.5125    ,  -5.1625    ,  -8.35833333,\n",
       "        -6.24166667,  -6.47916667, -13.64583333, -10.11666667,\n",
       "        -8.69166667,  -9.42916667,  -4.35416667,  -7.96666667,\n",
       "        -7.625     ,  -7.00416667, -12.0875    ,  -7.9375    ,\n",
       "        -9.46666667, -11.4375    ,  -6.20416667,  -7.24583333,\n",
       "        -8.46666667,  -3.925     , -10.31666667,  -9.525     ,\n",
       "        -7.73333333,  -4.7625    ,  -5.50416667,  -7.80416667,\n",
       "        -7.35416667,  -7.71666667,  -2.39166667,  -7.18333333,\n",
       "        -5.18333333,  -8.10416667,  -6.29166667,  -3.44583333,\n",
       "        -6.91666667,  -7.97916667,  -5.55      ,  -6.09166667,\n",
       "        -6.70416667,  -7.22083333,  -8.35416667,  -4.60833333,\n",
       "        -7.25416667, -11.22916667,  -7.35833333,  -6.75833333,\n",
       "        -8.78333333,  -6.92083333,  -6.92916667,  -6.6875    ,\n",
       "        -7.25416667,  -4.51666667,  -8.98333333,  -8.825     ,\n",
       "        -8.54583333,  -5.75833333,  -7.4875    ,  -5.37083333,\n",
       "        -3.80416667, -10.8375    ,  -8.71666667, -10.4       ,\n",
       "        -7.77083333,  -4.2375    ,  -6.37916667, -10.54583333,\n",
       "        -7.4375    ,  -8.4375    ,  -6.42083333,  -7.84166667,\n",
       "        -5.00416667,  -1.60833333,  -4.87916667,  -9.075     ,\n",
       "        -6.05416667, -10.35416667,  -6.8125    ,  -4.85416667,\n",
       "        -9.1       ,  -4.95416667,  -8.30833333,  -4.57083333,\n",
       "        -7.91666667,  -5.63333333,  -6.95      ,  -5.5125    ,\n",
       "        -8.925     ,  -9.60416667,  -7.17083333,  -8.125     ,\n",
       "        -4.7       ,  -9.4125    ,  -5.03333333, -10.9375    ,\n",
       "        -4.9875    ,  -6.48333333,  -8.64583333,  -7.7875    ,\n",
       "        -4.60416667,  -7.775     ,  -7.05833333,  -6.40833333,\n",
       "       -12.42916667,  -5.79166667,  -9.575     ,  -6.82083333,\n",
       "        -7.46666667,  -9.10416667,  -6.59583333,  -9.89583333,\n",
       "        -9.34166667,  -6.27083333,  -8.9625    ,  -9.91666667,\n",
       "        -9.0875    ,  -7.29166667,  -5.375     ,  -7.525     ,\n",
       "        -4.3625    ,  -2.5875    ,  -6.30416667,  -6.11666667,\n",
       "        -4.9       ,  -3.82083333,  -8.        ,  -6.14166667,\n",
       "        -5.42916667,  -6.41666667,  -7.17083333,  -0.6625    ,\n",
       "        -9.26666667,  -5.70833333,  -7.01666667,  -5.425     ,\n",
       "       -10.275     ,  -4.48333333,  -8.75      ,  -6.17916667,\n",
       "        -4.65416667,  -7.6125    ,  -6.00416667,  -8.2       ,\n",
       "       -11.3125    ,  -8.875     ,  -7.94166667,  -7.9875    ,\n",
       "        -7.1875    , -10.30833333,  -4.4875    ,  -8.5625    ,\n",
       "        -4.94583333,  -7.125     ,  -7.17916667,  -7.35416667,\n",
       "        -6.16666667,  -7.27916667,  -8.49166667,  -8.98333333,\n",
       "        -7.00416667,  -8.49583333,  -7.425     ,  -8.94166667,\n",
       "        -7.425     ,  -8.75      ,  -9.5375    ,  -6.90833333,\n",
       "        -8.88333333,  -7.30833333,  -7.07083333,  -7.95416667,\n",
       "        -8.5375    ,  -6.61666667,  -6.6875    ,  -7.4625    ,\n",
       "        -7.27083333,  -7.6       ,  -8.0375    ,  -9.10833333,\n",
       "        -5.80833333,  -5.32916667,  -7.72916667,  -9.9125    ,\n",
       "        -9.11666667,  -8.54583333, -11.74166667,  -8.35833333,\n",
       "        -6.03333333, -11.82916667,  -9.41666667,  -7.27083333,\n",
       "        -8.57083333,  -8.91666667,  -7.86666667, -12.02083333,\n",
       "        -6.93333333,  -1.84166667,  -8.84583333,  -6.81666667,\n",
       "        -7.3125    ,  -6.475     ,  -7.39583333,  -7.20416667,\n",
       "       -10.15      ,  -7.55416667,  -7.2125    ,  -8.27916667,\n",
       "        -6.91666667, -10.42083333,  -5.24583333,  -6.35833333,\n",
       "        -9.49166667,  -5.70833333,  -5.9375    ,  -8.75833333,\n",
       "        -9.70416667, -10.17083333,  -8.02083333,  -5.65      ,\n",
       "        -6.45      ,  -4.83333333,  -7.72916667,  -6.19166667,\n",
       "        -7.77083333,  -3.90833333,  -6.87916667,  -8.25416667,\n",
       "        -9.575     , -10.2625    ,  -8.90416667,  -7.57916667,\n",
       "        -9.86666667,  -6.23333333,  -6.33333333,  -8.18333333,\n",
       "        -6.6625    ,  -8.81666667,  -9.5       ,  -8.47083333,\n",
       "        -7.62916667,  -6.59583333,  -7.02916667,  -9.67916667,\n",
       "        -7.37916667, -13.4375    ,  -5.91666667,  -8.00416667,\n",
       "        -3.14166667,  -6.2625    ,  -8.68333333,  -6.18333333,\n",
       "        -4.05      ,  -9.62083333,  -8.0625    ,  -5.675     ,\n",
       "        -4.9       ,  -9.42083333,  -4.17916667,  -6.30833333,\n",
       "        -4.83333333,  -8.65      ,  -6.7625    ,  -5.39166667,\n",
       "        -8.40833333,  -4.94583333,  -5.0625    ,  -5.9125    ,\n",
       "        -4.90416667,  -5.49583333,  -7.0125    ,  -5.75833333,\n",
       "        -8.04583333,  -7.4625    ,  -3.1125    ,  -6.65416667,\n",
       "        -7.525     ,  -2.6625    ,  -5.7375    ,  -8.99166667,\n",
       "        -6.38333333,  -7.50416667,  -8.9875    ,  -4.425     ,\n",
       "        -7.5875    ,  -9.125     ,  -5.44583333,  -8.        ,\n",
       "        -4.23333333,  -6.1       ,  -7.26666667,  -6.275     ,\n",
       "        -6.62916667,  -6.025     ,  -8.5625    ,  -7.35      ,\n",
       "        -2.82083333,  -4.55833333,  -5.525     ,  -4.88333333,\n",
       "        -6.31666667, -11.425     ,  -8.2375    , -11.5       ,\n",
       "        -8.275     , -11.32916667,  -7.82083333,  -7.11666667,\n",
       "        -9.88333333,  -5.02916667,  -4.55416667,  -8.2       ,\n",
       "        -4.1375    ,  -8.39583333, -12.15      ,  -5.59166667,\n",
       "        -7.11666667,  -8.50833333,  -2.425     ,  -8.37083333,\n",
       "        -4.525     ,  -6.24583333,  -6.06666667,  -7.425     ,\n",
       "        -7.8       ,  -5.2       ,  -7.23333333,  -5.97083333,\n",
       "       -12.02916667,  -3.7375    ,  -4.06666667,  -4.39166667,\n",
       "        -5.29166667,  -8.52083333,  -8.34166667,  -8.10416667,\n",
       "        -6.17916667,  -8.15833333,  -8.75416667,  -4.        ,\n",
       "        -6.02916667,  -7.79166667,  -5.51666667,  -5.38333333,\n",
       "        -8.10416667,  -6.2       ,  -7.1625    ,  -1.7875    ,\n",
       "        -7.52083333,  -6.16666667,  -6.93333333,  -6.73333333,\n",
       "        -8.38333333,  -6.43333333,  -8.24583333,  -6.41666667,\n",
       "        -8.73333333,  -5.34583333,  -8.87083333,  -7.6       ,\n",
       "        -7.75833333,  -9.22083333,  -8.24583333,  -2.54583333,\n",
       "        -5.70833333,  -6.825     , -10.        ,  -6.3875    ,\n",
       "        -7.6875    ,  -7.47083333,  -9.525     ,  -5.30416667,\n",
       "        -8.97916667, -10.87916667,  -2.39583333,  -8.00833333,\n",
       "        -5.42083333,  -6.1625    ,  -7.625     ,  -8.27083333,\n",
       "        -7.23333333,  -7.12083333,  -7.20833333,  -7.55      ,\n",
       "        -4.84583333,  -5.62916667,  -9.76666667,  -6.97916667,\n",
       "        -7.2375    ,  -7.59166667,  -5.38333333,  -8.49583333,\n",
       "        -5.49166667,  -7.45      ,  -4.6625    ,  -9.75833333,\n",
       "        -5.55416667,  -7.2625    ,  -9.72083333,  -6.10833333,\n",
       "        -5.50416667,  -7.7875    ,  -6.90833333,  -6.7625    ,\n",
       "        -5.93333333,  -6.7625    ,  -8.85      ,  -6.10416667,\n",
       "        -7.86666667,  -6.35416667,  -9.68333333, -10.64166667,\n",
       "        -6.6375    ,  -5.45      ,  -7.0875    ,  -4.85833333,\n",
       "       -10.38333333,  -6.85833333,  -7.24166667, -10.3375    ,\n",
       "        -7.67916667,  -9.19583333,  -6.18333333,  -9.94166667,\n",
       "        -8.55      ,  -6.34166667,  -7.96666667,  -3.96666667,\n",
       "        -7.94583333,  -6.68333333,  -7.86666667,  -6.0625    ,\n",
       "       -11.9125    ,  -4.90833333, -10.11666667,  -6.2375    ,\n",
       "       -11.5875    ,  -6.5       ,  -5.58333333,  -8.52916667,\n",
       "        -8.8875    ,  -7.17916667,  -9.37916667,  -5.875     ,\n",
       "        -4.50833333,  -8.71666667,  -7.80416667,  -7.31666667,\n",
       "        -3.04583333,  -8.13333333,  -6.49166667,  -9.54583333,\n",
       "        -5.9875    ,  -9.04166667,  -7.64583333,  -6.00416667,\n",
       "        -6.9125    ,  -6.76666667,  -5.29583333,  -9.37916667,\n",
       "        -9.83333333,  -9.32916667,  -4.25      ,  -6.5375    ,\n",
       "        -3.00416667, -11.7375    ,  -6.4625    ,  -6.9625    ,\n",
       "        -6.70833333,  -7.3125    ,  -3.42083333,  -7.14166667,\n",
       "        -4.4375    ,  -6.8       ,  -8.275     ,  -4.48333333,\n",
       "        -8.33333333,  -9.98333333,  -8.075     ,  -7.8       ,\n",
       "       -10.69166667,  -3.3375    ,  -5.80416667, -10.75416667,\n",
       "        -6.92916667,  -7.48333333,  -8.34166667,  -7.64166667,\n",
       "        -2.49583333,  -4.15      ,  -8.28333333,  -4.31666667,\n",
       "        -8.8875    ,  -7.74166667,  -9.54583333,  -7.375     ,\n",
       "        -4.35833333,  -8.975     ,  -6.17083333,  -3.30833333,\n",
       "        -7.26666667,  -9.72083333,  -7.27083333,  -9.3125    ,\n",
       "        -8.4125    ,  -8.6125    ,  -5.69166667,  -6.32083333,\n",
       "        -3.25833333,  -8.22083333,  -9.50416667,  -5.4125    ,\n",
       "        -9.59166667,  -6.5       ,  -7.4       ,  -6.78333333,\n",
       "        -8.4125    ,  -6.7625    ,  -9.02916667,  -9.19583333,\n",
       "        -7.72083333,  -8.32916667,  -7.66666667,  -5.27083333,\n",
       "        -5.27916667,  -5.09583333, -10.46666667,  -5.47916667,\n",
       "        -6.70833333,  -8.75      ,  -6.75      ,  -5.32083333,\n",
       "        -6.20833333,  -4.95833333,  -7.52083333,  -8.05416667,\n",
       "        -7.78333333,  -9.55416667,  -8.70416667,  -6.57083333,\n",
       "        -7.45833333,  -9.275     , -12.03333333,  -6.725     ,\n",
       "        -8.4       ,  -7.1       ,  -6.57083333,  -4.90833333,\n",
       "        -4.4875    , -10.39166667,  -9.32083333,  -6.55416667,\n",
       "        -7.45833333,  -5.74166667,  -9.14583333, -10.15416667,\n",
       "        -6.43333333,  -7.95833333,  -4.95833333,  -2.80416667,\n",
       "        -7.7       ,  -9.43333333,  -7.46666667,  -6.6875    ,\n",
       "        -6.675     ,  -7.48333333,  -9.67916667,  -8.275     ,\n",
       "        -4.55      ,  -4.27916667,  -6.34583333,  -8.86666667,\n",
       "        -8.42916667,  -8.80416667,  -5.55416667,  -9.33333333,\n",
       "        -6.875     ,  -8.41666667, -11.5       ,  -9.05      ,\n",
       "        -5.98333333,  -6.9125    , -10.18333333,  -8.9625    ,\n",
       "        -6.45      ,  -9.67083333,  -8.99583333,  -9.04166667,\n",
       "        -6.20833333,  -8.3375    ,  -3.14166667, -13.2       ,\n",
       "        -7.3       ,  -4.73333333,  -8.07083333,  -5.89583333,\n",
       "        -7.15833333,  -6.30833333,  -5.99583333,  -7.54583333,\n",
       "        -7.64583333,  -7.47083333,  -7.45416667,  -6.24583333,\n",
       "        -8.55      ,  -5.50833333,  -6.65      ,  -7.3       ,\n",
       "       -10.7125    ,  -6.575     ,  -6.37916667,  -4.72083333,\n",
       "        -8.67083333,  -6.875     ,  -7.51666667, -10.225     ,\n",
       "        -8.92083333,  -7.77083333,  -5.78333333,  -5.83333333,\n",
       "        -3.58333333,  -7.80416667,  -9.0875    ,  -8.99166667,\n",
       "        -6.02083333,  -4.0875    ,  -6.77916667, -11.4375    ,\n",
       "        -8.71666667,  -7.325     ,  -4.725     ,  -5.225     ,\n",
       "        -9.12083333,  -7.25      , -10.61666667,  -5.20416667,\n",
       "        -8.9125    ,  -5.225     ,  -8.56666667,  -1.6875    ,\n",
       "        -3.44166667,  -6.875     ,  -5.76666667,  -5.27916667,\n",
       "        -5.70416667,  -6.97083333,  -3.6875    ,  -7.875     ,\n",
       "        -8.0125    ,  -8.18333333,  -3.18333333,  -7.22083333,\n",
       "        -9.22916667,  -4.72916667, -10.26666667,  -8.60416667,\n",
       "        -7.90416667,  -7.53333333,  -6.60833333,  -6.05      ,\n",
       "       -10.29583333,  -8.92916667,  -6.12916667, -10.49583333,\n",
       "        -5.2       ,  -3.97916667,  -8.72916667, -10.4       ,\n",
       "        -3.5875    ,  -8.51666667, -10.75833333,  -8.68333333,\n",
       "        -8.19583333,  -6.96666667,  -4.94583333,  -5.125     ,\n",
       "        -7.74166667,  -5.74166667,  -6.90416667,  -2.75      ,\n",
       "        -8.9375    ,  -6.18333333,  -8.77916667,  -9.175     ,\n",
       "       -10.3       ,  -6.72083333,  -6.27916667,  -5.44583333,\n",
       "        -6.56666667,  -7.9125    ,  -6.825     ,  -6.875     ,\n",
       "        -9.25      ,  -7.22916667,  -7.80833333,  -7.39166667,\n",
       "        -5.6875    ,  -7.04583333,  -8.86666667,  -9.12083333,\n",
       "       -11.875     ,  -9.4       ,  -6.4625    , -10.07916667,\n",
       "        -7.2375    ,  -6.42916667,  -4.20416667,  -3.97083333,\n",
       "        -6.75833333,  -7.0375    ,  -7.69583333, -11.64166667,\n",
       "       -10.34583333,  -9.05      ,  -7.4       ,  -7.35833333,\n",
       "        -8.12916667,  -3.71666667,  -5.4125    , -12.62916667,\n",
       "        -7.1       ,  -7.47916667,  -5.225     ,  -8.95416667,\n",
       "        -4.55416667, -10.32916667,  -5.81666667,  -8.4375    ,\n",
       "       -11.17083333,  -8.9125    , -10.55      ,  -5.39166667,\n",
       "        -7.3125    ,  -7.95      , -10.30416667,  -7.5375    ,\n",
       "        -7.69583333,  -6.40833333, -10.70833333,  -7.60833333,\n",
       "        -6.3625    ,  -4.19166667,  -6.27083333, -11.        ,\n",
       "       -10.26666667,  -9.97083333,  -9.32916667,  -6.56666667,\n",
       "       -10.2375    ,  -7.86666667,  -8.49166667,  -4.6375    ,\n",
       "        -4.825     ,  -8.38333333,  -9.05833333,  -9.90416667,\n",
       "        -5.64583333,  -6.27083333,  -6.19583333,  -8.4625    ,\n",
       "        -5.70416667,  -9.50416667,  -8.7125    ,  -5.7625    ,\n",
       "        -7.85833333,  -6.72916667,  -6.325     ,  -6.90416667,\n",
       "        -5.07916667,  -9.725     ,  -7.5625    ,  -9.71666667,\n",
       "        -9.4       ,  -5.83333333,  -8.79166667,  -4.04583333,\n",
       "        -6.33333333,  -4.7375    ,  -6.56666667,  -8.9625    ,\n",
       "        -6.06666667,  -6.19166667,  -6.34166667,  -6.70833333,\n",
       "        -8.93333333,  -5.39583333,  -7.11666667,  -5.825     ,\n",
       "        -7.82083333,  -6.44583333,  -3.6625    ,  -7.24166667,\n",
       "        -7.5       ,  -3.80833333,  -5.45      ,  -5.22916667,\n",
       "        -4.27083333,  -7.09166667,  -7.79166667,  -6.275     ,\n",
       "        -7.525     ,  -5.3       ,  -8.91666667,  -7.66666667,\n",
       "        -6.35833333,  -9.0625    , -10.16666667,  -7.41666667,\n",
       "        -8.55833333,  -9.1       ,  -9.55416667,  -7.39583333,\n",
       "       -11.58333333,  -4.39166667,  -5.2625    , -11.68333333,\n",
       "        -6.00833333,  -5.78333333,  -6.77083333,  -1.89166667,\n",
       "        -6.925     ,  -4.90416667,  -5.22916667,  -8.92083333,\n",
       "        -5.87916667,  -7.35      ,  -3.17916667,  -2.44583333,\n",
       "        -7.46666667,  -5.1875    ,  -7.01666667,  -8.9625    ,\n",
       "        -4.35      ,  -5.2375    ,  -7.34583333,  -5.63333333,\n",
       "        -5.175     ,  -8.58333333,  -9.95416667,  -6.78333333,\n",
       "        -6.5375    , -10.09583333,  -8.1625    ,  -1.42916667,\n",
       "        -7.84583333,  -6.87916667,  -7.15      ,  -7.32916667,\n",
       "        -6.29583333,  -6.23333333,  -6.20833333,  -7.94583333,\n",
       "        -1.6375    ,  -6.61666667,  -4.8875    ,  -7.16666667,\n",
       "        -9.68333333,  -4.51666667, -12.45833333,  -6.16666667,\n",
       "       -11.1875    ,  -8.87083333,  -9.825     ,  -3.9875    ,\n",
       "       -10.0125    ,  -7.30833333,  -7.64583333,  -7.06666667,\n",
       "        -6.29166667,  -6.15833333,  -6.19583333,  -7.22083333,\n",
       "        -7.85416667,  -3.99166667,  -7.8125    ,  -5.55      ,\n",
       "        -6.88333333,  -7.45416667,  -7.3375    ,  -6.3125    ,\n",
       "        -6.775     ,  -6.6375    , -10.40833333,  -9.63333333,\n",
       "       -10.48333333,  -8.90416667,  -7.80416667, -10.5875    ,\n",
       "        -4.55833333,  -9.50416667,  -6.74583333,  -5.27083333,\n",
       "       -10.69583333,  -9.34583333,  -5.3       ,  -8.975     ,\n",
       "        -4.94166667, -10.8625    ,  -6.325     , -12.0875    ,\n",
       "        -7.4125    ,  -6.34166667,  -6.95833333,  -5.95      ,\n",
       "        -7.30416667,  -5.37083333,  -6.3875    ,  -6.79583333,\n",
       "        -6.775     ,  -6.02916667,  -2.83333333,  -6.8625    ,\n",
       "       -13.10416667,  -8.60833333,  -6.07083333,  -9.35      ,\n",
       "        -6.42083333,  -8.74166667,  -6.49166667,  -5.52083333,\n",
       "        -5.47916667,  -6.62083333,  -6.8625    , -10.75416667,\n",
       "       -10.33333333,  -6.14583333,  -7.0125    ,  -6.54166667,\n",
       "        -6.8       ,  -8.1375    ,  -9.62083333,  -5.76666667,\n",
       "        -7.        ,  -6.77083333,  -5.975     ,  -7.925     ,\n",
       "        -6.2625    ,  -7.275     ,  -9.64583333,  -5.8       ,\n",
       "        -6.6375    ,  -7.70833333,  -5.25833333, -11.89166667,\n",
       "        -1.0625    ,  -6.625     ,  -8.13333333,  -5.07916667,\n",
       "        -7.13333333,  -5.73333333,  -8.75      ,  -5.76666667,\n",
       "        -7.40416667,  -7.82916667,  -7.5625    , -10.5875    ,\n",
       "        -7.94583333,  -4.35416667,  -9.75833333,  -3.64166667,\n",
       "        -6.75833333,  -5.61666667,  -8.075     ,  -8.87916667,\n",
       "        -7.24583333,  -5.78333333, -12.41666667,  -5.93333333,\n",
       "        -6.95833333,  -4.70416667,  -5.83333333,  -4.05      ,\n",
       "        -5.60833333,  -8.54583333,  -6.9375    ,  -4.22916667,\n",
       "        -3.87083333,  -8.78333333,  -4.275     ,  -3.7375    ,\n",
       "        -5.79166667,  -7.67916667,  -5.86666667,  -7.375     ])"
      ]
     },
     "execution_count": 86,
     "metadata": {},
     "output_type": "execute_result"
    }
   ],
   "source": [
    "# Let's go bootstrap! Let's do 1000 repetitions\n",
    "exam_diffs = exams.select(\"difference\")\n",
    "\n",
    "resamp_diff_means = bootstrap_stats(exam_diffs, 1000)\n",
    "resamp_diff_means"
   ]
  },
  {
   "cell_type": "code",
   "execution_count": 89,
   "metadata": {},
   "outputs": [
    {
     "data": {
      "image/png": "[encoded data removed]",
      "text/plain": [
       "<Figure size 432x288 with 1 Axes>"
      ]
     },
     "metadata": {},
     "output_type": "display_data"
    }
   ],
   "source": [
    "import seaborn as sns # aesthetic matplotlib, with more statistical plots\n",
    "\n",
    "sns.histplot(resamp_diff_means, stat = \"density\", kde = True); #kde = kernel density estimator, a smoothed curve"
   ]
  },
  {
   "cell_type": "code",
   "execution_count": 90,
   "metadata": {},
   "outputs": [
    {
     "data": {
      "text/plain": [
       "[-10.641666666666667, -3.970833333333333]"
      ]
     },
     "execution_count": 90,
     "metadata": {},
     "output_type": "execute_result"
    }
   ],
   "source": [
    "# Q3: Calculate a 90% interval for this data. \n",
    "# Bonus: what is our p-value cutoff/level of significance?\n",
    "\n",
    "# c = 90\n",
    "# x = 100 - 90 = 10\n",
    "# lower = 0 + 10/2 = 5\n",
    "# upper = 100 - 10/2 = 95\n",
    "# 95 - 5 = 90 = c\n",
    "\n",
    "lower = percentile(5, resamp_diff_means)\n",
    "upper = percentile(95, resamp_diff_means)\n",
    "\n",
    "[lower, upper]"
   ]
  },
  {
   "cell_type": "code",
   "execution_count": 95,
   "metadata": {},
   "outputs": [
    {
     "data": {
      "image/png": "[encoded data removed]",
      "text/plain": [
       "<Figure size 432x288 with 1 Axes>"
      ]
     },
     "metadata": {},
     "output_type": "display_data"
    }
   ],
   "source": [
    "# Q4: Finally, graph the distribution of resampled means.\n",
    "# use plt (matplotlib.pyplot) to show the bounds of the interval.\n",
    "\n",
    "plt.hist(resamp_diff_means, density = True);\n",
    "plt.xlim(-15, 1);\n",
    "plt.scatter(0, 0, color = \"red\"); # null estimate\n",
    "plt.axvline(lower, color = \"gold\"); # 5%ile\n",
    "plt.axvline(upper, color = \"gold\"); # 95%ile\n",
    "\n",
    "# if we assume this gold interval captured the parameter\n",
    "# null assumption that the difference = 0 is probably wrong\n"
   ]
  },
  {
   "cell_type": "code",
   "execution_count": null,
   "metadata": {},
   "outputs": [],
   "source": [
    "# Q5: What is our conclusion?\n",
    "# What does this mean for our data and our analysis?\n",
    "reject_null = True\n"
   ]
  },
  {
   "cell_type": "code",
   "execution_count": 97,
   "metadata": {},
   "outputs": [
    {
     "data": {
      "text/plain": [
       "-8.188783212560386"
      ]
     },
     "execution_count": 97,
     "metadata": {},
     "output_type": "execute_result"
    }
   ],
   "source": [
    "# The true value from the pop:\n",
    "np.mean(scores.column(\"difference\"))"
   ]
  },
  {
   "cell_type": "code",
   "execution_count": null,
   "metadata": {},
   "outputs": [],
   "source": [
    "# So, this tells us we need to standardize the data - MT2 was probably more difficult than MT1 for some reason\n",
    "# Make MT1 the same units as MT2: standard units, z-score\n",
    "# (student score - mean of scores) / std of scores\n",
    "# We'll use this idea for linear regression in 2 weeks!"
   ]
  }
 ],
 "metadata": {
  "kernelspec": {
   "display_name": "Python 3",
   "language": "python",
   "name": "python3"
  },
  "language_info": {
   "codemirror_mode": {
    "name": "ipython",
    "version": 3
   },
   "file_extension": ".py",
   "mimetype": "text/x-python",
   "name": "python",
   "nbconvert_exporter": "python",
   "pygments_lexer": "ipython3",
   "version": "3.8.8"
  }
 },
 "nbformat": 4,
 "nbformat_minor": 4
}
