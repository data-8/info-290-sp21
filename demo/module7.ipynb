{
 "cells": [
  {
   "cell_type": "code",
   "execution_count": null,
   "metadata": {},
   "outputs": [],
   "source": [
    "import numpy as np\n",
    "from datascience import *\n",
    "from math import *\n",
    "\n",
    "import matplotlib\n",
    "%matplotlib inline\n",
    "import matplotlib.pyplot as plt\n",
    "plt.style.use('fivethirtyeight')"
   ]
  },
  {
   "cell_type": "markdown",
   "metadata": {},
   "source": [
    "## Distributions\n",
    "\n",
    "Let's practice rolling a 6-sided die."
   ]
  },
  {
   "cell_type": "code",
   "execution_count": null,
   "metadata": {},
   "outputs": [],
   "source": [
    "# The theoretical distribution for rolling a die\n",
    "sides = np.arange(6) + 1\n",
    "Table().with_column(\"Roll\", sides).hist(bins = np.arange(1, 8))"
   ]
  },
  {
   "cell_type": "code",
   "execution_count": null,
   "metadata": {},
   "outputs": [],
   "source": [
    "# What happens when we start changing the sample size?\n",
    "# An empirical distribution: \n",
    "sample_rolls = ...\n",
    "..."
   ]
  },
  {
   "cell_type": "markdown",
   "metadata": {},
   "source": [
    "Now, let's work with a statistic (that summarizes a set of rolls): the number of rolls greater than or equal to a value `k`."
   ]
  },
  {
   "cell_type": "code",
   "execution_count": null,
   "metadata": {},
   "outputs": [],
   "source": [
    "# Complete the roll function, which draws an empirical histogram of the number of results\n",
    "# that are k or larger, when n fair 6-sided dice are rolled.\n",
    "# For example, if k is 5, n is 3, and rolling 3 dice results in a 6, a 4, and a 5, \n",
    "# then 2 of the 3 dice are 5 or larger (6 and 5). \n",
    "\n",
    "def roll(k, n, trials):\n",
    "    \"\"\"Repeatedly roll n dice and check how many results are k or larger.\"\"\"\n",
    "    outcomes = make_array()\n",
    "    possible_results = ...\n",
    "    for i in np.arange(trials):\n",
    "        rolls = np.random.choice(possible_results, ...)\n",
    "        outcomes = np.append(..., np.count_nonzero(...))\n",
    "    Table().with_column(\"Outcomes\", ...).hist(bins = np.arange(30)) \n",
    "    ## Why is it okay to not return anything in this case? \n"
   ]
  },
  {
   "cell_type": "code",
   "execution_count": null,
   "metadata": {},
   "outputs": [],
   "source": [
    "# How does changing the number of trials affect a distribution?\n",
    "# If k = 4, the mean should be n * 0.5 because we're looking at getting 4, 5 and 6\n",
    "# If k = 6, the mean should be n * (1/6) because we only want 6\n",
    "# What shape should we expect? \n",
    "roll(4, 30, 50)"
   ]
  },
  {
   "cell_type": "code",
   "execution_count": null,
   "metadata": {},
   "outputs": [],
   "source": [
    "roll(4, 30, 5000)"
   ]
  },
  {
   "cell_type": "code",
   "execution_count": null,
   "metadata": {},
   "outputs": [],
   "source": [
    "# Try playing with the other inputs (like the sample size n)"
   ]
  },
  {
   "cell_type": "markdown",
   "metadata": {},
   "source": [
    "## Hypothesis Testing: CS Tutoring at Berkeley"
   ]
  },
  {
   "cell_type": "markdown",
   "metadata": {},
   "source": [
    "At Cal, many of the lower division undergraduate data science and computer science have free and widely avaialble group tutoring. In these departments, tutoring consists of small-group sessions, where students work closely with a peer tutor on a worksheet to review key concepts.\n",
    "\n",
    "Suppose we want to find out about the effectiveness of these tutoring sections. We conduct an observational study comparing the 1st and 2nd midterm scores of students who receive tutoring, and find that students who receive tutoring tend to score higher on exams. Can we say that tutoring improves a student's grade in CS or DS?"
   ]
  },
  {
   "cell_type": "markdown",
   "metadata": {},
   "source": [
    "We decide to test the following null hypothesis:\n",
    "\n",
    "> *Null hypothesis:* Tutoring has no effect on a students' midterm scores; the average difference in scores between midterm 1 and midterm 2 for students who receive tutoring and students who did not is the same, and any difference is due to random chance."
   ]
  },
  {
   "cell_type": "markdown",
   "metadata": {},
   "source": [
    "What is an appropriate alternative hypothesis, given that this is our null hypothesis?\n",
    "\n",
    "**Write your answer in this markdown cell!**\n"
   ]
  },
  {
   "cell_type": "code",
   "execution_count": null,
   "metadata": {},
   "outputs": [],
   "source": [
    "# This loads in the data, from CS61A Fall 2017.\n",
    "data = Table.read_table(\"scores.csv\")\n",
    "data"
   ]
  },
  {
   "cell_type": "markdown",
   "metadata": {},
   "source": [
    "Given the data, we decide to use the following test statistic:\n",
    "\n",
    "> Test Statistic: (Average % difference in midterm scores for all students who received tutoring) - (Average % difference in midterm scores for all students who did not receive tutoring)\n",
    "\n",
    "*Note:* The difference has been calculated as the (score of MT2 - the score of MT1). Therefore, a positive difference means that the student did better, and a negative difference means the student did worse on MT2. What does a positive or negative test statistic mean?"
   ]
  },
  {
   "cell_type": "code",
   "execution_count": null,
   "metadata": {},
   "outputs": [],
   "source": [
    "## Write a function that takes in a table and calculates the test statistic.\n",
    "def tutor_test_statistic(tbl):\n",
    "    ...\n",
    "    return ...\n",
    "\n",
    "# Calculate the observed statistic.\n",
    "observed_statistic = ...\n",
    "observed_statistic"
   ]
  },
  {
   "cell_type": "code",
   "execution_count": null,
   "metadata": {},
   "outputs": [],
   "source": [
    "# The following code will simulate under the null.\n",
    "# This is called an A/B test. We'll learn how this works later!\n",
    "def simulate_under_null(tbl):\n",
    "    labels = tbl.sample(with_replacement = False).column(\"Mentored\") # create a sample\n",
    "    shuffled = tbl.with_column(\"Mentored\", labels)\n",
    "    sim_stat = tutor_test_statistic(shuffled) # Calculate the statistic for our simulated sample\n",
    "    return sim_stat"
   ]
  },
  {
   "cell_type": "code",
   "execution_count": null,
   "metadata": {},
   "outputs": [],
   "source": [
    "# Using the functions above, use iteration to simulate under the null 500 times.\n",
    "# It'll take a while to run. \n",
    "trials = ...\n",
    "sim_stats = ...\n",
    "    \n",
    "for i in ...:\n",
    "    ...\n",
    "\n",
    "sim_stats"
   ]
  },
  {
   "cell_type": "code",
   "execution_count": null,
   "metadata": {},
   "outputs": [],
   "source": [
    "# Create a histogram to view the data\n",
    "...\n",
    "\n",
    "# This line adds a red line to your histogram. What would we conclude?\n",
    "plots.axvline(x = observed_statistic, color = \"red\")"
   ]
  },
  {
   "cell_type": "code",
   "execution_count": null,
   "metadata": {},
   "outputs": [],
   "source": []
  }
 ],
 "metadata": {
  "kernelspec": {
   "display_name": "Python 3",
   "language": "python",
   "name": "python3"
  },
  "language_info": {
   "codemirror_mode": {
    "name": "ipython",
    "version": 3
   },
   "file_extension": ".py",
   "mimetype": "text/x-python",
   "name": "python",
   "nbconvert_exporter": "python",
   "pygments_lexer": "ipython3",
   "version": "3.7.6"
  }
 },
 "nbformat": 4,
 "nbformat_minor": 4
}
