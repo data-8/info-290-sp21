{
 "cells": [
  {
   "cell_type": "code",
   "execution_count": null,
   "metadata": {},
   "outputs": [],
   "source": [
    "import numpy as np\n",
    "from datascience import *\n",
    "from math import *\n",
    "import pandas as pd\n",
    "\n",
    "import matplotlib\n",
    "%matplotlib inline\n",
    "import matplotlib.pyplot as plots\n",
    "plots.style.use('fivethirtyeight')\n",
    "\n",
    "import seaborn as sns"
   ]
  },
  {
   "cell_type": "markdown",
   "metadata": {},
   "source": [
    "## Coding Review: Creating a confidence interval\n",
    "\n",
    "How accurate is the confidence interval process? Let's find out! We have some **population-level** (let's assume) data of city employee salaries in Oakland in 2018. (Source: Transparent California)\n",
    "\n",
    "In reality, you would not often have access to information of this level. Let's assume that we only have access to samples from this population, so let's see if the confidence interval process works!\n",
    "\n",
    "We're also going to do a hypothesis test (for practice) with a confidence interval here. \n",
    "\n",
    "In 2019, the average total compensation -- salary and benefits -- for a full-time employee in California cities was approximately $ 174,000 (according to the California Globe). Is it the same for Oakland? \n",
    "\n",
    "H0: The average total pay and benefits for a city employee in Oakland is $174,000.\n",
    "\n",
    "Ha: The average total pay and benefits for a city employee in Oakland is **not** $174,000.\n",
    "\n",
    "Note: Does that number seem kind of high? In this analysis, we include both firefighters and police officers, who tend to have higher salaries and wages due to their unions, and therefore skew the data."
   ]
  },
  {
   "cell_type": "code",
   "execution_count": null,
   "metadata": {},
   "outputs": [],
   "source": [
    "# Run this cell.\n",
    "oakland = Table().read_table(\"oakland-2018.csv\").where(\"Status\", \"FT\") #Full time workers only\n",
    "pop_mean = np.mean(oakland.column(\"Total Pay & Benefits\"))\n",
    "oakland.show(5)\n",
    "print(\"The population mean is: $\", np.round(pop_mean, 2)) # For readability: don't round the mean in your own code!\n",
    "oakland.hist(\"Total Pay & Benefits\")\n",
    "plots.axvline(x = pop_mean, y = 0, color = \"red\");"
   ]
  },
  {
   "cell_type": "code",
   "execution_count": null,
   "metadata": {},
   "outputs": [],
   "source": [
    "# Q1: I wrote a function for you that does the bootstrapping process.\n",
    "# Let's practice understanding what code does. Assume \"tbl\" is in the same format \n",
    "# as the oakland table. \n",
    "\n",
    "def one_full_bootstrap(tbl, label, n, reps, c):\n",
    "    # Step 1) Type your comment here. \n",
    "    one_sample = tbl.sample(n, with_replacement = False) #...\n",
    "    bootstrap_stats = np.array([]) # ...\n",
    "    for i in range(reps): #... \n",
    "        # Step 2: ...\n",
    "        resample = one_sample.sample() # ...\n",
    "        # Step 3: ...\n",
    "        resample_stat = np.mean(resample.column(label)) # ...\n",
    "        bootstrap_stats = np.append(bootstrap_stats, resample_stat) # ...\n",
    "    # Step 4: ...\n",
    "    lower_bound = percentile((100 - c)/2, bootstrap_stats) # ...\n",
    "    upper_bound = percentile(100 - ((100-c)/2), bootstrap_stats) # ...\n",
    "    plots.hist(bootstrap_stats, density = True, bins = np.arange(min(bootstrap_stats), max(bootstrap_stats), 5000)) # ...\n",
    "    plots.axvline(lower_bound, color = \"gold\") # ...\n",
    "    plots.axvline(upper_bound, color = \"gold\") # ...\n",
    "    plots.axvline(pop_mean, color = \"red\")  # ...\n",
    "    return np.array([lower_bound, upper_bound]) # ..."
   ]
  },
  {
   "cell_type": "code",
   "execution_count": null,
   "metadata": {},
   "outputs": [],
   "source": [
    "# Just run this cell!\n",
    "one_interval = one_full_bootstrap(oakland, \"Total Pay & Benefits\", 50, 1000, 90)\n",
    "print(\"One random interval has a lower bound of \", str(one_interval.item(0)), \" and an upper bound of \", str(one_interval.item(1)))"
   ]
  },
  {
   "cell_type": "code",
   "execution_count": null,
   "metadata": {},
   "outputs": [],
   "source": [
    "# Q2: if we ran the code above 1000 times, how many intervals would capture the pop mean on average?\n",
    "# Type your guess in estimated_correct below.\n",
    "num_intervals = 1000\n",
    "estimated_correct = ..."
   ]
  },
  {
   "cell_type": "code",
   "execution_count": null,
   "metadata": {},
   "outputs": [],
   "source": [
    "# Q3: Do we reject or fail to reject our null hypothesis?  Set reject_null to True if we reject\n",
    "# and False to if we fail to reject. \n",
    "# Use the interval, one_interval, from above, to make this conclusion. \n",
    "\n",
    "reject_null = ???\n",
    "\n",
    "#Q5: What is our significance level for this test? \n",
    "\n",
    "significance_level = ???"
   ]
  },
  {
   "cell_type": "markdown",
   "metadata": {},
   "source": [
    "## Center & Spread\n",
    "\n",
    "https://docs.scipy.org/doc/scipy/reference/stats.html"
   ]
  },
  {
   "cell_type": "code",
   "execution_count": null,
   "metadata": {},
   "outputs": [],
   "source": [
    "## Out of scope of this class (but mentioned in the textbook!):\n",
    "# Unlike R, Python is not designed for statistical analysis\n",
    "# BUT - we can use libraries for statistical analysis, like numpy and scipy\n",
    "\n",
    "from scipy import stats # Import the stats module from scipy; call with stats.function(...)\n",
    "# Lot of cool stats functions! \n",
    "\n",
    "# For example: Mayor Schaaf made $314,400 in Total Pay & Benefits. What percentile of employees was she at?\n",
    "# Our function in scipy.stats: percentileofscore(array, value)\n",
    "pay_benefits = oakland.column(\"Total Pay & Benefits\")\n",
    "..."
   ]
  },
  {
   "cell_type": "code",
   "execution_count": null,
   "metadata": {},
   "outputs": [],
   "source": [
    "## Measures of center in Python\n",
    "np.mean(...)\n",
    "np.median(...)\n",
    "percentile(..., ...)  # Note: percentile is a datascience library function; np.percentile(array, percent) is in numpy\n",
    "stats.mode(..., axis = 0)"
   ]
  },
  {
   "cell_type": "code",
   "execution_count": null,
   "metadata": {},
   "outputs": [],
   "source": [
    "## Measures of spread in Python\n",
    "np.std(...)\n",
    "np.ptp(...) # range\n",
    "stats.iqr(...) # interquartile range: 75th quartile - 25th quartile"
   ]
  },
  {
   "cell_type": "code",
   "execution_count": null,
   "metadata": {},
   "outputs": [],
   "source": [
    "# Other visual representations of a quantitative distribution above:\n",
    "sns.boxplot(y = pay_benefits);\n",
    "\n",
    "sns.displot(pay_benefits, kde = True, rug = True, aspect = 3); "
   ]
  },
  {
   "cell_type": "code",
   "execution_count": null,
   "metadata": {},
   "outputs": [],
   "source": [
    "## Recall: Variance = average of the squared differences from the mean\n",
    "# short-answer: use np.var\n",
    "print(\"Numpy says the variance is: \", np.var(pay_benefits))\n",
    "\n",
    "# Now, do it yourself: write a function that calculates the variance of an array\n",
    "def your_var(arr):\n",
    "    ...\n",
    "\n",
    "your_var(pay_benefits)"
   ]
  },
  {
   "cell_type": "code",
   "execution_count": null,
   "metadata": {},
   "outputs": [],
   "source": [
    "# Write a function that calculates the standard deviation!\n",
    "# Don't forget about abstraction (use the your_var function)\n",
    "\n",
    "print(\"Numpy says the standard deviation is: \" + str(np.std(pay_benefits)))\n",
    "\n",
    "def your_std(arr):\n",
    "   ...\n",
    "\n",
    "your_std(pay_benefits)"
   ]
  },
  {
   "cell_type": "markdown",
   "metadata": {},
   "source": [
    "## Normality\n",
    "\n",
    "The normal curve is a particular bell-shaped distribution, where 68% of data is +-1 SD from the mean, 95% +- 2 SD from the mean, and 99% +- 3 SD from the mean. Contrast this with all distributions which follow Chebyshev's bounds: at least 0% for 1 SD, 75% for 2 SDs, and 88% for 3 SDs. Furthermore, the normal curve is nice in that the SD is the distance between the mean and the point of inflection on the curve on the left or right. \n",
    "\n",
    "Note that, because we are using a simulation to approximate some values for this exercise, we may NOT have the exact results we're looking for."
   ]
  },
  {
   "cell_type": "code",
   "execution_count": null,
   "metadata": {},
   "outputs": [],
   "source": [
    "## Before we begin, we assume the Central Limit Theorem holds\n",
    "# in this case: we have a large random sample using the sample mean or sample sum\n",
    "# Without replacement OK because we have a small sample in relation to pop\n",
    "# Let's look at the data!\n",
    "# We're going to use Total Pay in this specific case, NOT pay and benefits\n",
    "\n",
    "oakland.hist(\"Total Pay\", bins = np.arange(0, 400000, 50000)) ## The population distribution\n",
    "plots.title(\"Population\");\n",
    "\n",
    "our_sample = oakland.sample(30, with_replacement = False) # notice sample size of 30\n",
    "our_sample.hist(\"Total Pay\", bins = np.arange(0, 400000, 50000)) ## Our sample distribution\n",
    "plots.title(\"Sample\");"
   ]
  },
  {
   "cell_type": "code",
   "execution_count": null,
   "metadata": {},
   "outputs": [],
   "source": [
    "# Q: Now, let's create a distribution of sample means\n",
    "# Sample withOUT replacement, n = 30, from oakland, and calculate the means\n",
    "\n",
    "sample_means = make_array()\n",
    "trials = 1000\n",
    "\n",
    "for ...\n",
    "\n",
    "means_tbl = Table().with_column(\"Resampled Means\", sample_means)\n",
    "means_tbl.hist()"
   ]
  },
  {
   "cell_type": "code",
   "execution_count": null,
   "metadata": {},
   "outputs": [],
   "source": [
    "## Looks good! Q: Is it approx. normal as stated by the CLT? Let's check using a \"back of the envelope\" test\n",
    "# i.e. check if the 68-95-99.7 rule works here\n",
    "\n",
    "sd = ...\n",
    "avg = ...\n",
    "\n",
    "\n",
    "# Checking if the rule fits\n",
    "left = sd - avg\n",
    "right = sd + avg\n",
    "\n",
    "sum((left <= sample_means) & (sample_means <= right)) / len(sample_means)  \n",
    "# & refers to a bit-wise comparison, when we compare 2 arrays"
   ]
  },
  {
   "cell_type": "code",
   "execution_count": null,
   "metadata": {},
   "outputs": [],
   "source": [
    "# We just did the traditional statistical approach above\n",
    "# What if we used a bootstrap, resampling WITH replacement?\n",
    "print(\"Our SD with a sample size of 30 was: \" + str(sd))\n",
    "\n",
    "new_sample_size = 30 # One last note: what happens to the variation when we change the sample size?\n",
    "our_new_sample = oakland.sample(new_sample_size, with_replacement = False)\n",
    "new_sample_means = make_array()\n",
    "\n",
    "# The bootstrap approach:\n",
    "for i in np.arange(1000):\n",
    "    resample = our_new_sample.sample()\n",
    "    resamp_mean = np.mean(resample.column(\"Total Pay\"))\n",
    "    new_sample_means = np.append(new_sample_means, resamp_mean)\n",
    "    \n",
    "bootstrap_means_tbl = Table().with_column(\"Resampled Means\", sample_means)\n",
    "bootstrap_means_tbl.hist()\n",
    "    \n",
    "# What's our SD now?\n",
    "print(\"Our SD with a sample size of \" + str(new_sample_size) + \" was: \" + str(np.std(new_sample_means)))"
   ]
  },
  {
   "cell_type": "code",
   "execution_count": null,
   "metadata": {},
   "outputs": [],
   "source": [
    "## Why does this occur?\n",
    "\n",
    "# Conceptual explanation:\n",
    "\n",
    "\n",
    "# Mathematical explanation: \n",
    "\n"
   ]
  },
  {
   "cell_type": "markdown",
   "metadata": {},
   "source": [
    "## Correlation: What is the relationship between 2 variables?"
   ]
  },
  {
   "cell_type": "code",
   "execution_count": null,
   "metadata": {},
   "outputs": [],
   "source": [
    "# Does one's base salary correlate with the amount of benefits they receive?\n",
    "# Let's check graphically:\n",
    "\n",
    "oakland.scatter(\"Base Pay\", \"Benefits\")"
   ]
  },
  {
   "cell_type": "code",
   "execution_count": null,
   "metadata": {},
   "outputs": [],
   "source": [
    "## It would appear so! But we need to prove it quantitatively.\n",
    "# First, notice the ranges of each of the axes. \n",
    "np.ptp(...) # calculates max - min"
   ]
  },
  {
   "cell_type": "code",
   "execution_count": null,
   "metadata": {},
   "outputs": [],
   "source": [
    "## A potential issue is any calculation we make\n",
    "# may be more reflective of the vast differences in the ranges,\n",
    "# rather than an actual correlation. So first, we need to standardize!\n",
    "\n",
    "def standard_units(arr):\n",
    "    return ..."
   ]
  },
  {
   "cell_type": "code",
   "execution_count": null,
   "metadata": {},
   "outputs": [],
   "source": [
    "standard_oak = ...\n",
    "\n",
    "standard_oak.scatter(0, 1)\n",
    "\n",
    "# What do you notice?"
   ]
  },
  {
   "cell_type": "code",
   "execution_count": null,
   "metadata": {},
   "outputs": [],
   "source": [
    "## Now, let's quantify the relationship between the 2 variables\n",
    "# We will use the correlation coefficient, r\n",
    "\n",
    "def r(tbl):\n",
    "    \"\"\"Given a 2 column table of x and y in STANDARD UNITS, calculate the correlation coefficient\"\"\"\n",
    "   ...\n",
    "\n",
    "r(standard_oak)"
   ]
  },
  {
   "cell_type": "code",
   "execution_count": null,
   "metadata": {},
   "outputs": [],
   "source": [
    "## What should we conclude from above?\n",
    "\n",
    "# as another tip: another way we can calculate R (without all of this code):\n",
    "stats.pearsonr(oakland.column(\"Base Pay\"), oakland.column(\"Benefits\"))\n",
    "\n",
    "# SciPy reports 2 values: the correlation coefficient and the p-value (w/ the null that x & y are uncorrelated)"
   ]
  },
  {
   "cell_type": "code",
   "execution_count": null,
   "metadata": {},
   "outputs": [],
   "source": [
    "# What we will do starting next week:\n",
    "# How do we calculate this line mathematically? \n",
    "\n",
    "oak_df = oakland.to_df()\n",
    "\n",
    "sns.lmplot(x = \"Base Pay\", y= \"Benefits\", data = oak_df, scatter_kws={\"s\": 4}, line_kws = {\"color\": \"gold\", \"linewidth\": 3}, aspect = 1.5);\n"
   ]
  }
 ],
 "metadata": {
  "kernelspec": {
   "display_name": "Python 3",
   "language": "python",
   "name": "python3"
  },
  "language_info": {
   "codemirror_mode": {
    "name": "ipython",
    "version": 3
   },
   "file_extension": ".py",
   "mimetype": "text/x-python",
   "name": "python",
   "nbconvert_exporter": "python",
   "pygments_lexer": "ipython3",
   "version": "3.7.6"
  }
 },
 "nbformat": 4,
 "nbformat_minor": 4
}
