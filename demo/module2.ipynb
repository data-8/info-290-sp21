{
 "cells": [
  {
   "cell_type": "markdown",
   "metadata": {},
   "source": [
    "# Coding in Python\n",
    "\n",
    "Remember that Python, as a computer language, follows a set of strict rules that define how you should write beautiful, working code. These rules, or the structure you must follow, is known as the syntax.\n",
    "\n",
    "Paraphrased from Francisco Cai and Nick Parlante for Stanford CS101:\n",
    "> The fundamental equation of computers is: `computer = powerful + stupid`. Computers are very powerful, looking at volumes of data very quickly. However, they are also shockingly stupid and fragile. The operations that they can do are extremely rigid, simple, and mechanical. \n",
    "> Programming is about a person using their real insight to build something useful, constructed out of these teeny, simple little operations that the computer can do.\n",
    "\n",
    "\n",
    "Let's talk about some of the rules and things Python can do!"
   ]
  },
  {
   "cell_type": "markdown",
   "metadata": {},
   "source": [
    "## Expressions & Data Types\n",
    "\n",
    "Expressions are essentially representations of values in Python. Each expression has an associated data type, which defines how we are able to work with that value."
   ]
  },
  {
   "cell_type": "code",
   "execution_count": null,
   "metadata": {},
   "outputs": [],
   "source": [
    "# Numbers:\n",
    "100\n",
    "4.2"
   ]
  },
  {
   "cell_type": "code",
   "execution_count": null,
   "metadata": {},
   "outputs": [],
   "source": [
    "# Floats vs ints: an int\n",
    "10000000000000000000000000000000000000000000000000000000000000000000000000000000000000000000000000000000000000000000000000000000000000000000000000000000000000000000000000000000000000000000000000000000000000000000000000000000000000000000000000000000000000000000000000000000000000000000000000000000000000000000000000000000000000000000000000000000000000000000000000000000000000000000000000000000000000000000000000000000000000000000000000000000000"
   ]
  },
  {
   "cell_type": "code",
   "execution_count": null,
   "metadata": {},
   "outputs": [],
   "source": [
    "# The same number from above, but as a float (.2 at the end) \n",
    "10000000000000000000000000000000000000000000000000000000000000000000000000000000000000000000000000000000000000000000000000000000000000000000000000000000000000000000000000000000000000000000000000000000000000000000000000000000000000000000000000000000000000000000000000000000000000000000000000000000000000000000000000000000000000000000000000000000000000000000000000000000000000000000000000000000000000000000000000000000000000000000000000000000000.2"
   ]
  },
  {
   "cell_type": "code",
   "execution_count": null,
   "metadata": {},
   "outputs": [],
   "source": [
    "# Operations with numbers\n",
    "..."
   ]
  },
  {
   "cell_type": "code",
   "execution_count": null,
   "metadata": {},
   "outputs": [],
   "source": [
    "# We can combine smaller expressions to make more complex expressions.\n",
    "# When we combine expressions, we can say each component part is a \"sub-expression\"\n",
    "..."
   ]
  },
  {
   "cell_type": "code",
   "execution_count": null,
   "metadata": {},
   "outputs": [],
   "source": [
    "# Text:\n",
    "\"Hello, world!\""
   ]
  },
  {
   "cell_type": "code",
   "execution_count": null,
   "metadata": {},
   "outputs": [],
   "source": [
    "# Operations with text\n",
    "..."
   ]
  },
  {
   "cell_type": "code",
   "execution_count": null,
   "metadata": {},
   "outputs": [],
   "source": [
    "# We can save our results by assigning them names.\n",
    "x = 32\n",
    "\n",
    "# Python reads this as \"Assign the integer 32 to the name x\"\n",
    "x"
   ]
  },
  {
   "cell_type": "code",
   "execution_count": null,
   "metadata": {},
   "outputs": [],
   "source": [
    "# What if I put x to the power of 2?\n",
    "x * * 2"
   ]
  },
  {
   "cell_type": "markdown",
   "metadata": {},
   "source": [
    "What happened?\n",
    "\n",
    "Being a language, Python has rules for how you can put things like these numbers together. It differs from natural language in two important ways:\n",
    "\n",
    "1. The rules are *simple*.  You can gain reasonable proficiency with the language in a semester.\n",
    "2. The rules are *rigid*.  If you're proficient in a natural language, you can understand a non-proficient speaker, glossing over small mistakes. Even most proficient speakers don’t speak in fully-formed grammatical sentences all the time.\n",
    "\n",
    "A computer running Python code is not smart enough to gloss over mistakes. When you make errors, Python will complain loudly with long error messages. But, just like if someone said, “what did you say?”, don’t panic, just figure out the confusion, edit your code, and run it again. \n",
    "\n",
    "So in this example, Python is being picky because it doesn't know what \"* space *\" means. Actually, a human would probably be confused too."
   ]
  },
  {
   "cell_type": "code",
   "execution_count": null,
   "metadata": {},
   "outputs": [],
   "source": [
    "..."
   ]
  },
  {
   "cell_type": "markdown",
   "metadata": {},
   "source": [
    "# Functions\n",
    "\n",
    "You've probably noticed some values that look like names, but are usually followed by parentheses (). For example:"
   ]
  },
  {
   "cell_type": "code",
   "execution_count": null,
   "metadata": {},
   "outputs": [],
   "source": [
    "max(1, 2, 3, 4, 5)"
   ]
  },
  {
   "cell_type": "code",
   "execution_count": null,
   "metadata": {},
   "outputs": [],
   "source": [
    "max"
   ]
  },
  {
   "cell_type": "code",
   "execution_count": null,
   "metadata": {},
   "outputs": [],
   "source": [
    "## Guess what will happen, and then run the cell:\n",
    "max(42, print(99), abs(-12)) "
   ]
  },
  {
   "cell_type": "markdown",
   "metadata": {},
   "source": [
    "A function has 2 parts: the operator (the function itself) and the operand (the arguments to the functions). Python interprets functions with the following rules:\n",
    "\n",
    "1. Evaluate the operator (is it a function?)\n",
    "2. Evaluate the operands from left to right\n",
    "3. Apply the operator to the operands\n",
    "\n",
    "\n",
    "Apply those rules to the above example to explain why we got the result.\n"
   ]
  },
  {
   "cell_type": "code",
   "execution_count": null,
   "metadata": {},
   "outputs": [],
   "source": [
    "# Hint: check the data types\n",
    "type(...)"
   ]
  },
  {
   "cell_type": "markdown",
   "metadata": {},
   "source": [
    "These are functions, which are values in Python that usually take in an input and do something (such as print an image, return an output, etc.). They will not always output a value that we can work with; print, for example, doesn't actually create an output. \n",
    "\n",
    "We will learn how to write our own functions soon, but oftentimes in data science, we will use functions and code written by other people. We can use these other tools by importing them from **libraries** and **modules**. "
   ]
  },
  {
   "cell_type": "code",
   "execution_count": null,
   "metadata": {},
   "outputs": [],
   "source": [
    "# The two main ways we can import our tools: import ... as ... & from ... import ...\n",
    "\n",
    "import numpy as np # \"import the functions from numpy, and reference its functions with np\"\n",
    "from datascience import * # \"import all of the functions from datascience, without a label/name\"\n",
    "import matplotlib.pyplot as plt # import the pyplot module from matplotlib with the name plt"
   ]
  },
  {
   "cell_type": "code",
   "execution_count": null,
   "metadata": {},
   "outputs": [],
   "source": [
    "# Let's use a numpy function - random.binomial: \"import ... as ...\"\n",
    "..."
   ]
  },
  {
   "cell_type": "code",
   "execution_count": null,
   "metadata": {},
   "outputs": [],
   "source": [
    "# Let's use a datascience function - sample_proportions: \"from ... import ...\"\n",
    "..."
   ]
  },
  {
   "cell_type": "code",
   "execution_count": null,
   "metadata": {},
   "outputs": [],
   "source": [
    "# Lost on how to use a function? Check the documentation:\n",
    "..."
   ]
  },
  {
   "cell_type": "code",
   "execution_count": null,
   "metadata": {},
   "outputs": [],
   "source": [
    "from math import pi, e # Not all import statements are used for functions! This imports e and pi from the math module\n",
    "e"
   ]
  },
  {
   "cell_type": "markdown",
   "metadata": {},
   "source": [
    "# Methods & Dot Notation\n",
    "\n",
    "Dot notation lets us access attributes associated with objects. You might have noticed we wrote np.random.binomial earlier; in that case, np is the library, random is a module in the numpy library, and we are accessing the function \"binomial\" in the random library.\n",
    "\n",
    "In more specific terminology, methods are functions that work *on* specific objects. We'll be using methods to modify arrays, strings, and tables in this class."
   ]
  },
  {
   "cell_type": "code",
   "execution_count": null,
   "metadata": {},
   "outputs": [],
   "source": [
    "a_string = ..."
   ]
  },
  {
   "cell_type": "code",
   "execution_count": null,
   "metadata": {},
   "outputs": [],
   "source": [
    "# Let's modify a_string with some methods: replace, title, upper\n",
    "..."
   ]
  },
  {
   "cell_type": "markdown",
   "metadata": {},
   "source": [
    "# Collections\n",
    "\n",
    "For now, we've been working with single expressions and combining them into more complicated expressions. However, what if we have a lot of values? \n",
    "\n",
    "Python lets us work with these values as collections: lists, arrays, dictionaries, etc.\n",
    "\n",
    "We're going to focus on lists and arrays for now."
   ]
  },
  {
   "cell_type": "code",
   "execution_count": null,
   "metadata": {},
   "outputs": [],
   "source": [
    "# Lists are designated by square brackets and can contain multiple datatypes\n",
    "nine = 9\n",
    "a_list = [\"one\", 3, 5.0, \"seven\", nine]"
   ]
  },
  {
   "cell_type": "markdown",
   "metadata": {},
   "source": [
    "Python counts values by \"0-indexing.\" In other words, the first value has the index 0, NOT 1. \n",
    "\n",
    "Therefore, what value is at index 2 in a_list?"
   ]
  },
  {
   "cell_type": "code",
   "execution_count": null,
   "metadata": {},
   "outputs": [],
   "source": [
    "# We can access values in a list by using square brackets after the list.\n",
    "a_list[2]"
   ]
  },
  {
   "cell_type": "code",
   "execution_count": null,
   "metadata": {},
   "outputs": [],
   "source": [
    "# We can also take multiple values out of a list by \"slicing\" the list (using a colon)\n",
    "# <list>[start:end]\n",
    "# it is inclusive of the value at the start index, but non-inclusive of the value at the stop index\n",
    "# Practice: Slice a_list so we only have the values 5, \"seven\", and 9.\n",
    "a_list[...:...]"
   ]
  },
  {
   "cell_type": "code",
   "execution_count": null,
   "metadata": {},
   "outputs": [],
   "source": [
    "# But what if I want to do math with a list?\n",
    "nums_list = [3, 6, 9, 12]\n",
    "\n",
    "# What will happen if I do this:\n",
    "nums_list / 4"
   ]
  },
  {
   "cell_type": "markdown",
   "metadata": {},
   "source": [
    "Lists aren't great for math with large values. However, we can use another collection data-type to do this: **NumPy arrays!**"
   ]
  },
  {
   "cell_type": "code",
   "execution_count": null,
   "metadata": {},
   "outputs": [],
   "source": [
    "# From the numpy module:\n",
    "one_array = np.array([1, 2, 3])"
   ]
  },
  {
   "cell_type": "code",
   "execution_count": null,
   "metadata": {},
   "outputs": [],
   "source": [
    "# How we'll usually make arrays in this course: from the datascience module\n",
    "# Notice the slight difference in syntax\n",
    "another_array = make_array(1, 2, 3)"
   ]
  },
  {
   "cell_type": "code",
   "execution_count": null,
   "metadata": {},
   "outputs": [],
   "source": [
    "# Check the data types of one_array and another_array -- are they the same?\n",
    "..."
   ]
  },
  {
   "cell_type": "code",
   "execution_count": null,
   "metadata": {},
   "outputs": [],
   "source": [
    "# Now, try to create an array that has values with different data types. What happens?\n",
    "..."
   ]
  },
  {
   "cell_type": "code",
   "execution_count": null,
   "metadata": {},
   "outputs": [],
   "source": [
    "# Another way to build arrays: np.arange\n",
    "np.arange(...)"
   ]
  },
  {
   "cell_type": "code",
   "execution_count": null,
   "metadata": {},
   "outputs": [],
   "source": [
    "# Accessing values from arrays: still similar to lists, but with a method instead\n",
    "...\n"
   ]
  },
  {
   "cell_type": "code",
   "execution_count": null,
   "metadata": {},
   "outputs": [],
   "source": [
    "# The big difference: arrays are great for lots of math!\n",
    "# One array math applies the operation to all elements\n",
    "..."
   ]
  },
  {
   "cell_type": "code",
   "execution_count": null,
   "metadata": {},
   "outputs": [],
   "source": [
    "# Two array math is element-wise\n",
    "..."
   ]
  },
  {
   "cell_type": "markdown",
   "metadata": {},
   "source": [
    "### Challenge Question: Complete the Leibniz equation for pi\n",
    "\n",
    "Leibniz created the following equation that approximates pi:\n",
    "\n",
    "$\\pi = 4 * \\sum(1 - \\frac{1}{3} + \\frac{1}{5} - \\frac{1}{7} + \\frac{1}{9} - \\frac{1}{11} + \\frac{1}{13} - ...)$\n",
    "\n",
    "Let's try coding it with arrays!"
   ]
  },
  {
   "cell_type": "code",
   "execution_count": null,
   "metadata": {},
   "outputs": [],
   "source": [
    "# Your work here.\n",
    "..."
   ]
  },
  {
   "cell_type": "markdown",
   "metadata": {},
   "source": [
    "In future weeks, we'll talk a bit more about writing functions (with an quick intro to recursion), creating visualizations, and using conditions to help diversify your coding toolset and Python background!\n",
    "\n",
    "If you want to learn more Python on your own, I highly recommend these resources:\n",
    "\n",
    "Project Python: http://projectpython.net/chapter00/ \n",
    "\n",
    "Learning How to Code with Prof. Farid: https://farid.berkeley.edu/downloads/tutorials/learnPython/ \n",
    "\n",
    "Computer Science 61A with Prof. DeNero: https://inst.eecs.berkeley.edu/~cs61a/fa20/ \n",
    "\n",
    "and the associated textbook: Composing Programs http://composingprograms.com/pages/11-getting-started.html "
   ]
  },
  {
   "cell_type": "code",
   "execution_count": null,
   "metadata": {},
   "outputs": [],
   "source": []
  }
 ],
 "metadata": {
  "history": [
   {
    "code": "# Numbers:\n100",
    "id": "10637184b7fa4c3e8384b1fbddcbaac4",
    "idx": 2,
    "time": "2021-01-28T20:24:51.108Z",
    "type": "execution"
   },
   {
    "id": "10637184b7fa4c3e8384b1fbddcbaac4",
    "time": "2021-01-28T20:24:51.202Z",
    "type": "completion"
   },
   {
    "code": "# Text:\n\"Hello, world!\"",
    "id": "3e730bc34f714a488a6c5b14a0cd8461",
    "idx": 3,
    "time": "2021-01-28T20:24:57.248Z",
    "type": "execution"
   },
   {
    "id": "3e730bc34f714a488a6c5b14a0cd8461",
    "time": "2021-01-28T20:24:57.316Z",
    "type": "completion"
   },
   {
    "code": "3 * * 2",
    "id": "cb7ecd2eea95472881e3922644f2d8a9",
    "idx": 6,
    "time": "2021-01-28T20:32:11.578Z",
    "type": "execution"
   },
   {
    "id": "cb7ecd2eea95472881e3922644f2d8a9",
    "time": "2021-01-28T20:32:11.643Z",
    "type": "completion"
   },
   {
    "code": "# What if I put x to the power of 2?\nx * * 2",
    "id": "cb7ecd2eea95472881e3922644f2d8a9",
    "idx": 6,
    "time": "2021-01-28T20:32:29.456Z",
    "type": "execution"
   },
   {
    "id": "cb7ecd2eea95472881e3922644f2d8a9",
    "time": "2021-01-28T20:32:29.527Z",
    "type": "completion"
   },
   {
    "code": "max(1, 2, 3, 4, 5)",
    "id": "b58d1906b2394e4bafec40b4613bbef8",
    "idx": 10,
    "time": "2021-01-28T20:35:21.109Z",
    "type": "execution"
   },
   {
    "id": "b58d1906b2394e4bafec40b4613bbef8",
    "time": "2021-01-28T20:35:21.376Z",
    "type": "completion"
   },
   {
    "code": "## Explain what's happening here:\n\n5 + print(5)",
    "id": "8c5a5e99d75247468019bf72179cf38b",
    "idx": 11,
    "time": "2021-01-28T20:36:14.828Z",
    "type": "execution"
   },
   {
    "id": "8c5a5e99d75247468019bf72179cf38b",
    "time": "2021-01-28T20:36:14.965Z",
    "type": "completion"
   },
   {
    "code": "# Lists are designated by square brackets\na_list = [1, 3, 5, 6, 9]",
    "id": "1af0d93dc11d4ee88ac20e1ca07db9b6",
    "idx": 15,
    "time": "2021-01-28T23:09:53.171Z",
    "type": "execution"
   },
   {
    "id": "1af0d93dc11d4ee88ac20e1ca07db9b6",
    "time": "2021-01-28T23:09:53.238Z",
    "type": "completion"
   },
   {
    "code": "# We can also take multiple values out of a list by \"slicing\" the list (using a colon)",
    "id": "70381ca5d51145bf8b58a848b611e7dd",
    "idx": 18,
    "time": "2021-01-28T23:13:31.720Z",
    "type": "execution"
   },
   {
    "id": "70381ca5d51145bf8b58a848b611e7dd",
    "time": "2021-01-28T23:13:31.802Z",
    "type": "completion"
   },
   {
    "code": "# Lists are designated by square brackets and contain multiple values\nnine = 9\na_list = [\"one\", 3, 5.0, \"seven\", nine]",
    "id": "f9f464550ec34b9ea514c31a1d4dbe3a",
    "idx": 15,
    "time": "2021-01-28T23:14:29.783Z",
    "type": "execution"
   },
   {
    "id": "f9f464550ec34b9ea514c31a1d4dbe3a",
    "time": "2021-01-28T23:14:29.846Z",
    "type": "completion"
   },
   {
    "code": "# We can also take multiple values out of a list by \"slicing\" the list (using a colon)\n# <list>[start:end]\n# it is inclusive of the value at the start index, but non-inclusive of the value at the stop index\n# Practice: Slice a_list so we only have the values \na_list[3:5]",
    "id": "70381ca5d51145bf8b58a848b611e7dd",
    "idx": 18,
    "time": "2021-01-28T23:14:33.625Z",
    "type": "execution"
   },
   {
    "id": "70381ca5d51145bf8b58a848b611e7dd",
    "time": "2021-01-28T23:14:33.873Z",
    "type": "completion"
   },
   {
    "code": "# We can also take multiple values out of a list by \"slicing\" the list (using a colon)\n# <list>[start:end]\n# it is inclusive of the value at the start index, but non-inclusive of the value at the stop index\n# Practice: Slice a_list so we only have the values \na_list[3:4]",
    "id": "70381ca5d51145bf8b58a848b611e7dd",
    "idx": 18,
    "time": "2021-01-28T23:14:35.412Z",
    "type": "execution"
   },
   {
    "id": "70381ca5d51145bf8b58a848b611e7dd",
    "time": "2021-01-28T23:14:35.479Z",
    "type": "completion"
   },
   {
    "code": "# We can also take multiple values out of a list by \"slicing\" the list (using a colon)\n# <list>[start:end]\n# it is inclusive of the value at the start index, but non-inclusive of the value at the stop index\n# Practice: Slice a_list so we only have the values\na_list[3:5]",
    "id": "70381ca5d51145bf8b58a848b611e7dd",
    "idx": 18,
    "time": "2021-01-28T23:14:41.758Z",
    "type": "execution"
   },
   {
    "id": "70381ca5d51145bf8b58a848b611e7dd",
    "time": "2021-01-28T23:14:41.839Z",
    "type": "completion"
   },
   {
    "code": "# But what if I want to do math with a list?\nnums_list = [3, 6, 9, 12]\n\n# What will happen if I do this:\nnums_list / 4",
    "id": "65c9811d898946e59c72d444a276026c",
    "idx": 19,
    "time": "2021-01-28T23:15:36.680Z",
    "type": "execution"
   },
   {
    "id": "65c9811d898946e59c72d444a276026c",
    "time": "2021-01-28T23:15:36.813Z",
    "type": "completion"
   },
   {
    "code": "# From the numpy module:\nnp.array([1, 2, 3])",
    "id": "34ef6b434e084dbb8b485170830e9323",
    "idx": 21,
    "time": "2021-01-28T23:17:18.480Z",
    "type": "execution"
   },
   {
    "id": "34ef6b434e084dbb8b485170830e9323",
    "time": "2021-01-28T23:17:18.550Z",
    "type": "completion"
   },
   {
    "code": "import numpy as np\nfrom datascience import *",
    "id": "3fcea4f8d6fb4a438d6eec929984ac9d",
    "idx": 13,
    "time": "2021-01-28T23:17:22.170Z",
    "type": "execution"
   },
   {
    "code": "# From the numpy module:\nnp.array([1, 2, 3])",
    "id": "34ef6b434e084dbb8b485170830e9323",
    "idx": 21,
    "time": "2021-01-28T23:17:23.382Z",
    "type": "execution"
   },
   {
    "id": "3fcea4f8d6fb4a438d6eec929984ac9d",
    "time": "2021-01-28T23:17:23.985Z",
    "type": "completion"
   },
   {
    "id": "34ef6b434e084dbb8b485170830e9323",
    "time": "2021-01-28T23:17:23.999Z",
    "type": "completion"
   },
   {
    "code": "# How we'll usually make arrays in this course: from the datascience module\nmake_array(1, 2, 3)",
    "id": "9429525b1d8d43cb8dd6ed9f10e5d0e4",
    "idx": 22,
    "time": "2021-01-28T23:18:02.250Z",
    "type": "execution"
   },
   {
    "id": "9429525b1d8d43cb8dd6ed9f10e5d0e4",
    "time": "2021-01-28T23:18:02.316Z",
    "type": "completion"
   },
   {
    "code": "type(one_array)",
    "id": "3613144091b146f49380896540b8da5f",
    "idx": 23,
    "time": "2021-01-28T23:18:24.080Z",
    "type": "execution"
   },
   {
    "id": "3613144091b146f49380896540b8da5f",
    "time": "2021-01-28T23:18:24.268Z",
    "type": "completion"
   },
   {
    "code": "# From the numpy module:\none_array = np.array([1, 2, 3])",
    "id": "34ef6b434e084dbb8b485170830e9323",
    "idx": 21,
    "time": "2021-01-28T23:18:25.901Z",
    "type": "execution"
   },
   {
    "id": "34ef6b434e084dbb8b485170830e9323",
    "time": "2021-01-28T23:18:25.973Z",
    "type": "completion"
   },
   {
    "code": "type(one_array)",
    "id": "3613144091b146f49380896540b8da5f",
    "idx": 23,
    "time": "2021-01-28T23:18:26.801Z",
    "type": "execution"
   },
   {
    "id": "3613144091b146f49380896540b8da5f",
    "time": "2021-01-28T23:18:26.885Z",
    "type": "completion"
   },
   {
    "code": "type(one_array)\ntype(another_array)",
    "id": "3613144091b146f49380896540b8da5f",
    "idx": 23,
    "time": "2021-01-28T23:18:30.074Z",
    "type": "execution"
   },
   {
    "id": "3613144091b146f49380896540b8da5f",
    "time": "2021-01-28T23:18:30.151Z",
    "type": "completion"
   },
   {
    "code": "# How we'll usually make arrays in this course: from the datascience module\nanother_array = make_array(1, 2, 3)",
    "id": "9429525b1d8d43cb8dd6ed9f10e5d0e4",
    "idx": 22,
    "time": "2021-01-28T23:18:31.816Z",
    "type": "execution"
   },
   {
    "id": "9429525b1d8d43cb8dd6ed9f10e5d0e4",
    "time": "2021-01-28T23:18:31.889Z",
    "type": "completion"
   },
   {
    "code": "type(one_array)\ntype(another_array)",
    "id": "3613144091b146f49380896540b8da5f",
    "idx": 23,
    "time": "2021-01-28T23:18:32.558Z",
    "type": "execution"
   },
   {
    "id": "3613144091b146f49380896540b8da5f",
    "time": "2021-01-28T23:18:32.636Z",
    "type": "completion"
   },
   {
    "code": "one_array.item(2)",
    "id": "835a51cdf3fa48898747aaa38063e15c",
    "idx": 24,
    "time": "2021-01-28T23:19:14.523Z",
    "type": "execution"
   },
   {
    "id": "835a51cdf3fa48898747aaa38063e15c",
    "time": "2021-01-28T23:19:14.596Z",
    "type": "completion"
   },
   {
    "code": "# The big difference: Math!\n",
    "id": "59cad69ebbd2479b8c63eb4957fb8f64",
    "idx": 25,
    "time": "2021-01-28T23:19:43.557Z",
    "type": "execution"
   },
   {
    "id": "59cad69ebbd2479b8c63eb4957fb8f64",
    "time": "2021-01-28T23:19:43.627Z",
    "type": "completion"
   },
   {
    "code": "## Guess what will happen, and then explain what's happening here:\nmax(42, print(99), abs(-12)) ",
    "id": "436096b0d5f548b7879b2cb9a6d724f8",
    "idx": 11,
    "time": "2021-01-28T23:22:20.797Z",
    "type": "execution"
   },
   {
    "id": "436096b0d5f548b7879b2cb9a6d724f8",
    "time": "2021-01-28T23:22:20.888Z",
    "type": "completion"
   },
   {
    "code": "# The two main ways we can import our tools: import ... as ... & from ... import ...\nimport numpy as np # \"import the functions from numpy, and reference its functions with np\"\nfrom datascience import * # \"import all of the functions from datascience, without a label/name\"\nfrom math import pi, e # \nimport matplotlib.pyplot as plt # import the pyplot module from matplotlib with the name plt",
    "id": "3fcea4f8d6fb4a438d6eec929984ac9d",
    "idx": 14,
    "time": "2021-01-28T23:33:34.992Z",
    "type": "execution"
   },
   {
    "id": "3fcea4f8d6fb4a438d6eec929984ac9d",
    "time": "2021-01-28T23:33:35.057Z",
    "type": "completion"
   },
   {
    "code": "math.e",
    "id": "98ea1b56621244cc8be7cb9e58f39202",
    "idx": 15,
    "time": "2021-01-28T23:33:38.024Z",
    "type": "execution"
   },
   {
    "id": "98ea1b56621244cc8be7cb9e58f39202",
    "time": "2021-01-28T23:33:38.114Z",
    "type": "completion"
   },
   {
    "code": "e",
    "id": "98ea1b56621244cc8be7cb9e58f39202",
    "idx": 15,
    "time": "2021-01-28T23:33:39.141Z",
    "type": "execution"
   },
   {
    "id": "98ea1b56621244cc8be7cb9e58f39202",
    "time": "2021-01-28T23:33:39.204Z",
    "type": "completion"
   },
   {
    "code": "# The two main ways we can import our tools: import ... as ... & from ... import ...\nimport numpy as np # \"import the functions from numpy, and reference its functions with np\"\nfrom datascience import * # \"import all of the functions from datascience, without a label/name\"\nfrom math import pi, e # \nimport matplotlib.pyplot as plt # import the pyplot module from matplotlib with the name plt",
    "id": "3fcea4f8d6fb4a438d6eec929984ac9d",
    "idx": 14,
    "time": "2021-01-28T23:33:39.952Z",
    "type": "execution"
   },
   {
    "id": "3fcea4f8d6fb4a438d6eec929984ac9d",
    "time": "2021-01-28T23:33:40.022Z",
    "type": "completion"
   },
   {
    "code": "e",
    "id": "98ea1b56621244cc8be7cb9e58f39202",
    "idx": 15,
    "time": "2021-01-28T23:33:40.327Z",
    "type": "execution"
   },
   {
    "id": "98ea1b56621244cc8be7cb9e58f39202",
    "time": "2021-01-28T23:33:40.404Z",
    "type": "completion"
   },
   {
    "code": "np.",
    "id": "6dba376cf0bb4765a1a5a90f85269538",
    "idx": 15,
    "time": "2021-01-28T23:34:48.914Z",
    "type": "execution"
   },
   {
    "id": "6dba376cf0bb4765a1a5a90f85269538",
    "time": "2021-01-28T23:34:48.995Z",
    "type": "completion"
   },
   {
    "code": "np",
    "id": "6dba376cf0bb4765a1a5a90f85269538",
    "idx": 15,
    "time": "2021-01-28T23:34:51.617Z",
    "type": "execution"
   },
   {
    "id": "6dba376cf0bb4765a1a5a90f85269538",
    "time": "2021-01-28T23:34:51.680Z",
    "type": "completion"
   },
   {
    "code": "plt.plot()",
    "id": "a801a5d96d7a43a79b8cd3a795d274a1",
    "idx": 17,
    "time": "2021-01-28T23:38:00.796Z",
    "type": "execution"
   },
   {
    "id": "a801a5d96d7a43a79b8cd3a795d274a1",
    "time": "2021-01-28T23:38:00.889Z",
    "type": "completion"
   },
   {
    "code": "plt.plot(1, 2)",
    "id": "a801a5d96d7a43a79b8cd3a795d274a1",
    "idx": 17,
    "time": "2021-01-28T23:38:03.047Z",
    "type": "execution"
   },
   {
    "id": "a801a5d96d7a43a79b8cd3a795d274a1",
    "time": "2021-01-28T23:38:03.124Z",
    "type": "completion"
   },
   {
    "code": "plt.plot(1, 2)''",
    "id": "a801a5d96d7a43a79b8cd3a795d274a1",
    "idx": 17,
    "time": "2021-01-28T23:38:04.667Z",
    "type": "execution"
   },
   {
    "id": "a801a5d96d7a43a79b8cd3a795d274a1",
    "time": "2021-01-28T23:38:04.752Z",
    "type": "completion"
   },
   {
    "code": "plt.plot(1, 2);",
    "id": "a801a5d96d7a43a79b8cd3a795d274a1",
    "idx": 17,
    "time": "2021-01-28T23:38:08.411Z",
    "type": "execution"
   },
   {
    "id": "a801a5d96d7a43a79b8cd3a795d274a1",
    "time": "2021-01-28T23:38:08.488Z",
    "type": "completion"
   },
   {
    "code": "plt.plot(1, 2)",
    "id": "a801a5d96d7a43a79b8cd3a795d274a1",
    "idx": 17,
    "time": "2021-01-28T23:38:10.859Z",
    "type": "execution"
   },
   {
    "id": "a801a5d96d7a43a79b8cd3a795d274a1",
    "time": "2021-01-28T23:38:10.927Z",
    "type": "completion"
   },
   {
    "code": "plt.scatter(1, 2)",
    "id": "a801a5d96d7a43a79b8cd3a795d274a1",
    "idx": 17,
    "time": "2021-01-28T23:38:14.298Z",
    "type": "execution"
   },
   {
    "id": "a801a5d96d7a43a79b8cd3a795d274a1",
    "time": "2021-01-28T23:38:14.368Z",
    "type": "completion"
   },
   {
    "code": "plt.scatter(1, 2);",
    "id": "a801a5d96d7a43a79b8cd3a795d274a1",
    "idx": 17,
    "time": "2021-01-28T23:38:15.433Z",
    "type": "execution"
   },
   {
    "id": "a801a5d96d7a43a79b8cd3a795d274a1",
    "time": "2021-01-28T23:38:15.501Z",
    "type": "completion"
   },
   {
    "code": "# Let's use a datascience function - sample_proportions: \"from ... import ...\"\nsample_proportions(1, 2)",
    "id": "02ed28e7d2b44bd3ac0a885e56023990",
    "idx": 18,
    "time": "2021-01-28T23:46:38.980Z",
    "type": "execution"
   },
   {
    "id": "02ed28e7d2b44bd3ac0a885e56023990",
    "time": "2021-01-28T23:46:39.105Z",
    "type": "completion"
   },
   {
    "code": "# The two main ways we can import our tools: import ... as ... & from ... import ...\n\nimport numpy as np # \"import the functions from numpy, and reference its functions with np\"\nfrom datascience import * # \"import all of the functions from datascience, without a label/name\"\nimport matplotlib.pyplot as plt # import the pyplot module from matplotlib with the name plt",
    "id": "3fcea4f8d6fb4a438d6eec929984ac9d",
    "idx": 16,
    "time": "2021-01-28T23:46:40.678Z",
    "type": "execution"
   },
   {
    "code": "# Let's use a datascience function - sample_proportions: \"from ... import ...\"\nsample_proportions(1, 2)",
    "id": "02ed28e7d2b44bd3ac0a885e56023990",
    "idx": 18,
    "time": "2021-01-28T23:46:41.514Z",
    "type": "execution"
   },
   {
    "id": "3fcea4f8d6fb4a438d6eec929984ac9d",
    "time": "2021-01-28T23:46:42.411Z",
    "type": "completion"
   },
   {
    "id": "02ed28e7d2b44bd3ac0a885e56023990",
    "time": "2021-01-28T23:46:42.430Z",
    "type": "completion"
   },
   {
    "code": "# Let's use a numpy function - : \"import ... as ...\"\nnp.binomial?",
    "id": "6dba376cf0bb4765a1a5a90f85269538",
    "idx": 17,
    "time": "2021-01-28T23:48:02.544Z",
    "type": "execution"
   },
   {
    "id": "6dba376cf0bb4765a1a5a90f85269538",
    "time": "2021-01-28T23:48:02.639Z",
    "type": "completion"
   },
   {
    "code": "# Let's use a numpy function - : \"import ... as ...\"\nnp.random.binomial?",
    "id": "6dba376cf0bb4765a1a5a90f85269538",
    "idx": 17,
    "time": "2021-01-28T23:48:05.604Z",
    "type": "execution"
   },
   {
    "id": "6dba376cf0bb4765a1a5a90f85269538",
    "time": "2021-01-28T23:48:05.688Z",
    "type": "completion"
   },
   {
    "code": "# Let's use a numpy function - random.binomial: \"import ... as ...\"\nnp.random.binomial(10, 0.5)",
    "id": "6dba376cf0bb4765a1a5a90f85269538",
    "idx": 17,
    "time": "2021-01-28T23:48:39.210Z",
    "type": "execution"
   },
   {
    "id": "6dba376cf0bb4765a1a5a90f85269538",
    "time": "2021-01-28T23:48:39.307Z",
    "type": "completion"
   },
   {
    "code": "# Let's use a datascience function - sample_proportions: \"from ... import ...\"\nsample_proportions?",
    "id": "02ed28e7d2b44bd3ac0a885e56023990",
    "idx": 18,
    "time": "2021-01-28T23:48:49.988Z",
    "type": "execution"
   },
   {
    "id": "02ed28e7d2b44bd3ac0a885e56023990",
    "time": "2021-01-28T23:48:50.094Z",
    "type": "completion"
   },
   {
    "code": "# Let's use a datascience function - sample_proportions: \"from ... import ...\"\nsample_proportions(10, [0.5, 0.5])",
    "id": "02ed28e7d2b44bd3ac0a885e56023990",
    "idx": 18,
    "time": "2021-01-28T23:49:03.808Z",
    "type": "execution"
   },
   {
    "id": "02ed28e7d2b44bd3ac0a885e56023990",
    "time": "2021-01-28T23:49:04.078Z",
    "type": "completion"
   },
   {
    "code": "# Let's use a numpy function - random.binomial: \"import ... as ...\"\nnp.random.binomial(10, 0.5)",
    "id": "6dba376cf0bb4765a1a5a90f85269538",
    "idx": 17,
    "time": "2021-01-28T23:49:10.632Z",
    "type": "execution"
   },
   {
    "id": "6dba376cf0bb4765a1a5a90f85269538",
    "time": "2021-01-28T23:49:10.704Z",
    "type": "completion"
   },
   {
    "code": "# Let's use a datascience function - sample_proportions: \"from ... import ...\"\nsample_proportions(10, [0.5, 0.5])",
    "id": "02ed28e7d2b44bd3ac0a885e56023990",
    "idx": 18,
    "time": "2021-01-28T23:49:10.906Z",
    "type": "execution"
   },
   {
    "id": "02ed28e7d2b44bd3ac0a885e56023990",
    "time": "2021-01-28T23:49:10.972Z",
    "type": "completion"
   },
   {
    "code": "# Floats vs ints: an int\n10000000000000000000000000000000000000000000000000000000000000000000000000000000000000000000000000000000000000000000000000000000000000000000000000000000000000000000000000000000000000000000000000000000000000000000000000000000000000000000000000000000000000000000000000000000000000000000000000000000000000000000000000000000000000000000000000000000000000000000000000000000000000000000000000000000000000000000000000000000000000000000000000000000000",
    "id": "d0d706221487484b88818bde40976f52",
    "idx": 4,
    "time": "2021-01-29T00:30:53.559Z",
    "type": "execution"
   },
   {
    "id": "d0d706221487484b88818bde40976f52",
    "time": "2021-01-29T00:30:53.643Z",
    "type": "completion"
   },
   {
    "code": "# The same number from above, but as a float (.0 at the end) \n1000000000000000000000000000000000000000000000000000000000000000000000000000000000000000000000000000000000000000000000000000000000000000000000000000000000000000000000000000000000000000000000000.0",
    "id": "20b64ae4aff44e32ac092690d3562323",
    "idx": 5,
    "time": "2021-01-29T00:30:53.974Z",
    "type": "execution"
   },
   {
    "id": "20b64ae4aff44e32ac092690d3562323",
    "time": "2021-01-29T00:30:54.052Z",
    "type": "completion"
   },
   {
    "code": "# The same number from above, but as a float (.0 at the end) \n100000000000000000000000000000000000000000000000000000000000000000000000000000000000000000000000000000000000000000000000000000000000000000000000000000000000000000000000000000000000000000000000000.0",
    "id": "20b64ae4aff44e32ac092690d3562323",
    "idx": 5,
    "time": "2021-01-29T00:30:58.265Z",
    "type": "execution"
   },
   {
    "id": "20b64ae4aff44e32ac092690d3562323",
    "time": "2021-01-29T00:30:58.326Z",
    "type": "completion"
   },
   {
    "code": "# The same number from above, but as a float (.0 at the end) \n1000000000000000000000000000000000000000000000000000000000000000000000000000000000000000000000000000000000000000000000000000000000000000000000000000000000000000000000000000000000000000000000000000.0",
    "id": "20b64ae4aff44e32ac092690d3562323",
    "idx": 5,
    "time": "2021-01-29T00:31:03.054Z",
    "type": "execution"
   },
   {
    "id": "20b64ae4aff44e32ac092690d3562323",
    "time": "2021-01-29T00:31:03.118Z",
    "type": "completion"
   },
   {
    "code": "# The same number from above, but as a float (.0 at the end) \n1000000000000000000000000000000000000000000000000000000000000000000000000000000000000000000000000000000000000000000000000000000000000000000000000000000000000000000000000000000000000000000000000000.2",
    "id": "20b64ae4aff44e32ac092690d3562323",
    "idx": 5,
    "time": "2021-01-29T00:31:11.764Z",
    "type": "execution"
   },
   {
    "id": "20b64ae4aff44e32ac092690d3562323",
    "time": "2021-01-29T00:31:11.832Z",
    "type": "completion"
   },
   {
    "code": "# The same number from above, but as a float (.0 at the end) \n10000000000000000000000000000000000000000000000000000000000000000000000000000000000000000000000000000000000000000000000000000000000000000000000000000000000000000000000000000000000000000000000000000000000000000000000000000000000000000000000000000000000000000000000000000000000000000000000000000000000000000000000000000000000000000000000000000000000000000000000000000000000000000000000000000000000000000000000000000000000000000000000000000000000.2",
    "id": "20b64ae4aff44e32ac092690d3562323",
    "idx": 5,
    "time": "2021-01-29T00:31:26.669Z",
    "type": "execution"
   },
   {
    "id": "20b64ae4aff44e32ac092690d3562323",
    "time": "2021-01-29T00:31:26.737Z",
    "type": "completion"
   },
   {
    "code": "np.ones(100) / np.arange(1, 100, 2)",
    "id": "3b94df451e3b4305a6a740daf23091ca",
    "idx": 44,
    "time": "2021-01-29T00:34:16.409Z",
    "type": "execution"
   },
   {
    "id": "3b94df451e3b4305a6a740daf23091ca",
    "time": "2021-01-29T00:34:16.490Z",
    "type": "completion"
   },
   {
    "code": "np.ones(50) / np.arange(1, 100, 2)",
    "id": "3b94df451e3b4305a6a740daf23091ca",
    "idx": 44,
    "time": "2021-01-29T00:34:19.815Z",
    "type": "execution"
   },
   {
    "id": "3b94df451e3b4305a6a740daf23091ca",
    "time": "2021-01-29T00:34:19.884Z",
    "type": "completion"
   },
   {
    "code": "signs = (-1 * np.ones(50)) ** np.arange(50)\nnp.ones(50) / np.arange(1, 100, 2)",
    "id": "3b94df451e3b4305a6a740daf23091ca",
    "idx": 44,
    "time": "2021-01-29T00:34:45.314Z",
    "type": "execution"
   },
   {
    "id": "3b94df451e3b4305a6a740daf23091ca",
    "time": "2021-01-29T00:34:45.383Z",
    "type": "completion"
   },
   {
    "code": "signs = (-1 * np.ones(50)) ** np.arange(50)\n#np.ones(50) / np.arange(1, 100, 2)",
    "id": "3b94df451e3b4305a6a740daf23091ca",
    "idx": 44,
    "time": "2021-01-29T00:34:47.353Z",
    "type": "execution"
   },
   {
    "id": "3b94df451e3b4305a6a740daf23091ca",
    "time": "2021-01-29T00:34:47.421Z",
    "type": "completion"
   },
   {
    "code": "signs = (-1 * np.ones(50)) ** np.arange(50)\nsigns\n#np.ones(50) / np.arange(1, 100, 2)",
    "id": "3b94df451e3b4305a6a740daf23091ca",
    "idx": 44,
    "time": "2021-01-29T00:34:48.833Z",
    "type": "execution"
   },
   {
    "id": "3b94df451e3b4305a6a740daf23091ca",
    "time": "2021-01-29T00:34:48.917Z",
    "type": "completion"
   },
   {
    "code": "signs = (-1 * np.ones(50)) ** np.arange(50)\nsigns * np.ones(50) / np.arange(1, 100, 2)",
    "id": "3b94df451e3b4305a6a740daf23091ca",
    "idx": 44,
    "time": "2021-01-29T00:34:55.423Z",
    "type": "execution"
   },
   {
    "id": "3b94df451e3b4305a6a740daf23091ca",
    "time": "2021-01-29T00:34:55.489Z",
    "type": "completion"
   },
   {
    "code": "signs = (-1 * np.ones(50)) ** np.arange(50)\n4 * (signs * np.ones(50) / np.arange(1, 100, 2))",
    "id": "3b94df451e3b4305a6a740daf23091ca",
    "idx": 44,
    "time": "2021-01-29T00:34:59.792Z",
    "type": "execution"
   },
   {
    "id": "3b94df451e3b4305a6a740daf23091ca",
    "time": "2021-01-29T00:34:59.863Z",
    "type": "completion"
   },
   {
    "code": "signs = (-1 * np.ones(50)) ** np.arange(50))\nsum4 * (signs * np.ones(50) / np.arange(1, 100, 2))",
    "id": "3b94df451e3b4305a6a740daf23091ca",
    "idx": 44,
    "time": "2021-01-29T00:35:17.007Z",
    "type": "execution"
   },
   {
    "id": "3b94df451e3b4305a6a740daf23091ca",
    "time": "2021-01-29T00:35:17.076Z",
    "type": "completion"
   },
   {
    "code": "signs = (-1 * np.ones(50)) ** np.arange(50)\nsum((signs * np.ones(50)) / np.arange(1, 100, 2))",
    "id": "3b94df451e3b4305a6a740daf23091ca",
    "idx": 44,
    "time": "2021-01-29T00:35:34.381Z",
    "type": "execution"
   },
   {
    "id": "3b94df451e3b4305a6a740daf23091ca",
    "time": "2021-01-29T00:35:34.447Z",
    "type": "completion"
   },
   {
    "code": "signs = (-1 * np.ones(50)) ** np.arange(50)\n4* sum((signs * np.ones(50)) / np.arange(1, 100, 2))",
    "id": "3b94df451e3b4305a6a740daf23091ca",
    "idx": 44,
    "time": "2021-01-29T00:35:36.117Z",
    "type": "execution"
   },
   {
    "id": "3b94df451e3b4305a6a740daf23091ca",
    "time": "2021-01-29T00:35:36.202Z",
    "type": "completion"
   },
   {
    "code": "signs = (-1 * np.ones(50)) ** np.arange(50)\n4* sum((signs * np.ones(100)) / np.arange(1, 200, 2))",
    "id": "3b94df451e3b4305a6a740daf23091ca",
    "idx": 44,
    "time": "2021-01-29T00:35:41.184Z",
    "type": "execution"
   },
   {
    "id": "3b94df451e3b4305a6a740daf23091ca",
    "time": "2021-01-29T00:35:41.261Z",
    "type": "completion"
   },
   {
    "code": "signs = (-1 * np.ones(100)) ** np.arange(100)\n4* sum((signs * np.ones(100)) / np.arange(1, 200, 2))",
    "id": "3b94df451e3b4305a6a740daf23091ca",
    "idx": 44,
    "time": "2021-01-29T00:35:50.266Z",
    "type": "execution"
   },
   {
    "id": "3b94df451e3b4305a6a740daf23091ca",
    "time": "2021-01-29T00:35:50.348Z",
    "type": "completion"
   },
   {
    "code": "signs = (-1 * np.ones(1000)) ** np.arange(1000)\n4* sum((signs * np.ones(1000)) / np.arange(1, 2000, 2))",
    "id": "3b94df451e3b4305a6a740daf23091ca",
    "idx": 44,
    "time": "2021-01-29T00:35:59.067Z",
    "type": "execution"
   },
   {
    "id": "3b94df451e3b4305a6a740daf23091ca",
    "time": "2021-01-29T00:35:59.133Z",
    "type": "completion"
   }
  ],
  "kernelspec": {
   "display_name": "Python 3",
   "language": "python",
   "name": "python3"
  },
  "language_info": {
   "codemirror_mode": {
    "name": "ipython",
    "version": 3
   },
   "file_extension": ".py",
   "mimetype": "text/x-python",
   "name": "python",
   "nbconvert_exporter": "python",
   "pygments_lexer": "ipython3",
   "version": "3.8.6"
  }
 },
 "nbformat": 4,
 "nbformat_minor": 4
}
