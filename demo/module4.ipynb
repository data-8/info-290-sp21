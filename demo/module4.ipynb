{
 "cells": [
  {
   "cell_type": "code",
   "execution_count": null,
   "metadata": {},
   "outputs": [],
   "source": [
    "from datascience import *\n",
    "import numpy as np \n",
    "import pandas as pd\n",
    "\n",
    "import matplotlib.pyplot as plt \n",
    "plt.style.use('fivethirtyeight') \n",
    "%matplotlib inline "
   ]
  },
  {
   "cell_type": "code",
   "execution_count": null,
   "metadata": {},
   "outputs": [],
   "source": [
    "# Why do we use histograms and density over count/bar charts?\n",
    "# Let's look at midterm data from a class. \n",
    "scores = Table().read_table(\"scores_by_section.csv\")\n",
    "bins = make_array(0, 40, 60, 80, 90, 95, 100)\n",
    "bin_cats = [\"[0, 30)\", \"[30, 60)\", \"[60, 80)\", \"[80, 90)\", \"[90, 95)\", \"[95, 100)\"] # notice the bins\n",
    "counts_per_bin = [scores.where(\"Midterm\", are.between(0, 30)).num_rows,\n",
    "                  scores.where(\"Midterm\", are.between(3, 60)).num_rows,\n",
    "                  scores.where(\"Midterm\", are.between(60, 80)).num_rows,\n",
    "                  scores.where(\"Midterm\", are.between(80, 90)).num_rows,\n",
    "                  scores.where(\"Midterm\", are.between(90, 95)).num_rows,\n",
    "                  scores.where(\"Midterm\", are.between_or_equal_to(90, 100)).num_rows]"
   ]
  },
  {
   "cell_type": "code",
   "execution_count": null,
   "metadata": {},
   "outputs": [],
   "source": [
    "plt.figure(figsize = (8, 5));\n",
    "plt.bar(bin_cats, counts_per_bin);\n",
    "plt.ylabel(\"Count\");\n",
    "plt.xlabel(\"Score\");"
   ]
  },
  {
   "cell_type": "code",
   "execution_count": null,
   "metadata": {},
   "outputs": [],
   "source": [
    "# These don't tell the same story!\n",
    "plt.figure(figsize = (8, 5));\n",
    "plt.hist(scores.column(\"Midterm\"), bins = bins);\n",
    "plt.ylabel(\"Percent per score\");\n",
    "plt.xlabel(\"Score\");"
   ]
  },
  {
   "cell_type": "code",
   "execution_count": null,
   "metadata": {},
   "outputs": [],
   "source": [
    "# A better use of bar charts in this dataset: compare across section \n",
    "scores_by_section = ...\n"
   ]
  },
  {
   "cell_type": "markdown",
   "metadata": {},
   "source": [
    "## Booleans: Making Decisions in Python\n",
    "\n",
    "You might have noticed two specific values (highlighted in green) in Python: True and False.\n",
    "\n",
    "These values are different from simple strings (\"True\" or \"False\") and have special properties associated with them. Because they are a binary, we can use them to make complicated decisions or filters with our code."
   ]
  },
  {
   "cell_type": "code",
   "execution_count": null,
   "metadata": {},
   "outputs": [],
   "source": [
    "# What is a Boolean? + properties\n",
    "True"
   ]
  },
  {
   "cell_type": "code",
   "execution_count": null,
   "metadata": {},
   "outputs": [],
   "source": [
    "# Boolean comparisons\n",
    "# We can create booleans by comparing values\n",
    "# >, <, <=, >=, !=, ==\n",
    "..."
   ]
  },
  {
   "cell_type": "code",
   "execution_count": null,
   "metadata": {},
   "outputs": [],
   "source": [
    "# and it works with arrays! Boolean masking\n",
    "grades = make_array(10, 12, 9, 8, 9, 10, 7, 5, 6, 8, 4, 3, 5, 11, 12, 9, 8)\n",
    "..."
   ]
  },
  {
   "cell_type": "code",
   "execution_count": null,
   "metadata": {},
   "outputs": [],
   "source": [
    "# Practice question: Find the names of your classmates that are longer than 5 characters long\n",
    "names = make_array(\"Temma\", \"Jessica\", \"Corrine\", \"Sakshina\", \"Sachin\", \"Grace\", \"Nicole\", \"Cynthia\",\n",
    "                  \"Jack\", \"Zhenya\", \"Benny\", \"Danielle\", \"Jose\", \"Megan\", \"Lena\", \"Beixuan\", \"Kendle\",\n",
    "                  \"Vicky\", \"Kelsey\", \"Kimsa\", \"Ifejesu\", \"Joe\", \"Gerald\", \"Yang\", \"Joyce\", \"Sofia\",\n",
    "                  \"Christine\", \"Hsiang Yun\", \"Zihong\")\n",
    "\n",
    "name_lengths = np.array([len(name) for name in names]) # a list comprehension; more on iteration next week\n",
    "\n",
    "..."
   ]
  },
  {
   "cell_type": "code",
   "execution_count": null,
   "metadata": {},
   "outputs": [],
   "source": [
    "# Compound statements: and/or\n",
    "\n",
    "#(3 < 4) and (5 < 2)\n",
    "#(42 == 42.0) and (3*2 > 5)\n",
    "\n",
    "#(\"blue\" == \"green\") or (\"red\" == \"red\")\n",
    "#(\"blue\" == \"gold\") or (\"red\" == \"white\")"
   ]
  },
  {
   "cell_type": "code",
   "execution_count": null,
   "metadata": {},
   "outputs": [],
   "source": [
    "# If else statements: We can build this into code to make our computer choose between options\n",
    "\n",
    "grade = ...\n",
    "\n",
    "if ...: # A \n",
    "    ...\n",
    "    \n",
    "elif ...: # B \n",
    "    ...\n",
    "    \n",
    "elif ...: # C\n",
    "    ...\n",
    "\n",
    "else: # not pass\n",
    "    ..."
   ]
  },
  {
   "cell_type": "code",
   "execution_count": null,
   "metadata": {},
   "outputs": [],
   "source": [
    "# Truthy + falsey values: Python considers all values that are 0, None, or empty [] to be False \n",
    "# Everything else is True\n",
    "\n",
    "if ...:\n",
    "    print(\"This is a truth-y value!\")\n",
    "else:\n",
    "    print(\"This is a false-y value!\")\n"
   ]
  },
  {
   "cell_type": "code",
   "execution_count": null,
   "metadata": {},
   "outputs": [],
   "source": [
    "# Practice problem:\n",
    "# What will the name animal be equal to? Guess before you run it. \n",
    "\n",
    "animal = None\n",
    "\n",
    "if type(7) == float:\n",
    "    animal = \"turtle\"\n",
    "\n",
    "elif False:\n",
    "    animal = \"fish\"\n",
    "\n",
    "elif 0:\n",
    "    animal = \"bear\"\n",
    "\n",
    "elif max:\n",
    "    animal = \"snake\"\n",
    "\n",
    "else:\n",
    "    animal = \"bird\"\n",
    "\n",
    "animal"
   ]
  },
  {
   "cell_type": "markdown",
   "metadata": {},
   "source": [
    "## Functions: Making generalizable code\n",
    "\n",
    "Functions are ways we can create packageable/generalizable code. In other words, by writing code that is fit to a general variable, we can use it \n",
    "\n",
    "For example, in mathematics:\n",
    "\n",
    "$ f(x) = x^2 $ \n",
    "\n",
    "Means we can just plug in x and find the square value, such as:\n",
    "\n",
    "$ f(5) = 5^2 = 25 $\n",
    "\n",
    "Python functions are similar. They take in an input and create an output, where there is code in the background that works on the input."
   ]
  },
  {
   "cell_type": "code",
   "execution_count": null,
   "metadata": {},
   "outputs": [],
   "source": [
    "# On 2/11, at 1:25 PM, the weather in Berkeley was 55 degrees Fahrenheit\n",
    "\n",
    "# To convert F to C, as we saw in homework, C = (5/9) * (F - 32)\n",
    "...\n"
   ]
  },
  {
   "cell_type": "code",
   "execution_count": null,
   "metadata": {},
   "outputs": [],
   "source": [
    "todays_temp = \n",
    "\n",
    "..."
   ]
  },
  {
   "cell_type": "code",
   "execution_count": null,
   "metadata": {},
   "outputs": [],
   "source": [
    "# Writing functions: a \"pure\" function\n",
    "# Like in homework, let's do the F to C conversion::\n",
    "\n",
    "def name(args):\n",
    "    \"\"\"Docstring\"\"\"\n",
    "    ...\n",
    "    return ...\n",
    "\n",
    "f_to_c(55.0)"
   ]
  },
  {
   "cell_type": "code",
   "execution_count": null,
   "metadata": {},
   "outputs": [],
   "source": [
    "# Non-pure functions\n",
    "def print_conversion(...):\n",
    "    ...\n",
    "    print(...)\n",
    "\n",
    "...\n",
    "\n",
    "# Try doing math with the output now\n"
   ]
  },
  {
   "cell_type": "code",
   "execution_count": null,
   "metadata": {},
   "outputs": [],
   "source": [
    "# What if I tried to call a variable created in the body of a function? \n",
    "# Why? \n",
    "..."
   ]
  },
  {
   "cell_type": "code",
   "execution_count": null,
   "metadata": {},
   "outputs": [],
   "source": [
    "\"a\".lower()"
   ]
  },
  {
   "cell_type": "code",
   "execution_count": null,
   "metadata": {},
   "outputs": [],
   "source": [
    "# How does this work with tables? If we want to use a function on an entire column,\n",
    "# we can use tbl.apply(func, \"col\")\n",
    "\n",
    "def first_letter(name, lower = False):  # lower is a \"flag\" \n",
    "    \"\"\"Return the first character of a given string in the specified case\"\"\"\n",
    "    if lower:\n",
    "        return name[0].lower()\n",
    "    else:\n",
    "        return name[0].upper()\n",
    "\n",
    "names_tbl = Table().with_column(\"Name\", names)\n",
    "names_tbl"
   ]
  },
  {
   "cell_type": "code",
   "execution_count": null,
   "metadata": {},
   "outputs": [],
   "source": [
    "# Try applying the first_letter func to the names_tbl. What data type do you get?\n",
    "# Then, using a Boolean mask, find all the names in the class that are \n",
    "# in the first half of the alphabet (A-M)\n",
    "# Make sure you get an array of the names in question\n",
    "..."
   ]
  },
  {
   "cell_type": "code",
   "execution_count": null,
   "metadata": {},
   "outputs": [],
   "source": [
    "# Another way of answering the previous question (with table methods)\n",
    "..."
   ]
  },
  {
   "cell_type": "code",
   "execution_count": null,
   "metadata": {},
   "outputs": [],
   "source": [
    "## One last note: functions can take in anything as an input and make any output\n",
    "# We can plug in tables, functions, strings, ints, etc.!"
   ]
  },
  {
   "cell_type": "markdown",
   "metadata": {},
   "source": [
    "## Treating Functions as Abstractions\n",
    "\n",
    "Remember that functions are objects in Python, and we can use previously existing functions to make more complex or useful functions (for our purposes). If we simply treat them as black boxes that work (without caring about the implementation), we should use them to build other functions that fit our use cases.\n",
    "\n",
    "One such example is currying. In currying, we will call a function within a different function. We do this to reduce the total number of arguments and simplify the function for our specific use. See below for an example."
   ]
  },
  {
   "cell_type": "code",
   "execution_count": null,
   "metadata": {},
   "outputs": [],
   "source": [
    "## Write a function that calculates the value of a power\n",
    "def power(base, power):\n",
    "    ..."
   ]
  },
  {
   "cell_type": "code",
   "execution_count": null,
   "metadata": {},
   "outputs": [],
   "source": [
    "# Treating functions as abstractions: currying\n",
    "def square(...):\n",
    "    ..."
   ]
  },
  {
   "cell_type": "code",
   "execution_count": null,
   "metadata": {},
   "outputs": [],
   "source": [
    "def cube(...):\n",
    "    ..."
   ]
  },
  {
   "cell_type": "markdown",
   "metadata": {},
   "source": [
    "Recursion is the process of calling a function within itself. This lets us repeat a computation many times, and the key part of this is that we treat the function as an abstraction and assume it works correctly, and build towards a stop point. Here are the aspects of a recursive function:\n",
    "\n",
    "- A base case (the \"stop point\") \n",
    "- A recursive call that moves towards the base case (ex. if we have the function f(n), then we would do something like return f(n-1) in the body)\n",
    "\n",
    "For example: this function finds the factorial of n."
   ]
  },
  {
   "cell_type": "code",
   "execution_count": null,
   "metadata": {},
   "outputs": [],
   "source": [
    "def find_fact(n):\n",
    "    \"Find factorial of n: n * (n-1) * (n-2) * (n-3) * ...\"\n",
    "    if n == 1:\n",
    "        return 1\n",
    "    else:\n",
    "        return n * find_fact(n-1)\n",
    "    \n",
    "find_fact(5) # 5 * 4 * 3 * 2 * 1"
   ]
  },
  {
   "cell_type": "markdown",
   "metadata": {},
   "source": [
    "The Hailstone sequence from Hofstadter is as follows:\n",
    "1. Pick a positive integer n as the start value.\n",
    "2. If n is even, divide it by 2.\n",
    "3. If n is odd, multiply it by 3 and add 1.\n",
    "4. If you continue this process, n will eventually reach 1. \n",
    "\n",
    "\n",
    "Let's write a function that uses if/else statements and recursion to do the hailstone sequence. "
   ]
  },
  {
   "cell_type": "code",
   "execution_count": null,
   "metadata": {},
   "outputs": [],
   "source": [
    "def hailstone(n):\n",
    "    ...\n",
    "    \n",
    "hailstone(10)"
   ]
  },
  {
   "cell_type": "code",
   "execution_count": null,
   "metadata": {},
   "outputs": [],
   "source": [
    "## Not that important for us, but cool application: we can write functions that return functions \n",
    "# This is called a \"higher order\" function\n",
    "# More info in Prof. DeNero and Prof. Farid's lectures (CS61A and INFO 206A)\n",
    "\n",
    "def pow_creator(n):\n",
    "    \"\"\"Returns a function that calculates x to a certain power n\"\"\"\n",
    "    def n_power(x):\n",
    "        \"\"\"Calculates x ** n, where n is defined by pow_creator\"\"\"\n",
    "        return x ** n\n",
    "    return n_power\n",
    "\n",
    "squarer = ..."
   ]
  },
  {
   "cell_type": "markdown",
   "metadata": {},
   "source": [
    "## Next week's topics and a quick clarification\n",
    "\n",
    "Note: these discussions may not match up well with the lecture content, but I think it's useful to go into these computing topics here so I've switched up a few topics. Module 4 covers functions and table methods and Module 5 covers booleans and iteration. \n",
    "\n",
    "Next week, we will cover the advanced table methods (group, join, pivot) which will be in Lab 5 and Homework 4 due 2/25. The videos for Module 4 introduced these concepts, but I think it will be more useful to discuss them more in depth in discussion next week (2/19). For the asynchronous students' sake (who may not be able to watch the discussion recording by Monday), the vitamin this week will check your understanding of functions and table methods.\n",
    "\n",
    "We will also talk about iteration, or using Python to run a block of code many times, with while and for loops which will be a key part of how we run empirical simulations for statistical analysis. \n"
   ]
  },
  {
   "cell_type": "code",
   "execution_count": null,
   "metadata": {},
   "outputs": [],
   "source": []
  }
 ],
 "metadata": {
  "history": [
   {
    "code": "from datascience import *",
    "id": "64fca520bf2545aea0f39889e5c7dfd4",
    "idx": 0,
    "time": "2021-02-11T17:00:03.329Z",
    "type": "execution"
   },
   {
    "id": "64fca520bf2545aea0f39889e5c7dfd4",
    "time": "2021-02-11T17:00:05.261Z",
    "type": "completion"
   },
   {
    "code": "from datascience import *\nimport numpy as np \n\nimport matplotlib.pyplot as plt \nplt.style.use('fivethirtyeight') \n%matplotlib inline ",
    "id": "64fca520bf2545aea0f39889e5c7dfd4",
    "idx": 0,
    "time": "2021-02-11T17:00:22.646Z",
    "type": "execution"
   },
   {
    "id": "64fca520bf2545aea0f39889e5c7dfd4",
    "time": "2021-02-11T17:00:22.719Z",
    "type": "completion"
   },
   {
    "code": "# Histograms review (why histograms?)\n",
    "id": "fc7f932240244861bab4c2902cdfbb89",
    "idx": 1,
    "time": "2021-02-11T17:02:42.251Z",
    "type": "execution"
   },
   {
    "id": "fc7f932240244861bab4c2902cdfbb89",
    "time": "2021-02-11T17:02:42.323Z",
    "type": "completion"
   },
   {
    "code": "# Booleans\n# What is a boolean",
    "id": "df1d8a654be743f98d541ef2e04d94c3",
    "idx": 2,
    "time": "2021-02-11T17:03:05.628Z",
    "type": "execution"
   },
   {
    "id": "df1d8a654be743f98d541ef2e04d94c3",
    "time": "2021-02-11T17:03:05.696Z",
    "type": "completion"
   },
   {
    "code": "# If else statements (decisions)\n",
    "id": "84903e7061944e838c6328510a0dd8c0",
    "idx": 3,
    "time": "2021-02-11T17:03:13.734Z",
    "type": "execution"
   },
   {
    "id": "84903e7061944e838c6328510a0dd8c0",
    "time": "2021-02-11T17:03:13.800Z",
    "type": "completion"
   },
   {
    "code": "# Booleans\n# What is a boolean",
    "id": "df1d8a654be743f98d541ef2e04d94c3",
    "idx": 2,
    "time": "2021-02-11T17:03:23.227Z",
    "type": "execution"
   },
   {
    "id": "df1d8a654be743f98d541ef2e04d94c3",
    "time": "2021-02-11T17:03:23.302Z",
    "type": "completion"
   },
   {
    "code": "# Truthy + falsey values\n",
    "id": "9bad02195ddf474d9df28f7e8fadc7a4",
    "idx": 3,
    "time": "2021-02-11T17:03:31.668Z",
    "type": "execution"
   },
   {
    "id": "9bad02195ddf474d9df28f7e8fadc7a4",
    "time": "2021-02-11T17:03:31.737Z",
    "type": "completion"
   },
   {
    "code": "# If else statements (decisions)\n",
    "id": "84903e7061944e838c6328510a0dd8c0",
    "idx": 4,
    "time": "2021-02-11T17:03:33.422Z",
    "type": "execution"
   },
   {
    "id": "84903e7061944e838c6328510a0dd8c0",
    "time": "2021-02-11T17:03:33.488Z",
    "type": "completion"
   },
   {
    "code": "# Extended if else with truthy + falsey",
    "id": "9e13b59b4c5944df823875e59a44a63b",
    "idx": 5,
    "time": "2021-02-11T17:03:42.762Z",
    "type": "execution"
   },
   {
    "id": "9e13b59b4c5944df823875e59a44a63b",
    "time": "2021-02-11T17:03:42.835Z",
    "type": "completion"
   },
   {
    "code": "# Functions\n",
    "id": "dd0e8f23f610450da8338ccdca360456",
    "idx": 6,
    "time": "2021-02-11T17:03:50.071Z",
    "type": "execution"
   },
   {
    "id": "dd0e8f23f610450da8338ccdca360456",
    "time": "2021-02-11T17:03:50.140Z",
    "type": "completion"
   },
   {
    "code": "# Generalize the example\n\n",
    "id": "71ddef27e98e4c788703f3514b798012",
    "idx": 7,
    "time": "2021-02-11T17:04:06.601Z",
    "type": "execution"
   },
   {
    "id": "71ddef27e98e4c788703f3514b798012",
    "time": "2021-02-11T17:04:06.671Z",
    "type": "completion"
   },
   {
    "code": "# Writing a function\n\n",
    "id": "c8c4da7b0458450eafba695d238424a4",
    "idx": 8,
    "time": "2021-02-11T17:04:59.707Z",
    "type": "execution"
   },
   {
    "id": "c8c4da7b0458450eafba695d238424a4",
    "time": "2021-02-11T17:04:59.780Z",
    "type": "completion"
   },
   {
    "code": "# Treating functions as abstractions: currying\n\n",
    "id": "1a66c88b83f24ec391e4b53e156ebc4b",
    "idx": 9,
    "time": "2021-02-11T17:05:59.107Z",
    "type": "execution"
   },
   {
    "id": "1a66c88b83f24ec391e4b53e156ebc4b",
    "time": "2021-02-11T17:05:59.167Z",
    "type": "completion"
   },
   {
    "code": "# Treating functions as abstractions: recursion (Hailstone)\n\n",
    "id": "00249693b0b74f8788ad70ea23c7042f",
    "idx": 10,
    "time": "2021-02-11T17:06:12.516Z",
    "type": "execution"
   },
   {
    "id": "00249693b0b74f8788ad70ea23c7042f",
    "time": "2021-02-11T17:06:12.583Z",
    "type": "completion"
   },
   {
    "code": "from datascience import *\nimport numpy as np \n\nimport matplotlib.pyplot as plt \nplt.style.use('fivethirtyeight') \n%matplotlib inline ",
    "id": "64fca520bf2545aea0f39889e5c7dfd4",
    "idx": 0,
    "time": "2021-02-11T17:11:38.525Z",
    "type": "execution"
   },
   {
    "id": "64fca520bf2545aea0f39889e5c7dfd4",
    "time": "2021-02-11T17:11:38.601Z",
    "type": "completion"
   },
   {
    "code": "# What is a Boolean?\nTrue\nFalse",
    "id": "df1d8a654be743f98d541ef2e04d94c3",
    "idx": 3,
    "time": "2021-02-11T17:30:25.229Z",
    "type": "execution"
   },
   {
    "id": "df1d8a654be743f98d541ef2e04d94c3",
    "time": "2021-02-11T17:30:25.299Z",
    "type": "completion"
   },
   {
    "code": "# Comparisons\n",
    "id": "06aa0c3537514a13b7a7644efb78be33",
    "idx": 4,
    "time": "2021-02-11T17:30:45.826Z",
    "type": "execution"
   },
   {
    "id": "06aa0c3537514a13b7a7644efb78be33",
    "time": "2021-02-11T17:30:45.889Z",
    "type": "completion"
   },
   {
    "code": "# What is a Boolean? + properties\nTrue",
    "id": "df1d8a654be743f98d541ef2e04d94c3",
    "idx": 3,
    "time": "2021-02-11T17:32:05.596Z",
    "type": "execution"
   },
   {
    "id": "df1d8a654be743f98d541ef2e04d94c3",
    "time": "2021-02-11T17:32:05.660Z",
    "type": "completion"
   },
   {
    "code": "def find_fact(n):\n    if n == 1:\n        return 1\n    else:\n        return n * find_fact(n-1)\n    \nfind_fact(5)",
    "id": "951e1e8be9c74c7f8d4a39fe80848b9e",
    "idx": 16,
    "time": "2021-02-11T18:13:26.883Z",
    "type": "execution"
   },
   {
    "id": "951e1e8be9c74c7f8d4a39fe80848b9e",
    "time": "2021-02-11T18:13:27.010Z",
    "type": "completion"
   },
   {
    "code": "# non-general example\n",
    "id": "dd0e8f23f610450da8338ccdca360456",
    "idx": 10,
    "time": "2021-02-11T19:29:53.345Z",
    "type": "execution"
   },
   {
    "id": "dd0e8f23f610450da8338ccdca360456",
    "time": "2021-02-11T19:29:53.449Z",
    "type": "completion"
   },
   {
    "code": "# Boolean comparisons\n# We can create booleans by comparing values\n3 > 4\n",
    "id": "06aa0c3537514a13b7a7644efb78be33",
    "idx": 4,
    "time": "2021-02-11T19:31:18.674Z",
    "type": "execution"
   },
   {
    "id": "06aa0c3537514a13b7a7644efb78be33",
    "time": "2021-02-11T19:31:18.761Z",
    "type": "completion"
   },
   {
    "code": "# and it works with arrays! Boolean masking\ngrades = make_array(10, 12, 9, 8, 9, 10, 7, 5, 6, 8, 4, 3, 5, 11, 12, 9, 8)\ngrades",
    "id": "c8761d3c3bf54f5a84d9bfbdb90e5a3e",
    "idx": 5,
    "time": "2021-02-11T19:32:13.546Z",
    "type": "execution"
   },
   {
    "id": "c8761d3c3bf54f5a84d9bfbdb90e5a3e",
    "time": "2021-02-11T19:32:13.622Z",
    "type": "completion"
   },
   {
    "code": "# and it works with arrays! Boolean masking\ngrades = make_array(10, 12, 9, 8, 9, 10, 7, 5, 6, 8, 4, 3, 5, 11, 12, 9, 8)\ngrades > 10",
    "id": "c8761d3c3bf54f5a84d9bfbdb90e5a3e",
    "idx": 5,
    "time": "2021-02-11T19:32:19.920Z",
    "type": "execution"
   },
   {
    "id": "c8761d3c3bf54f5a84d9bfbdb90e5a3e",
    "time": "2021-02-11T19:32:19.998Z",
    "type": "completion"
   },
   {
    "code": "# and it works with arrays! Boolean masking\ngrades = make_array(10, 12, 9, 8, 9, 10, 7, 5, 6, 8, 4, 3, 5, 11, 12, 9, 8)\ngrades[grades > 10]",
    "id": "c8761d3c3bf54f5a84d9bfbdb90e5a3e",
    "idx": 5,
    "time": "2021-02-11T19:32:23.781Z",
    "type": "execution"
   },
   {
    "id": "c8761d3c3bf54f5a84d9bfbdb90e5a3e",
    "time": "2021-02-11T19:32:23.851Z",
    "type": "completion"
   },
   {
    "code": "# What is a Boolean? + properties\nTrue\nTrue + True",
    "id": "df1d8a654be743f98d541ef2e04d94c3",
    "idx": 3,
    "time": "2021-02-11T19:33:56.062Z",
    "type": "execution"
   },
   {
    "id": "df1d8a654be743f98d541ef2e04d94c3",
    "time": "2021-02-11T19:33:56.125Z",
    "type": "completion"
   },
   {
    "code": "# What is a Boolean? + properties\nTrue\nTrue + True\nsum([True, True, False, True])",
    "id": "df1d8a654be743f98d541ef2e04d94c3",
    "idx": 3,
    "time": "2021-02-11T19:34:00.997Z",
    "type": "execution"
   },
   {
    "id": "df1d8a654be743f98d541ef2e04d94c3",
    "time": "2021-02-11T19:34:01.060Z",
    "type": "completion"
   },
   {
    "code": "# What is a Boolean? + properties\nTrue\nTrue + True\nTrue + False\nsum([True, True, False, True])\n",
    "id": "df1d8a654be743f98d541ef2e04d94c3",
    "idx": 3,
    "time": "2021-02-11T19:34:11.401Z",
    "type": "execution"
   },
   {
    "id": "df1d8a654be743f98d541ef2e04d94c3",
    "time": "2021-02-11T19:34:11.467Z",
    "type": "completion"
   },
   {
    "code": "# Challenge question: Find all of the names in this class that are longer than 5 characters\nnames = make_array(\"Temma\", \"Jessica\", \"Corrine\", \"Sakshina\", \"Sachin\", \"Grace\", \"Nicole\", \"Cynthia\",\n                  \"Jack\", \"Zhenya\", \"Benny\", \"Danielle\", \"Jose\", \"Megan\", \"Lena\", \"Beixuan\", \"Kendle\",\n                  \"Vicky\", \"Kelsey\", \"Kimsa\", \"Ifejesu\", \"Joe\", \"Gerald\", \"Yang\", \"Joyce\", \"Sofia\",\n                  \"Christine\", \"Hsiang Yun\", \"Zihong\")\nlen(names)",
    "id": "bb6bea7130d64b7caf72a0fcec8c1895",
    "idx": 6,
    "time": "2021-02-11T19:36:02.873Z",
    "type": "execution"
   },
   {
    "id": "bb6bea7130d64b7caf72a0fcec8c1895",
    "time": "2021-02-11T19:36:02.950Z",
    "type": "completion"
   },
   {
    "code": "names = make_array(\"Temma\", \"Jessica\", \"Corrine\", \"Sakshina\", \"Sachin\", \"Grace\", \"Nicole\", \"Cynthia\",\n                  \"Jack\", \"Zhenya\", \"Benny\", \"Danielle\", \"Jose\", \"Megan\", \"Lena\", \"Beixuan\", \"Kendle\",\n                  \"Vicky\", \"Kelsey\", \"Kimsa\", \"Ifejesu\", \"Joe\", \"Gerald\", \"Yang\", \"Joyce\", \"Sofia\",\n                  \"Christine\", \"Hsiang Yun\", \"Zihong\")\nname_lengths = [len(name) for name in names]",
    "id": "80af9c64f2ae4099b9b9fcae514db923",
    "idx": 6,
    "time": "2021-02-11T19:37:37.711Z",
    "type": "execution"
   },
   {
    "id": "80af9c64f2ae4099b9b9fcae514db923",
    "time": "2021-02-11T19:37:37.772Z",
    "type": "completion"
   },
   {
    "code": "names = make_array(\"Temma\", \"Jessica\", \"Corrine\", \"Sakshina\", \"Sachin\", \"Grace\", \"Nicole\", \"Cynthia\",\n                  \"Jack\", \"Zhenya\", \"Benny\", \"Danielle\", \"Jose\", \"Megan\", \"Lena\", \"Beixuan\", \"Kendle\",\n                  \"Vicky\", \"Kelsey\", \"Kimsa\", \"Ifejesu\", \"Joe\", \"Gerald\", \"Yang\", \"Joyce\", \"Sofia\",\n                  \"Christine\", \"Hsiang Yun\", \"Zihong\")\nname_lengths = [len(name) for name in names]\nname_lengths",
    "id": "80af9c64f2ae4099b9b9fcae514db923",
    "idx": 6,
    "time": "2021-02-11T19:37:41.031Z",
    "type": "execution"
   },
   {
    "id": "80af9c64f2ae4099b9b9fcae514db923",
    "time": "2021-02-11T19:37:41.103Z",
    "type": "completion"
   },
   {
    "code": "# Practice question\nnames = make_array(\"Temma\", \"Jessica\", \"Corrine\", \"Sakshina\", \"Sachin\", \"Grace\", \"Nicole\", \"Cynthia\",\n                  \"Jack\", \"Zhenya\", \"Benny\", \"Danielle\", \"Jose\", \"Megan\", \"Lena\", \"Beixuan\", \"Kendle\",\n                  \"Vicky\", \"Kelsey\", \"Kimsa\", \"Ifejesu\", \"Joe\", \"Gerald\", \"Yang\", \"Joyce\", \"Sofia\",\n                  \"Christine\", \"Hsiang Yun\", \"Zihong\")\nname_lengths = [len(name) for name in names]\nnames[name_lengths > 5]",
    "id": "80af9c64f2ae4099b9b9fcae514db923",
    "idx": 6,
    "time": "2021-02-11T19:37:53.728Z",
    "type": "execution"
   },
   {
    "id": "80af9c64f2ae4099b9b9fcae514db923",
    "time": "2021-02-11T19:37:54.021Z",
    "type": "completion"
   },
   {
    "code": "# Practice question\nnames = make_array(\"Temma\", \"Jessica\", \"Corrine\", \"Sakshina\", \"Sachin\", \"Grace\", \"Nicole\", \"Cynthia\",\n                  \"Jack\", \"Zhenya\", \"Benny\", \"Danielle\", \"Jose\", \"Megan\", \"Lena\", \"Beixuan\", \"Kendle\",\n                  \"Vicky\", \"Kelsey\", \"Kimsa\", \"Ifejesu\", \"Joe\", \"Gerald\", \"Yang\", \"Joyce\", \"Sofia\",\n                  \"Christine\", \"Hsiang Yun\", \"Zihong\")\nname_lengths = make_array([len(name) for name in names])\nnames[name_lengths > 5]",
    "id": "80af9c64f2ae4099b9b9fcae514db923",
    "idx": 6,
    "time": "2021-02-11T19:38:01.890Z",
    "type": "execution"
   },
   {
    "id": "80af9c64f2ae4099b9b9fcae514db923",
    "time": "2021-02-11T19:38:01.970Z",
    "type": "completion"
   },
   {
    "code": "# Practice question\nnames = make_array(\"Temma\", \"Jessica\", \"Corrine\", \"Sakshina\", \"Sachin\", \"Grace\", \"Nicole\", \"Cynthia\",\n                  \"Jack\", \"Zhenya\", \"Benny\", \"Danielle\", \"Jose\", \"Megan\", \"Lena\", \"Beixuan\", \"Kendle\",\n                  \"Vicky\", \"Kelsey\", \"Kimsa\", \"Ifejesu\", \"Joe\", \"Gerald\", \"Yang\", \"Joyce\", \"Sofia\",\n                  \"Christine\", \"Hsiang Yun\", \"Zihong\")\nname_lengths = np.array([len(name) for name in names])\nnames[name_lengths > 5]",
    "id": "80af9c64f2ae4099b9b9fcae514db923",
    "idx": 6,
    "time": "2021-02-11T19:38:10.433Z",
    "type": "execution"
   },
   {
    "id": "80af9c64f2ae4099b9b9fcae514db923",
    "time": "2021-02-11T19:38:10.509Z",
    "type": "completion"
   },
   {
    "code": "# Compound statements: and/or\n\n(3 < 4) and (5 < 2)\n",
    "id": "6837656f6ac948ce8385bb663ab89190",
    "idx": 7,
    "time": "2021-02-11T19:39:38.328Z",
    "type": "execution"
   },
   {
    "id": "6837656f6ac948ce8385bb663ab89190",
    "time": "2021-02-11T19:39:38.394Z",
    "type": "completion"
   },
   {
    "code": "# Compound statements: and/or\n\n(3 < 4) and (5 < 2)\n(\"blue\" == \"green\") or (\"red\" == \"red\")",
    "id": "6837656f6ac948ce8385bb663ab89190",
    "idx": 7,
    "time": "2021-02-11T19:40:14.347Z",
    "type": "execution"
   },
   {
    "id": "6837656f6ac948ce8385bb663ab89190",
    "time": "2021-02-11T19:40:16.334Z",
    "type": "completion"
   },
   {
    "code": "# Compound statements: and/or\n\n(3 < 4) and (5 < 2)\n(\"blue\" == \"green\") or (\"red\" == \"red\")",
    "id": "6837656f6ac948ce8385bb663ab89190",
    "idx": 7,
    "time": "2021-02-11T19:40:17.247Z",
    "type": "execution"
   },
   {
    "id": "6837656f6ac948ce8385bb663ab89190",
    "time": "2021-02-11T19:40:17.434Z",
    "type": "completion"
   },
   {
    "code": "# Compound statements: and/or\n\n(3 < 4) and (5 < 2)\n(\"blue\" == \"green\") or (\"red\" == \"red\")\n(\"blue\" == \"gold\") or (\"red\" == \"white\")",
    "id": "6837656f6ac948ce8385bb663ab89190",
    "idx": 7,
    "time": "2021-02-11T19:40:44.023Z",
    "type": "execution"
   },
   {
    "id": "6837656f6ac948ce8385bb663ab89190",
    "time": "2021-02-11T19:40:44.166Z",
    "type": "completion"
   },
   {
    "code": "# Compound statements: and/or\n\n(3 < 4) and (5 < 2)\n(42 == 42.0) and (3*2 > 5)\n\n(\"blue\" == \"green\") or (\"red\" == \"red\")\n(\"blue\" == \"gold\") or (\"red\" == \"white\")",
    "id": "6837656f6ac948ce8385bb663ab89190",
    "idx": 7,
    "time": "2021-02-11T19:41:31.285Z",
    "type": "execution"
   },
   {
    "id": "6837656f6ac948ce8385bb663ab89190",
    "time": "2021-02-11T19:41:31.349Z",
    "type": "completion"
   },
   {
    "code": "# Compound statements: and/or\n\n(3 < 4) and (5 < 2)\n(42 == 42.0) and (3*2 > 5)\n\n#(\"blue\" == \"green\") or (\"red\" == \"red\")\n#(\"blue\" == \"gold\") or (\"red\" == \"white\")",
    "id": "6837656f6ac948ce8385bb663ab89190",
    "idx": 7,
    "time": "2021-02-11T19:41:34.639Z",
    "type": "execution"
   },
   {
    "id": "6837656f6ac948ce8385bb663ab89190",
    "time": "2021-02-11T19:41:34.714Z",
    "type": "completion"
   },
   {
    "code": "# How does this work with tables? If we want to use a function on an entire column,\n# we can use tbl.apply(func, \"col\")\n\ndef first_letter(name):\n    ...\n\nnames_tbl = Table().with_column(\"Name\", names)\nnames_tbl",
    "id": "a7bbb36e209743f2860b01fd37aefe8b",
    "idx": 17,
    "time": "2021-02-11T19:49:16.856Z",
    "type": "execution"
   },
   {
    "id": "a7bbb36e209743f2860b01fd37aefe8b",
    "time": "2021-02-11T19:49:16.940Z",
    "type": "completion"
   },
   {
    "code": "# Try applying the first_letter func to the names_tbl\n# What data type do you get?\n# Find the \nnames_tbl.apply(0, \"Name\")",
    "id": "ba114d2addc2480f82ca4862f3bae3ae",
    "idx": 18,
    "time": "2021-02-11T19:50:02.131Z",
    "type": "execution"
   },
   {
    "id": "ba114d2addc2480f82ca4862f3bae3ae",
    "time": "2021-02-11T19:50:02.312Z",
    "type": "completion"
   },
   {
    "code": "# How does this work with tables? If we want to use a function on an entire column,\n# we can use tbl.apply(func, \"col\")\n\ndef first_letter(name):\n    return name[0]\n\nnames_tbl = Table().with_column(\"Name\", names)\nnames_tbl",
    "id": "a7bbb36e209743f2860b01fd37aefe8b",
    "idx": 17,
    "time": "2021-02-11T19:50:06.676Z",
    "type": "execution"
   },
   {
    "id": "a7bbb36e209743f2860b01fd37aefe8b",
    "time": "2021-02-11T19:50:06.758Z",
    "type": "completion"
   },
   {
    "code": "# Try applying the first_letter func to the names_tbl\n# What data type do you get?\n# Find the \nnames_tbl.apply(first_letter, \"Name\")",
    "id": "ba114d2addc2480f82ca4862f3bae3ae",
    "idx": 18,
    "time": "2021-02-11T19:50:11.257Z",
    "type": "execution"
   },
   {
    "id": "ba114d2addc2480f82ca4862f3bae3ae",
    "time": "2021-02-11T19:50:11.330Z",
    "type": "completion"
   },
   {
    "code": "# Try applying the first_letter func to the names_tbl\n# What data type do you get?\n# Find the \nnames[names_tbl.apply(first_letter, \"Name\")]",
    "id": "ba114d2addc2480f82ca4862f3bae3ae",
    "idx": 18,
    "time": "2021-02-11T19:50:24.143Z",
    "type": "execution"
   },
   {
    "id": "ba114d2addc2480f82ca4862f3bae3ae",
    "time": "2021-02-11T19:50:24.240Z",
    "type": "completion"
   },
   {
    "code": "# Try applying the first_letter func to the names_tbl\n# What data type do you get?\n# Find the \nnames[names_tbl.apply(first_letter, \"Name\")]",
    "id": "ba114d2addc2480f82ca4862f3bae3ae",
    "idx": 18,
    "time": "2021-02-11T19:50:27.907Z",
    "type": "execution"
   },
   {
    "id": "ba114d2addc2480f82ca4862f3bae3ae",
    "time": "2021-02-11T19:50:28.154Z",
    "type": "completion"
   },
   {
    "code": "# Try applying the first_letter func to the names_tbl\n# What data type do you get?\n# Find the \nnames[names_tbl.apply(first_letter, \"Name\") == \"F\"]",
    "id": "ba114d2addc2480f82ca4862f3bae3ae",
    "idx": 18,
    "time": "2021-02-11T19:50:32.076Z",
    "type": "execution"
   },
   {
    "id": "ba114d2addc2480f82ca4862f3bae3ae",
    "time": "2021-02-11T19:50:32.303Z",
    "type": "completion"
   },
   {
    "code": "# Try applying the first_letter func to the names_tbl\n# What data type do you get?\n# Find the \nnames[names_tbl.apply(first_letter, \"Name\") == \"A\"]",
    "id": "ba114d2addc2480f82ca4862f3bae3ae",
    "idx": 18,
    "time": "2021-02-11T19:50:34.290Z",
    "type": "execution"
   },
   {
    "id": "ba114d2addc2480f82ca4862f3bae3ae",
    "time": "2021-02-11T19:50:34.361Z",
    "type": "completion"
   },
   {
    "code": "# Try applying the first_letter func to the names_tbl\n# What data type do you get?\n# Find the \nnames[names_tbl.apply(first_letter, \"Name\") == \"T\"]",
    "id": "ba114d2addc2480f82ca4862f3bae3ae",
    "idx": 18,
    "time": "2021-02-11T19:50:35.909Z",
    "type": "execution"
   },
   {
    "id": "ba114d2addc2480f82ca4862f3bae3ae",
    "time": "2021-02-11T19:50:36.139Z",
    "type": "completion"
   },
   {
    "code": "# Try applying the first_letter func to the names_tbl. What data type do you get?\n# Then, using a Boolean mask, find all the names in the class that are \n# have a name that starts in the\nnames[names_tbl.apply(first_letter, \"Name\") < \"M\"]",
    "id": "ba114d2addc2480f82ca4862f3bae3ae",
    "idx": 18,
    "time": "2021-02-11T19:51:29.293Z",
    "type": "execution"
   },
   {
    "id": "ba114d2addc2480f82ca4862f3bae3ae",
    "time": "2021-02-11T19:51:29.374Z",
    "type": "completion"
   },
   {
    "code": "# Try applying the first_letter func to the names_tbl. What data type do you get?\n# Then, using a Boolean mask, find all the names in the class that are \n# have a name that starts in the\nnames[names_tbl.apply(first_letter, \"Name\") > \"M\"]",
    "id": "ba114d2addc2480f82ca4862f3bae3ae",
    "idx": 18,
    "time": "2021-02-11T19:51:32.771Z",
    "type": "execution"
   },
   {
    "id": "ba114d2addc2480f82ca4862f3bae3ae",
    "time": "2021-02-11T19:51:32.852Z",
    "type": "completion"
   },
   {
    "code": "# Try applying the first_letter func to the names_tbl. What data type do you get?\n# Then, using a Boolean mask, find all the names in the class that are \n# have a name that starts in the\nnames[names_tbl.apply(first_letter, \"Name\") < \"M\"]",
    "id": "ba114d2addc2480f82ca4862f3bae3ae",
    "idx": 18,
    "time": "2021-02-11T19:51:35.272Z",
    "type": "execution"
   },
   {
    "id": "ba114d2addc2480f82ca4862f3bae3ae",
    "time": "2021-02-11T19:51:35.344Z",
    "type": "completion"
   },
   {
    "code": "# Try applying the first_letter func to the names_tbl. What data type do you get?\n# Then, using a Boolean mask, find all the names in the class that are \n# in the first half of the alphabet (A-M)\n# have a name that starts in the\nnames[names_tbl.apply(first_letter, \"Name\") <= \"M\"]",
    "id": "ba114d2addc2480f82ca4862f3bae3ae",
    "idx": 18,
    "time": "2021-02-11T19:51:49.563Z",
    "type": "execution"
   },
   {
    "id": "ba114d2addc2480f82ca4862f3bae3ae",
    "time": "2021-02-11T19:51:49.633Z",
    "type": "completion"
   },
   {
    "code": "## Not covered: we can also write functions that return functions \n# This is called \"higher order\" functions",
    "id": "849ed89b0686426a818fb58712d9b38b",
    "idx": 28,
    "time": "2021-02-11T20:03:54.644Z",
    "type": "execution"
   },
   {
    "id": "849ed89b0686426a818fb58712d9b38b",
    "time": "2021-02-11T20:03:54.713Z",
    "type": "completion"
   },
   {
    "code": "## Not covered: we can also write functions that return functions \n# This is called \"higher order\" functions\n\ndef pow_creator():",
    "id": "849ed89b0686426a818fb58712d9b38b",
    "idx": 28,
    "time": "2021-02-11T20:04:04.939Z",
    "type": "execution"
   },
   {
    "id": "849ed89b0686426a818fb58712d9b38b",
    "time": "2021-02-11T20:04:05.006Z",
    "type": "completion"
   },
   {
    "code": "## Not covered: we can also write functions that return functions \n# This is called a \"higher order\" function\n# More info in Prof. DeNero and Prof. Farid's lectures (CS61A and INFO 206A)\n\ndef pow_creator(n):\n    \"\"\"Returns a function that calculates x to a certain power n\"\"\"\n    def n_power(x):\n        \"\"\"Calculates x ** n, where n is defined by pow_creator\"\"\"\n        return x ** n\n    return n_power\n\nsquarer = pow_creator(2)\nsquarer(4)",
    "id": "849ed89b0686426a818fb58712d9b38b",
    "idx": 28,
    "time": "2021-02-11T20:07:28.075Z",
    "type": "execution"
   },
   {
    "id": "849ed89b0686426a818fb58712d9b38b",
    "time": "2021-02-11T20:07:28.162Z",
    "type": "completion"
   },
   {
    "code": "# non-general example\n",
    "id": "dd0e8f23f610450da8338ccdca360456",
    "idx": 12,
    "time": "2021-02-11T21:20:24.680Z",
    "type": "execution"
   },
   {
    "id": "dd0e8f23f610450da8338ccdca360456",
    "time": "2021-02-11T21:20:24.759Z",
    "type": "completion"
   },
   {
    "code": "# Generalize the example\n\n",
    "id": "71ddef27e98e4c788703f3514b798012",
    "idx": 13,
    "time": "2021-02-11T21:20:25.041Z",
    "type": "execution"
   },
   {
    "id": "71ddef27e98e4c788703f3514b798012",
    "time": "2021-02-11T21:20:25.102Z",
    "type": "completion"
   },
   {
    "code": "# What will the name animal be equal to? Guess before you run it. \n\nanimal = \"none\"\n\nif type(7) == float:\n    animal = \"turtle\"\n\nelif False:\n    animal = \"fish\"\n\nelif 0:\n    animal = \"bear\"\n\nelif max:\n    animal = \"snake\"\n\nelse:\n    animal = \"bird\"\n\nanimal",
    "id": "9e13b59b4c5944df823875e59a44a63b",
    "idx": 10,
    "time": "2021-02-11T21:22:57.938Z",
    "type": "execution"
   },
   {
    "id": "9e13b59b4c5944df823875e59a44a63b",
    "time": "2021-02-11T21:22:58.029Z",
    "type": "completion"
   },
   {
    "code": "# What will the name animal be equal to? Guess before you run it. \n\nanimal = None\n\nif type(7) == float:\n    animal = \"turtle\"\n\nelif False:\n    animal = \"fish\"\n\nelif 0:\n    animal = \"bear\"\n\nelif max:\n    animal = \"snake\"\n\nelse:\n    animal = \"bird\"\n\nanimal",
    "id": "9e13b59b4c5944df823875e59a44a63b",
    "idx": 10,
    "time": "2021-02-11T21:23:04.328Z",
    "type": "execution"
   },
   {
    "id": "9e13b59b4c5944df823875e59a44a63b",
    "time": "2021-02-11T21:23:04.397Z",
    "type": "completion"
   },
   {
    "code": "# On 2/11, at 1:25 PM, the weather in Berkeley was 55 degrees \n\n# To convert F to C, as we saw in homework, C = (5/9) * (F - 32)\n(5/9) * (55-32)\n",
    "id": "dd0e8f23f610450da8338ccdca360456",
    "idx": 12,
    "time": "2021-02-11T21:27:49.126Z",
    "type": "execution"
   },
   {
    "id": "dd0e8f23f610450da8338ccdca360456",
    "time": "2021-02-11T21:27:49.204Z",
    "type": "completion"
   },
   {
    "code": "from datascience import *\nimport numpy as np \n\nimport matplotlib.pyplot as plt \nplt.style.use('fivethirtyeight') \n%matplotlib inline ",
    "id": "9731a2839f2e48e8965c51e10f30851a",
    "idx": 0,
    "time": "2021-02-12T00:47:35.913Z",
    "type": "execution"
   },
   {
    "code": "# Histograms review (why histograms and density over count/bar charts?)\n",
    "id": "718c80c41cd648479c5b635dbd4db43a",
    "idx": 1,
    "time": "2021-02-12T00:47:37.271Z",
    "type": "execution"
   },
   {
    "id": "9731a2839f2e48e8965c51e10f30851a",
    "time": "2021-02-12T00:47:37.837Z",
    "type": "completion"
   },
   {
    "id": "718c80c41cd648479c5b635dbd4db43a",
    "time": "2021-02-12T00:47:37.928Z",
    "type": "completion"
   },
   {
    "code": "## Not that important for us, but cool application: we can also write functions that return functions \n# This is called a \"higher order\" function\n# More info in Prof. DeNero and Prof. Farid's lectures (CS61A and INFO 206A)\n\ndef pow_creator(n):\n    \"\"\"Returns a function that calculates x to a certain power n\"\"\"\n    def n_power(x):\n        \"\"\"Calculates x ** n, where n is defined by pow_creator\"\"\"\n        return x ** n\n    return n_power\n\nsquarer = ...",
    "id": "3268fcf0082841f6916f0ef6ffb56b88",
    "idx": 28,
    "time": "2021-02-12T00:48:53.683Z",
    "type": "execution"
   },
   {
    "id": "3268fcf0082841f6916f0ef6ffb56b88",
    "time": "2021-02-12T00:48:53.941Z",
    "type": "completion"
   },
   {
    "code": "pow_creator(2)",
    "id": "c259b05a661243b98c370472b2f52341",
    "idx": 29,
    "time": "2021-02-12T00:49:00.691Z",
    "type": "execution"
   },
   {
    "id": "c259b05a661243b98c370472b2f52341",
    "time": "2021-02-12T00:49:00.944Z",
    "type": "completion"
   },
   {
    "code": "squarer = pow_creator(2)\n\n\n",
    "id": "c259b05a661243b98c370472b2f52341",
    "idx": 29,
    "time": "2021-02-12T00:49:48.644Z",
    "type": "execution"
   },
   {
    "id": "c259b05a661243b98c370472b2f52341",
    "time": "2021-02-12T00:49:48.883Z",
    "type": "completion"
   },
   {
    "code": "squarer = pow_creator(2)\n\nsquarer\n",
    "id": "c259b05a661243b98c370472b2f52341",
    "idx": 29,
    "time": "2021-02-12T00:49:53.907Z",
    "type": "execution"
   },
   {
    "id": "c259b05a661243b98c370472b2f52341",
    "time": "2021-02-12T00:49:54.115Z",
    "type": "completion"
   },
   {
    "code": "squarer = pow_creator(2)\n\nsquarer(5)\n",
    "id": "c259b05a661243b98c370472b2f52341",
    "idx": 29,
    "time": "2021-02-12T00:49:58.678Z",
    "type": "execution"
   },
   {
    "id": "c259b05a661243b98c370472b2f52341",
    "time": "2021-02-12T00:49:58.924Z",
    "type": "completion"
   },
   {
    "code": "squarer = pow_creator(2)\nsquarer",
    "id": "c259b05a661243b98c370472b2f52341",
    "idx": 29,
    "time": "2021-02-12T00:50:10.371Z",
    "type": "execution"
   },
   {
    "id": "c259b05a661243b98c370472b2f52341",
    "time": "2021-02-12T00:50:10.545Z",
    "type": "completion"
   },
   {
    "code": "def find_fact(n):\n    \"Find factorial of n: n * (n-1) * (n-2) * (n-3) * ...\"\n    if n == 1:\n        return 1\n    else:\n        return n * find_fact(n-1)\n    \nfind_fact(5) # 5 * 4 * 3 * 2 * 1",
    "id": "837ff9cf16ab4153a24fa966d6faca4c",
    "idx": 25,
    "time": "2021-02-12T00:52:17.695Z",
    "type": "execution"
   },
   {
    "id": "837ff9cf16ab4153a24fa966d6faca4c",
    "time": "2021-02-12T00:52:17.958Z",
    "type": "completion"
   },
   {
    "code": "def hailstone(n):\n    print(n)\n    if n == 1:\n        return n\n    elif n % 2 == 0: # even \n        return hailstone(n // 2)\n    else: # odd\n        return hailstone(3*n + 1)",
    "id": "c3eb13dfb0964d7b85344615c1e48386",
    "idx": 27,
    "time": "2021-02-12T00:57:22.436Z",
    "type": "execution"
   },
   {
    "id": "c3eb13dfb0964d7b85344615c1e48386",
    "time": "2021-02-12T00:57:22.984Z",
    "type": "completion"
   },
   {
    "code": "def hailstone(n):\n    print(n)\n    if n == 1:\n        return n\n    elif n % 2 == 0: # even \n        return hailstone(n // 2)\n    else: # odd\n        return hailstone(3*n + 1)\nhailstone(10)",
    "id": "c3eb13dfb0964d7b85344615c1e48386",
    "idx": 27,
    "time": "2021-02-12T00:57:28.969Z",
    "type": "execution"
   },
   {
    "id": "c3eb13dfb0964d7b85344615c1e48386",
    "time": "2021-02-12T00:57:29.171Z",
    "type": "completion"
   },
   {
    "code": "from datascience import *\nimport numpy as np \n\nimport matplotlib.pyplot as plt \nplt.style.use('fivethirtyeight') \n%matplotlib inline ",
    "id": "e81c849a2578463780237f5ecdd842f7",
    "idx": 0,
    "time": "2021-02-12T01:04:23.262Z",
    "type": "execution"
   },
   {
    "id": "e81c849a2578463780237f5ecdd842f7",
    "time": "2021-02-12T01:04:23.586Z",
    "type": "completion"
   },
   {
    "code": "# Histograms review (why histograms and density over count/bar charts?)\n",
    "id": "144f655cd8e54092aeedbaf2cee7838d",
    "idx": 1,
    "time": "2021-02-12T01:04:24.440Z",
    "type": "execution"
   },
   {
    "id": "144f655cd8e54092aeedbaf2cee7838d",
    "time": "2021-02-12T01:04:24.686Z",
    "type": "completion"
   },
   {
    "code": "# Histograms review (why histograms and density over count/bar charts?)\n",
    "id": "144f655cd8e54092aeedbaf2cee7838d",
    "idx": 1,
    "time": "2021-02-12T01:22:01.821Z",
    "type": "execution"
   },
   {
    "id": "144f655cd8e54092aeedbaf2cee7838d",
    "time": "2021-02-12T01:22:01.892Z",
    "type": "completion"
   },
   {
    "code": "# Histograms review (why use histograms and density over count/bar charts?)\n",
    "id": "144f655cd8e54092aeedbaf2cee7838d",
    "idx": 1,
    "time": "2021-02-12T01:22:06.228Z",
    "type": "execution"
   },
   {
    "id": "144f655cd8e54092aeedbaf2cee7838d",
    "time": "2021-02-12T01:22:06.291Z",
    "type": "completion"
   },
   {
    "code": "from datascience import *\nimport numpy as np \n\nimport matplotlib.pyplot as plt \nplt.style.use('fivethirtyeight') \n%matplotlib inline ",
    "id": "e81c849a2578463780237f5ecdd842f7",
    "idx": 0,
    "time": "2021-02-12T01:22:10.745Z",
    "type": "execution"
   },
   {
    "id": "e81c849a2578463780237f5ecdd842f7",
    "time": "2021-02-12T01:22:10.814Z",
    "type": "completion"
   },
   {
    "code": "# Histograms review (why use histograms and density over count/bar charts?)\n",
    "id": "144f655cd8e54092aeedbaf2cee7838d",
    "idx": 1,
    "time": "2021-02-12T01:22:11.127Z",
    "type": "execution"
   },
   {
    "id": "144f655cd8e54092aeedbaf2cee7838d",
    "time": "2021-02-12T01:22:11.192Z",
    "type": "completion"
   },
   {
    "code": "from datascience import *\nimport numpy as np \nimport pandas as pd\n\nimport matplotlib.pyplot as plt \nplt.style.use('fivethirtyeight') \n%matplotlib inline ",
    "id": "e81c849a2578463780237f5ecdd842f7",
    "idx": 0,
    "time": "2021-02-12T01:26:52.158Z",
    "type": "execution"
   },
   {
    "id": "e81c849a2578463780237f5ecdd842f7",
    "time": "2021-02-12T01:26:52.252Z",
    "type": "completion"
   },
   {
    "code": "# Why do we use histograms and density over count/bar charts?\npd.read_csv(\"scores_by_section.csv\")\n",
    "id": "144f655cd8e54092aeedbaf2cee7838d",
    "idx": 1,
    "time": "2021-02-12T01:26:56.774Z",
    "type": "execution"
   },
   {
    "id": "144f655cd8e54092aeedbaf2cee7838d",
    "time": "2021-02-12T01:26:56.886Z",
    "type": "completion"
   },
   {
    "code": "# Why do we use histograms and density over count/bar charts?\npd.read_csv(\"scores_by_section.csv\")[\"Midterm\"]\n",
    "id": "144f655cd8e54092aeedbaf2cee7838d",
    "idx": 1,
    "time": "2021-02-12T01:27:01.838Z",
    "type": "execution"
   },
   {
    "id": "144f655cd8e54092aeedbaf2cee7838d",
    "time": "2021-02-12T01:27:01.914Z",
    "type": "completion"
   },
   {
    "code": "# Why do we use histograms and density over count/bar charts?\npd.read_csv(\"scores_by_section.csv\")[\"Midterm\"].value_counts()\n",
    "id": "144f655cd8e54092aeedbaf2cee7838d",
    "idx": 1,
    "time": "2021-02-12T01:27:05.936Z",
    "type": "execution"
   },
   {
    "id": "144f655cd8e54092aeedbaf2cee7838d",
    "time": "2021-02-12T01:27:06.013Z",
    "type": "completion"
   },
   {
    "code": "# Why do we use histograms and density over count/bar charts?\npd.read_csv(\"scores_by_section.csv\")[\"Midterm\"] / 21 * 100 # max: 21 pts\n\n\n",
    "id": "144f655cd8e54092aeedbaf2cee7838d",
    "idx": 1,
    "time": "2021-02-12T01:27:22.739Z",
    "type": "execution"
   },
   {
    "id": "144f655cd8e54092aeedbaf2cee7838d",
    "time": "2021-02-12T01:27:22.840Z",
    "type": "completion"
   },
   {
    "code": "# Why do we use histograms and density over count/bar charts?\npd.read_csv(\"scores_by_section.csv\")[\"Midterm\"] / 21 # max: 21 pts\n\n\n",
    "id": "144f655cd8e54092aeedbaf2cee7838d",
    "idx": 1,
    "time": "2021-02-12T01:27:25.520Z",
    "type": "execution"
   },
   {
    "id": "144f655cd8e54092aeedbaf2cee7838d",
    "time": "2021-02-12T01:27:25.601Z",
    "type": "completion"
   },
   {
    "code": "# Why do we use histograms and density over count/bar charts?\npd.read_csv(\"scores_by_section.csv\")[\"Midterm\"].value_counts() # max: 21 pts\n\n\n",
    "id": "144f655cd8e54092aeedbaf2cee7838d",
    "idx": 1,
    "time": "2021-02-12T01:27:36.180Z",
    "type": "execution"
   },
   {
    "id": "144f655cd8e54092aeedbaf2cee7838d",
    "time": "2021-02-12T01:27:36.278Z",
    "type": "completion"
   },
   {
    "code": "# Why do we use histograms and density over count/bar charts?\npd.read_csv(\"scores_by_section.csv\")[\"Midterm\"] / 21 # max: 21 pts\n\n\n",
    "id": "144f655cd8e54092aeedbaf2cee7838d",
    "idx": 1,
    "time": "2021-02-12T01:27:41.737Z",
    "type": "execution"
   },
   {
    "id": "144f655cd8e54092aeedbaf2cee7838d",
    "time": "2021-02-12T01:27:41.821Z",
    "type": "completion"
   },
   {
    "code": "# Why do we use histograms and density over count/bar charts?\npd.read_csv(\"scores_by_section.csv\")[\"Midterm\"] # max: 21 pts\n\n\n",
    "id": "144f655cd8e54092aeedbaf2cee7838d",
    "idx": 1,
    "time": "2021-02-12T01:27:47.526Z",
    "type": "execution"
   },
   {
    "id": "144f655cd8e54092aeedbaf2cee7838d",
    "time": "2021-02-12T01:27:47.608Z",
    "type": "completion"
   },
   {
    "code": "# Why do we use histograms and density over count/bar charts?\npd.read_csv(\"scores_by_section.csv\")[\"Midterm\"].value_counts() # max: 21 pts\n\n\n",
    "id": "144f655cd8e54092aeedbaf2cee7838d",
    "idx": 1,
    "time": "2021-02-12T01:27:55.314Z",
    "type": "execution"
   },
   {
    "id": "144f655cd8e54092aeedbaf2cee7838d",
    "time": "2021-02-12T01:27:55.409Z",
    "type": "completion"
   },
   {
    "code": "# Why do we use histograms and density over count/bar charts?\npd.read_csv(\"scores_by_section.csv\")[\"Midterm\"].value_counts().sort_values() # max: 21 pts\n\n\n",
    "id": "144f655cd8e54092aeedbaf2cee7838d",
    "idx": 1,
    "time": "2021-02-12T01:28:02.777Z",
    "type": "execution"
   },
   {
    "id": "144f655cd8e54092aeedbaf2cee7838d",
    "time": "2021-02-12T01:28:02.869Z",
    "type": "completion"
   },
   {
    "code": "# Why do we use histograms and density over count/bar charts?\npd.read_csv(\"scores_by_section.csv\")[\"Midterm\"].value_counts().sort_values(ascending = True) # max: 21 pts\n\n\n",
    "id": "144f655cd8e54092aeedbaf2cee7838d",
    "idx": 1,
    "time": "2021-02-12T01:28:06.900Z",
    "type": "execution"
   },
   {
    "id": "144f655cd8e54092aeedbaf2cee7838d",
    "time": "2021-02-12T01:28:06.965Z",
    "type": "completion"
   },
   {
    "code": "# Why do we use histograms and density over count/bar charts?\npd.read_csv(\"scores_by_section.csv\")[\"Midterm\"].value_counts().sort_values(ascending = False) # max: 21 pts\n\n\n",
    "id": "144f655cd8e54092aeedbaf2cee7838d",
    "idx": 1,
    "time": "2021-02-12T01:28:08.519Z",
    "type": "execution"
   },
   {
    "id": "144f655cd8e54092aeedbaf2cee7838d",
    "time": "2021-02-12T01:28:08.602Z",
    "type": "completion"
   },
   {
    "code": "# Why do we use histograms and density over count/bar charts?\npd.read_csv(\"scores_by_section.csv\")[\"Midterm\"].unique().sort_values(ascending = False) # max: 21 pts\n\n\n",
    "id": "144f655cd8e54092aeedbaf2cee7838d",
    "idx": 1,
    "time": "2021-02-12T01:28:20.422Z",
    "type": "execution"
   },
   {
    "id": "144f655cd8e54092aeedbaf2cee7838d",
    "time": "2021-02-12T01:28:20.671Z",
    "type": "completion"
   },
   {
    "code": "# Why do we use histograms and density over count/bar charts?\npd.read_csv(\"scores_by_section.csv\")[\"Midterm\"].unique.sort_values(ascending = False) # max: 21 pts\n\n\n",
    "id": "144f655cd8e54092aeedbaf2cee7838d",
    "idx": 1,
    "time": "2021-02-12T01:28:22.410Z",
    "type": "execution"
   },
   {
    "id": "144f655cd8e54092aeedbaf2cee7838d",
    "time": "2021-02-12T01:28:22.495Z",
    "type": "completion"
   },
   {
    "code": "# Why do we use histograms and density over count/bar charts?\npd.read_csv(\"scores_by_section.csv\")[\"Midterm\"].unique #.sort_values(ascending = False) # max: 21 pts\n\n\n",
    "id": "144f655cd8e54092aeedbaf2cee7838d",
    "idx": 1,
    "time": "2021-02-12T01:28:24.716Z",
    "type": "execution"
   },
   {
    "id": "144f655cd8e54092aeedbaf2cee7838d",
    "time": "2021-02-12T01:28:24.796Z",
    "type": "completion"
   },
   {
    "code": "# Why do we use histograms and density over count/bar charts?\npd.read_csv(\"scores_by_section.csv\")[\"Midterm\"].count_values #.sort_values(ascending = False) # max: 21 pts\n\n\n",
    "id": "144f655cd8e54092aeedbaf2cee7838d",
    "idx": 1,
    "time": "2021-02-12T01:28:33.518Z",
    "type": "execution"
   },
   {
    "id": "144f655cd8e54092aeedbaf2cee7838d",
    "time": "2021-02-12T01:28:33.621Z",
    "type": "completion"
   },
   {
    "code": "# Why do we use histograms and density over count/bar charts?\npd.read_csv(\"scores_by_section.csv\")[\"Midterm\"].value_counts #.sort_values(ascending = False) # max: 21 pts\n\n\n",
    "id": "144f655cd8e54092aeedbaf2cee7838d",
    "idx": 1,
    "time": "2021-02-12T01:28:37.612Z",
    "type": "execution"
   },
   {
    "id": "144f655cd8e54092aeedbaf2cee7838d",
    "time": "2021-02-12T01:28:37.684Z",
    "type": "completion"
   },
   {
    "code": "# Why do we use histograms and density over count/bar charts?\npd.read_csv(\"scores_by_section.csv\")[\"Midterm\"].value_counts().index.sort_values(ascending = False) # max: 21 pts\n\n\n",
    "id": "144f655cd8e54092aeedbaf2cee7838d",
    "idx": 1,
    "time": "2021-02-12T01:28:44.035Z",
    "type": "execution"
   },
   {
    "id": "144f655cd8e54092aeedbaf2cee7838d",
    "time": "2021-02-12T01:28:44.107Z",
    "type": "completion"
   },
   {
    "code": "# Why do we use histograms and density over count/bar charts?\npd.read_csv(\"scores_by_section.csv\")[\"Midterm\"].value_counts().index.sort_values(ascending = False) # max: 25 pts\n\n\n",
    "id": "144f655cd8e54092aeedbaf2cee7838d",
    "idx": 1,
    "time": "2021-02-12T01:28:47.597Z",
    "type": "execution"
   },
   {
    "id": "144f655cd8e54092aeedbaf2cee7838d",
    "time": "2021-02-12T01:28:47.682Z",
    "type": "completion"
   },
   {
    "code": "# Why do we use histograms and density over count/bar charts?\npd.read_csv(\"scores_by_section.csv\")[\"Midterm\"] / 25 # max: 25 pts\n\n\n",
    "id": "144f655cd8e54092aeedbaf2cee7838d",
    "idx": 1,
    "time": "2021-02-12T01:28:52.148Z",
    "type": "execution"
   },
   {
    "id": "144f655cd8e54092aeedbaf2cee7838d",
    "time": "2021-02-12T01:28:52.215Z",
    "type": "completion"
   },
   {
    "code": "# Why do we use histograms and density over count/bar charts?\npd.read_csv(\"scores_by_section.csv\")[\"Midterm\"] / 25 * 100 # max: 25 pts\n\n\n",
    "id": "144f655cd8e54092aeedbaf2cee7838d",
    "idx": 1,
    "time": "2021-02-12T01:28:55.489Z",
    "type": "execution"
   },
   {
    "id": "144f655cd8e54092aeedbaf2cee7838d",
    "time": "2021-02-12T01:28:55.567Z",
    "type": "completion"
   },
   {
    "code": "# Why do we use histograms and density over count/bar charts?\nscores = pd.read_csv(\"scores_by_section.csv\")\nscores[\"Midterm\"] = scores[\"Midterm\"] / 25 * 100 # max: 25 pts\n\n\n",
    "id": "144f655cd8e54092aeedbaf2cee7838d",
    "idx": 1,
    "time": "2021-02-12T01:29:16.452Z",
    "type": "execution"
   },
   {
    "id": "144f655cd8e54092aeedbaf2cee7838d",
    "time": "2021-02-12T01:29:16.533Z",
    "type": "completion"
   },
   {
    "code": "# Why do we use histograms and density over count/bar charts?\nscores = pd.read_csv(\"scores_by_section.csv\")\nscores[\"Midterm\"] = scores[\"Midterm\"] / 25 * 100 # max: 25 pts\nscores\n\n",
    "id": "144f655cd8e54092aeedbaf2cee7838d",
    "idx": 1,
    "time": "2021-02-12T01:29:18.241Z",
    "type": "execution"
   },
   {
    "id": "144f655cd8e54092aeedbaf2cee7838d",
    "time": "2021-02-12T01:29:18.352Z",
    "type": "completion"
   },
   {
    "code": "# Why do we use histograms and density over count/bar charts?\nscores = pd.read_csv(\"scores_by_section.csv\")\nscores[\"Midterm\"] = scores[\"Midterm\"] / 25 * 100 # max: 25 pts\nscores.to_csv(\"scores_by_section.csv\", index = False)\n\n",
    "id": "144f655cd8e54092aeedbaf2cee7838d",
    "idx": 1,
    "time": "2021-02-12T01:29:35.317Z",
    "type": "execution"
   },
   {
    "id": "144f655cd8e54092aeedbaf2cee7838d",
    "time": "2021-02-12T01:29:35.403Z",
    "type": "completion"
   },
   {
    "code": "# Why do we use histograms and density over count/bar charts?\nscores = Table().read_table(\"scores_by_section.csv\")\n\n",
    "id": "144f655cd8e54092aeedbaf2cee7838d",
    "idx": 1,
    "time": "2021-02-12T01:29:45.382Z",
    "type": "execution"
   },
   {
    "id": "144f655cd8e54092aeedbaf2cee7838d",
    "time": "2021-02-12T01:29:45.455Z",
    "type": "completion"
   },
   {
    "code": "# Why do we use histograms and density over count/bar charts?\nscores = Table().read_table(\"scores_by_section.csv\")\nscores\n",
    "id": "144f655cd8e54092aeedbaf2cee7838d",
    "idx": 1,
    "time": "2021-02-12T01:29:47.187Z",
    "type": "execution"
   },
   {
    "id": "144f655cd8e54092aeedbaf2cee7838d",
    "time": "2021-02-12T01:29:47.274Z",
    "type": "completion"
   },
   {
    "code": "# Why do we use histograms and density over count/bar charts?\nscores = Table().read_table(\"scores_by_section.csv\")\nbins = make_array(0, 60, 70, 80, 85, 90, 95, 100)\nscores\n",
    "id": "144f655cd8e54092aeedbaf2cee7838d",
    "idx": 1,
    "time": "2021-02-12T01:30:33.742Z",
    "type": "execution"
   },
   {
    "id": "144f655cd8e54092aeedbaf2cee7838d",
    "time": "2021-02-12T01:30:33.823Z",
    "type": "completion"
   },
   {
    "code": "# Why do we use histograms and density over count/bar charts?\nscores = Table().read_table(\"scores_by_section.csv\")\nbins = make_array(0, 60, 70, 80, 85, 90, 95, 100)\nplt.hist(scores.column(\"Midterm\"), bins = bins);\n",
    "id": "144f655cd8e54092aeedbaf2cee7838d",
    "idx": 1,
    "time": "2021-02-12T01:30:49.809Z",
    "type": "execution"
   },
   {
    "id": "144f655cd8e54092aeedbaf2cee7838d",
    "time": "2021-02-12T01:30:50.133Z",
    "type": "completion"
   },
   {
    "code": "# Why do we use histograms and density over count/bar charts?\nscores = Table().read_table(\"scores_by_section.csv\")\nbins = make_array(0, 60, 70, 80, 85, 90, 95, 100)\nbin_cats = [\"0-60\", ]\nplt.hist(scores.column(\"Midterm\"), bins = bins);\n",
    "id": "144f655cd8e54092aeedbaf2cee7838d",
    "idx": 1,
    "time": "2021-02-12T01:31:16.818Z",
    "type": "execution"
   },
   {
    "id": "144f655cd8e54092aeedbaf2cee7838d",
    "time": "2021-02-12T01:31:17.122Z",
    "type": "completion"
   },
   {
    "code": "# Why do we use histograms and density over count/bar charts?\nscores = Table().read_table(\"scores_by_section.csv\")\nbins = make_array(0, 60, 70, 80, 85, 90, 95, 100)\nbin_cats = [\"[0, 60)\", \"[60, 70)\", \"[70, 80)\", \"[80, 85)\", \nplt.hist(scores.column(\"Midterm\"), bins = bins);\n",
    "id": "144f655cd8e54092aeedbaf2cee7838d",
    "idx": 1,
    "time": "2021-02-12T01:32:00.695Z",
    "type": "execution"
   },
   {
    "id": "144f655cd8e54092aeedbaf2cee7838d",
    "time": "2021-02-12T01:32:00.792Z",
    "type": "completion"
   },
   {
    "code": "plt.hist(scores.column(\"Midterm\"), bins = bins);",
    "id": "a1993a2aab4643358897ec4bbe2ce1f8",
    "idx": 2,
    "time": "2021-02-12T01:32:05.841Z",
    "type": "execution"
   },
   {
    "id": "a1993a2aab4643358897ec4bbe2ce1f8",
    "time": "2021-02-12T01:32:06.126Z",
    "type": "completion"
   },
   {
    "code": "# Why do we use histograms and density over count/bar charts?\nscores = Table().read_table(\"scores_by_section.csv\")\nbins = make_array(0, 60, 70, 80, 85, 90, 95, 100)\nbin_cats = [\"[0, 60)\", \"[60, 70)\", \"[70, 80)\", \"[80, 85)\", \"[85, 90)\", \"[90, 95)\", \"[95, 100]\"]\ncounts_per_bin = \n",
    "id": "144f655cd8e54092aeedbaf2cee7838d",
    "idx": 1,
    "time": "2021-02-12T01:34:05.332Z",
    "type": "execution"
   },
   {
    "id": "144f655cd8e54092aeedbaf2cee7838d",
    "time": "2021-02-12T01:34:05.639Z",
    "type": "completion"
   },
   {
    "code": "# Why do we use histograms and density over count/bar charts?\nscores = Table().read_table(\"scores_by_section.csv\")\nbins = make_array(0, 60, 80, 85, 90, 95, 100)\nbin_cats = [\"[0, 60)\", \"[60, 80)\", \"[80, 90)\", \"90, 95)\", \"[95, 100)\"]\ncounts_per_bin = [scores.where(\"Midterm\", are.between(0, 60)).num_rows, \n                  scores.where(\"Midterm\", are.between(60, 80)).num_rows,\n                  scores.where(\"Midterm\", are.between(80, 90)).num_rows,\n                  scores.where(\"Midterm\", are.between_or_equal_to(90, 100)).num_rows]\n                  \n",
    "id": "144f655cd8e54092aeedbaf2cee7838d",
    "idx": 1,
    "time": "2021-02-12T01:35:48.260Z",
    "type": "execution"
   },
   {
    "id": "144f655cd8e54092aeedbaf2cee7838d",
    "time": "2021-02-12T01:35:48.352Z",
    "type": "completion"
   },
   {
    "code": "# Why do we use histograms and density over count/bar charts?\nscores = Table().read_table(\"scores_by_section.csv\")\nbins = make_array(0, 60, 80, 85, 90, 95, 100)\nbin_cats = [\"[0, 60)\", \"[60, 80)\", \"[80, 90)\", \"90, 95)\", \"[95, 100)\"]\ncounts_per_bin = [scores.where(\"Midterm\", are.between(0, 60)).num_rows, \n                  scores.where(\"Midterm\", are.between(60, 80)).num_rows,\n                  scores.where(\"Midterm\", are.between(80, 90)).num_rows,\n                  scores.where(\"Midterm\", are.between_or_equal_to(90, 100)).num_rows]\n                  \ncounts_per_bin\n",
    "id": "144f655cd8e54092aeedbaf2cee7838d",
    "idx": 1,
    "time": "2021-02-12T01:35:53.110Z",
    "type": "execution"
   },
   {
    "id": "144f655cd8e54092aeedbaf2cee7838d",
    "time": "2021-02-12T01:35:53.757Z",
    "type": "completion"
   },
   {
    "code": "# Why do we use histograms and density over count/bar charts?\nscores = Table().read_table(\"scores_by_section.csv\")\nbins = make_array(0, 60, 80, 90, 95, 100)\nbin_cats = [\"[0, 60)\", \"[60, 80)\", \"[80, 90)\", \"[90, 95)\", \"[95, 100)\"]\ncounts_per_bin = [scores.where(\"Midterm\", are.between(0, 60)).num_rows, \n                  scores.where(\"Midterm\", are.between(60, 80)).num_rows,\n                  scores.where(\"Midterm\", are.between(80, 90)).num_rows,\n                  scores.where(\"Midterm\", are.between_or_equal_to(90, 100)).num_rows]",
    "id": "144f655cd8e54092aeedbaf2cee7838d",
    "idx": 1,
    "time": "2021-02-12T01:36:11.548Z",
    "type": "execution"
   },
   {
    "id": "144f655cd8e54092aeedbaf2cee7838d",
    "time": "2021-02-12T01:36:11.638Z",
    "type": "completion"
   },
   {
    "code": "plt.hist(scores.column(\"Midterm\"), bins = bins);",
    "id": "a1993a2aab4643358897ec4bbe2ce1f8",
    "idx": 2,
    "time": "2021-02-12T01:36:11.826Z",
    "type": "execution"
   },
   {
    "id": "a1993a2aab4643358897ec4bbe2ce1f8",
    "time": "2021-02-12T01:36:12.121Z",
    "type": "completion"
   },
   {
    "code": "\nplt.bar(scores.column(\"Midterm\"))",
    "id": "837b4d4311f14db287bf116aac63faa2",
    "idx": 3,
    "time": "2021-02-12T01:36:13.034Z",
    "type": "execution"
   },
   {
    "id": "837b4d4311f14db287bf116aac63faa2",
    "time": "2021-02-12T01:36:13.114Z",
    "type": "completion"
   },
   {
    "code": "plt.bar(bin_cats, counts_per_bin)",
    "id": "837b4d4311f14db287bf116aac63faa2",
    "idx": 3,
    "time": "2021-02-12T01:36:23.060Z",
    "type": "execution"
   },
   {
    "id": "837b4d4311f14db287bf116aac63faa2",
    "time": "2021-02-12T01:36:23.335Z",
    "type": "completion"
   },
   {
    "code": "# Why do we use histograms and density over count/bar charts?\nscores = Table().read_table(\"scores_by_section.csv\")\nbins = make_array(0, 60, 80, 90, 95, 100)\nbin_cats = [\"[0, 60)\", \"[60, 80)\", \"[80, 90)\", \"[90, 95)\", \"[95, 100)\"]\ncounts_per_bin = [scores.where(\"Midterm\", are.between(0, 60)).num_rows, \n                  scores.where(\"Midterm\", are.between(60, 80)).num_rows,\n                  scores.where(\"Midterm\", are.between(80, 90)).num_rows,\n                  scores.where(\"Midterm\", are.between_or_equal_to(90, 100)).num_rows]",
    "id": "144f655cd8e54092aeedbaf2cee7838d",
    "idx": 1,
    "time": "2021-02-12T01:36:29.619Z",
    "type": "execution"
   },
   {
    "code": "plt.hist(scores.column(\"Midterm\"), bins = bins);",
    "id": "a1993a2aab4643358897ec4bbe2ce1f8",
    "idx": 2,
    "time": "2021-02-12T01:36:30.003Z",
    "type": "execution"
   },
   {
    "id": "144f655cd8e54092aeedbaf2cee7838d",
    "time": "2021-02-12T01:36:30.137Z",
    "type": "completion"
   },
   {
    "id": "a1993a2aab4643358897ec4bbe2ce1f8",
    "time": "2021-02-12T01:36:30.451Z",
    "type": "completion"
   },
   {
    "code": "plt.bar(bin_cats, counts_per_bin)",
    "id": "837b4d4311f14db287bf116aac63faa2",
    "idx": 3,
    "time": "2021-02-12T01:36:30.470Z",
    "type": "execution"
   },
   {
    "id": "837b4d4311f14db287bf116aac63faa2",
    "time": "2021-02-12T01:36:30.745Z",
    "type": "completion"
   },
   {
    "code": "# Why do we use histograms and density over count/bar charts?\nscores = Table().read_table(\"scores_by_section.csv\")\nbins = make_array(0, 60, 80, 90, 95, 100)\nbin_cats = [\"[0, 60)\", \"[60, 80)\", \"[80, 90)\", \"[90, 95)\", \"[95, 100)\"]\ncounts_per_bin = [scores.where(\"Midterm\", are.between(0, 60)).num_rows, \n                  scores.where(\"Midterm\", are.between(60, 80)).num_rows,\n                  scores.where(\"Midterm\", are.between(80, 90)).num_rows,\n                  scores.where(\"Midterm\", are.between(90, 95)).num_rows,\n                  scores.where(\"Midterm\", are.between_or_equal_to(90, 100)).num_rows]",
    "id": "144f655cd8e54092aeedbaf2cee7838d",
    "idx": 1,
    "time": "2021-02-12T01:36:51.934Z",
    "type": "execution"
   },
   {
    "code": "plt.hist(scores.column(\"Midterm\"), bins = bins);",
    "id": "a1993a2aab4643358897ec4bbe2ce1f8",
    "idx": 2,
    "time": "2021-02-12T01:36:52.382Z",
    "type": "execution"
   },
   {
    "code": "plt.bar(bin_cats, counts_per_bin)",
    "id": "837b4d4311f14db287bf116aac63faa2",
    "idx": 3,
    "time": "2021-02-12T01:36:52.815Z",
    "type": "execution"
   },
   {
    "id": "144f655cd8e54092aeedbaf2cee7838d",
    "time": "2021-02-12T01:36:55.247Z",
    "type": "completion"
   },
   {
    "id": "a1993a2aab4643358897ec4bbe2ce1f8",
    "time": "2021-02-12T01:36:55.453Z",
    "type": "completion"
   },
   {
    "id": "837b4d4311f14db287bf116aac63faa2",
    "time": "2021-02-12T01:36:55.788Z",
    "type": "completion"
   },
   {
    "code": "# Why do we use histograms and density over count/bar charts?\nscores = Table().read_table(\"scores_by_section.csv\")\nbins = make_array(0, 40, 60, 80, 90, 95, 100)\nbin_cats = [\"[0, 30)\", \"[30, 60)\", \"[60, 80)\", \"[80, 90)\", \"[90, 95)\", \"[95, 100)\"]\ncounts_per_bin = [scores.where(\"Midterm\", are.between(0, 30)).num_rows,\n                  scores.where(\"Midterm\", are.between(3, 60)).num_rows,\n                  scores.where(\"Midterm\", are.between(60, 80)).num_rows,\n                  scores.where(\"Midterm\", are.between(80, 90)).num_rows,\n                  scores.where(\"Midterm\", are.between(90, 95)).num_rows,\n                  scores.where(\"Midterm\", are.between_or_equal_to(90, 100)).num_rows]",
    "id": "144f655cd8e54092aeedbaf2cee7838d",
    "idx": 1,
    "time": "2021-02-12T01:38:04.907Z",
    "type": "execution"
   },
   {
    "id": "144f655cd8e54092aeedbaf2cee7838d",
    "time": "2021-02-12T01:38:04.998Z",
    "type": "completion"
   },
   {
    "code": "plt.hist(scores.column(\"Midterm\"), bins = bins);",
    "id": "a1993a2aab4643358897ec4bbe2ce1f8",
    "idx": 2,
    "time": "2021-02-12T01:38:05.350Z",
    "type": "execution"
   },
   {
    "id": "a1993a2aab4643358897ec4bbe2ce1f8",
    "time": "2021-02-12T01:38:05.629Z",
    "type": "completion"
   },
   {
    "code": "# Notice the \nplt.bar(bin_cats, counts_per_bin)",
    "id": "837b4d4311f14db287bf116aac63faa2",
    "idx": 3,
    "time": "2021-02-12T01:38:05.798Z",
    "type": "execution"
   },
   {
    "id": "837b4d4311f14db287bf116aac63faa2",
    "time": "2021-02-12T01:38:06.068Z",
    "type": "completion"
   },
   {
    "code": "# Notice the \nplt.bar(bin_cats, counts_per_bin)\nplt.ylabel(\"Count\");\nplt.xlabel(\"Score\");",
    "id": "837b4d4311f14db287bf116aac63faa2",
    "idx": 3,
    "time": "2021-02-12T01:38:38.712Z",
    "type": "execution"
   },
   {
    "id": "837b4d4311f14db287bf116aac63faa2",
    "time": "2021-02-12T01:38:39.030Z",
    "type": "completion"
   },
   {
    "code": "plt.hist(scores.column(\"Midterm\"), bins = bins);\nplt.ylabel(\"Percent per score\");\nplt.xlabel(\"Score\");",
    "id": "a1993a2aab4643358897ec4bbe2ce1f8",
    "idx": 2,
    "time": "2021-02-12T01:38:40.384Z",
    "type": "execution"
   },
   {
    "id": "a1993a2aab4643358897ec4bbe2ce1f8",
    "time": "2021-02-12T01:38:40.679Z",
    "type": "completion"
   },
   {
    "code": "from datascience import *\nimport numpy as np \nimport pandas as pd\n\nimport matplotlib.pyplot as plt \nplt.style.use('fivethirtyeight') \n%matplotlib inline ",
    "id": "e81c849a2578463780237f5ecdd842f7",
    "idx": 0,
    "time": "2021-02-12T01:39:28.988Z",
    "type": "execution"
   },
   {
    "id": "e81c849a2578463780237f5ecdd842f7",
    "time": "2021-02-12T01:39:29.059Z",
    "type": "completion"
   },
   {
    "code": "# Why do we use histograms and density over count/bar charts?\nscores = Table().read_table(\"scores_by_section.csv\")\nbins = make_array(0, 40, 60, 80, 90, 95, 100)\nbin_cats = [\"[0, 30)\", \"[30, 60)\", \"[60, 80)\", \"[80, 90)\", \"[90, 95)\", \"[95, 100)\"]\ncounts_per_bin = [scores.where(\"Midterm\", are.between(0, 30)).num_rows,\n                  scores.where(\"Midterm\", are.between(3, 60)).num_rows,\n                  scores.where(\"Midterm\", are.between(60, 80)).num_rows,\n                  scores.where(\"Midterm\", are.between(80, 90)).num_rows,\n                  scores.where(\"Midterm\", are.between(90, 95)).num_rows,\n                  scores.where(\"Midterm\", are.between_or_equal_to(90, 100)).num_rows]",
    "id": "144f655cd8e54092aeedbaf2cee7838d",
    "idx": 1,
    "time": "2021-02-12T01:39:29.352Z",
    "type": "execution"
   },
   {
    "id": "144f655cd8e54092aeedbaf2cee7838d",
    "time": "2021-02-12T01:39:29.452Z",
    "type": "completion"
   },
   {
    "code": "# Why do we use histograms and density over count/bar charts?\n# Let's look at midterm data from a class. \nscores = Table().read_table(\"scores_by_section.csv\")\nbins = make_array(0, 40, 60, 80, 90, 95, 100)\nbin_cats = [\"[0, 30)\", \"[30, 60)\", \"[60, 80)\", \"[80, 90)\", \"[90, 95)\", \"[95, 100)\"]\ncounts_per_bin = [scores.where(\"Midterm\", are.between(0, 30)).num_rows,\n                  scores.where(\"Midterm\", are.between(3, 60)).num_rows,\n                  scores.where(\"Midterm\", are.between(60, 80)).num_rows,\n                  scores.where(\"Midterm\", are.between(80, 90)).num_rows,\n                  scores.where(\"Midterm\", are.between(90, 95)).num_rows,\n                  scores.where(\"Midterm\", are.between_or_equal_to(90, 100)).num_rows]",
    "id": "144f655cd8e54092aeedbaf2cee7838d",
    "idx": 1,
    "time": "2021-02-12T01:39:39.839Z",
    "type": "execution"
   },
   {
    "id": "144f655cd8e54092aeedbaf2cee7838d",
    "time": "2021-02-12T01:39:39.933Z",
    "type": "completion"
   },
   {
    "code": "plt.bar(bin_cats, counts_per_bin);\nplt.ylabel(\"Count\");\nplt.xlabel(\"Score\");",
    "id": "837b4d4311f14db287bf116aac63faa2",
    "idx": 2,
    "time": "2021-02-12T01:39:40.814Z",
    "type": "execution"
   },
   {
    "id": "837b4d4311f14db287bf116aac63faa2",
    "time": "2021-02-12T01:39:41.123Z",
    "type": "completion"
   },
   {
    "code": "# These don't tell the same story!\nplt.hist(scores.column(\"Midterm\"), bins = bins);\nplt.ylabel(\"Percent per score\");\nplt.xlabel(\"Score\");",
    "id": "a1993a2aab4643358897ec4bbe2ce1f8",
    "idx": 3,
    "time": "2021-02-12T01:39:41.258Z",
    "type": "execution"
   },
   {
    "id": "a1993a2aab4643358897ec4bbe2ce1f8",
    "time": "2021-02-12T01:39:41.533Z",
    "type": "completion"
   },
   {
    "code": "# A better use of bar charts in this dataset\nscores.group(0)\nplt.bar()",
    "id": "892ef3b151384dcc98722f9ae543e132",
    "idx": 4,
    "time": "2021-02-12T01:40:11.366Z",
    "type": "execution"
   },
   {
    "id": "892ef3b151384dcc98722f9ae543e132",
    "time": "2021-02-12T01:40:11.476Z",
    "type": "completion"
   },
   {
    "code": "# A better use of bar charts in this dataset\nscores.group(0)\n#plt.bar()",
    "id": "892ef3b151384dcc98722f9ae543e132",
    "idx": 4,
    "time": "2021-02-12T01:40:13.053Z",
    "type": "execution"
   },
   {
    "id": "892ef3b151384dcc98722f9ae543e132",
    "time": "2021-02-12T01:40:13.168Z",
    "type": "completion"
   },
   {
    "code": "# A better use of bar charts in this dataset\nscores.group(0, np.average)\n#plt.bar()",
    "id": "892ef3b151384dcc98722f9ae543e132",
    "idx": 4,
    "time": "2021-02-12T01:40:16.288Z",
    "type": "execution"
   },
   {
    "id": "892ef3b151384dcc98722f9ae543e132",
    "time": "2021-02-12T01:40:16.382Z",
    "type": "completion"
   },
   {
    "code": "# A better use of bar charts in this dataset\nscores_by_section = scores.group(0, np.average)\nscores_by_section.barh(0)",
    "id": "892ef3b151384dcc98722f9ae543e132",
    "idx": 4,
    "time": "2021-02-12T01:40:37.170Z",
    "type": "execution"
   },
   {
    "id": "892ef3b151384dcc98722f9ae543e132",
    "time": "2021-02-12T01:40:37.655Z",
    "type": "completion"
   },
   {
    "code": "# A better use of bar charts in this dataset\nscores_by_section = scores.group(0, np.average)\nscores_by_section.sort(1).barh(0)",
    "id": "892ef3b151384dcc98722f9ae543e132",
    "idx": 4,
    "time": "2021-02-12T01:40:52.853Z",
    "type": "execution"
   },
   {
    "id": "892ef3b151384dcc98722f9ae543e132",
    "time": "2021-02-12T01:40:53.340Z",
    "type": "completion"
   },
   {
    "code": "# A better use of bar charts in this dataset: compare across section \nscores_by_section = ...\n",
    "id": "892ef3b151384dcc98722f9ae543e132",
    "idx": 4,
    "time": "2021-02-12T01:45:35.407Z",
    "type": "execution"
   },
   {
    "id": "892ef3b151384dcc98722f9ae543e132",
    "time": "2021-02-12T01:45:35.470Z",
    "type": "completion"
   },
   {
    "code": "# These don't tell the same story!\nplt.figure(figsize = (8, 6));\nplt.hist(scores.column(\"Midterm\"), bins = bins);\nplt.ylabel(\"Percent per score\");\nplt.xlabel(\"Score\");",
    "id": "a1993a2aab4643358897ec4bbe2ce1f8",
    "idx": 3,
    "time": "2021-02-12T01:45:47.355Z",
    "type": "execution"
   },
   {
    "id": "a1993a2aab4643358897ec4bbe2ce1f8",
    "time": "2021-02-12T01:45:47.793Z",
    "type": "completion"
   },
   {
    "code": "# These don't tell the same story!\nplt.figure(figsize = (10, 6));\nplt.hist(scores.column(\"Midterm\"), bins = bins);\nplt.ylabel(\"Percent per score\");\nplt.xlabel(\"Score\");",
    "id": "a1993a2aab4643358897ec4bbe2ce1f8",
    "idx": 3,
    "time": "2021-02-12T01:45:50.723Z",
    "type": "execution"
   },
   {
    "id": "a1993a2aab4643358897ec4bbe2ce1f8",
    "time": "2021-02-12T01:45:51.088Z",
    "type": "completion"
   },
   {
    "code": "# These don't tell the same story!\nplt.figure(figsize = (10, 5));\nplt.hist(scores.column(\"Midterm\"), bins = bins);\nplt.ylabel(\"Percent per score\");\nplt.xlabel(\"Score\");",
    "id": "a1993a2aab4643358897ec4bbe2ce1f8",
    "idx": 3,
    "time": "2021-02-12T01:45:55.811Z",
    "type": "execution"
   },
   {
    "id": "a1993a2aab4643358897ec4bbe2ce1f8",
    "time": "2021-02-12T01:45:56.138Z",
    "type": "completion"
   },
   {
    "code": "# These don't tell the same story!\nplt.figure(figsize = (8, 5));\nplt.hist(scores.column(\"Midterm\"), bins = bins);\nplt.ylabel(\"Percent per score\");\nplt.xlabel(\"Score\");",
    "id": "a1993a2aab4643358897ec4bbe2ce1f8",
    "idx": 3,
    "time": "2021-02-12T01:45:59.335Z",
    "type": "execution"
   },
   {
    "id": "a1993a2aab4643358897ec4bbe2ce1f8",
    "time": "2021-02-12T01:45:59.636Z",
    "type": "completion"
   },
   {
    "code": "plt.figure(figsize = (8, 5));\nplt.bar(bin_cats, counts_per_bin);\nplt.ylabel(\"Count\");\nplt.xlabel(\"Score\");",
    "id": "837b4d4311f14db287bf116aac63faa2",
    "idx": 2,
    "time": "2021-02-12T01:46:05.688Z",
    "type": "execution"
   },
   {
    "id": "837b4d4311f14db287bf116aac63faa2",
    "time": "2021-02-12T01:46:05.982Z",
    "type": "completion"
   },
   {
    "code": "# These don't tell the same story!\nplt.figure(figsize = (8, 5));\nplt.hist(scores.column(\"Midterm\"), bins = bins);\nplt.ylabel(\"Percent per score\");\nplt.xlabel(\"Score\");",
    "id": "a1993a2aab4643358897ec4bbe2ce1f8",
    "idx": 3,
    "time": "2021-02-12T01:46:14.257Z",
    "type": "execution"
   },
   {
    "id": "a1993a2aab4643358897ec4bbe2ce1f8",
    "time": "2021-02-12T01:46:14.706Z",
    "type": "completion"
   },
   {
    "code": "\"a\".lower",
    "id": "0b52333c14c241e791f3018d40561755",
    "idx": 20,
    "time": "2021-02-12T01:53:57.881Z",
    "type": "execution"
   },
   {
    "id": "0b52333c14c241e791f3018d40561755",
    "time": "2021-02-12T01:53:57.996Z",
    "type": "completion"
   },
   {
    "code": "\"a\".lower()",
    "id": "0b52333c14c241e791f3018d40561755",
    "idx": 20,
    "time": "2021-02-12T01:53:59.467Z",
    "type": "execution"
   },
   {
    "id": "0b52333c14c241e791f3018d40561755",
    "time": "2021-02-12T01:53:59.544Z",
    "type": "completion"
   },
   {
    "code": "# How does this work with tables? If we want to use a function on an entire column,\n# we can use tbl.apply(func, \"col\")\n\ndef first_letter(name, lower = False):\n    \"\"\"Return the first character of a given string in the specified case\"\"\"\n    if lower:\n        return name[0].lower()\n    else:\n        return name[0].upper()\n\nnames_tbl = Table().with_column(\"Name\", names)\nnames_tbl",
    "id": "c9b3255f446d41c1a235ffddbcc5103e",
    "idx": 21,
    "time": "2021-02-12T01:54:37.040Z",
    "type": "execution"
   },
   {
    "id": "c9b3255f446d41c1a235ffddbcc5103e",
    "time": "2021-02-12T01:54:37.188Z",
    "type": "completion"
   },
   {
    "code": "from datascience import *\nimport numpy as np \nimport pandas as pd\n\nimport matplotlib.pyplot as plt \nplt.style.use('fivethirtyeight') \n%matplotlib inline ",
    "id": "e81c849a2578463780237f5ecdd842f7",
    "idx": 0,
    "time": "2021-02-12T01:54:41.062Z",
    "type": "execution"
   },
   {
    "id": "e81c849a2578463780237f5ecdd842f7",
    "time": "2021-02-12T01:54:43.108Z",
    "type": "completion"
   },
   {
    "code": "# Practice question: Find the names of your classmates that are longer than 5 characters long\nnames = make_array(\"Temma\", \"Jessica\", \"Corrine\", \"Sakshina\", \"Sachin\", \"Grace\", \"Nicole\", \"Cynthia\",\n                  \"Jack\", \"Zhenya\", \"Benny\", \"Danielle\", \"Jose\", \"Megan\", \"Lena\", \"Beixuan\", \"Kendle\",\n                  \"Vicky\", \"Kelsey\", \"Kimsa\", \"Ifejesu\", \"Joe\", \"Gerald\", \"Yang\", \"Joyce\", \"Sofia\",\n                  \"Christine\", \"Hsiang Yun\", \"Zihong\")\n\nname_lengths = np.array([len(name) for name in names]) # a list comprehension; more on iteration next week\n\n...",
    "id": "1008a3620dcc43c5a2790bbd85ddda84",
    "idx": 9,
    "time": "2021-02-12T01:54:44.321Z",
    "type": "execution"
   },
   {
    "id": "1008a3620dcc43c5a2790bbd85ddda84",
    "time": "2021-02-12T01:54:44.390Z",
    "type": "completion"
   },
   {
    "code": "# How does this work with tables? If we want to use a function on an entire column,\n# we can use tbl.apply(func, \"col\")\n\ndef first_letter(name, lower = False):\n    \"\"\"Return the first character of a given string in the specified case\"\"\"\n    if lower:\n        return name[0].lower()\n    else:\n        return name[0].upper()\n\nnames_tbl = Table().with_column(\"Name\", names)\nnames_tbl",
    "id": "c9b3255f446d41c1a235ffddbcc5103e",
    "idx": 21,
    "time": "2021-02-12T01:54:47.089Z",
    "type": "execution"
   },
   {
    "id": "c9b3255f446d41c1a235ffddbcc5103e",
    "time": "2021-02-12T01:54:47.206Z",
    "type": "completion"
   }
  ],
  "kernelspec": {
   "display_name": "Python 3",
   "language": "python",
   "name": "python3"
  },
  "language_info": {
   "codemirror_mode": {
    "name": "ipython",
    "version": 3
   },
   "file_extension": ".py",
   "mimetype": "text/x-python",
   "name": "python",
   "nbconvert_exporter": "python",
   "pygments_lexer": "ipython3",
   "version": "3.8.6"
  }
 },
 "nbformat": 4,
 "nbformat_minor": 4
}
