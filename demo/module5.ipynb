{
 "cells": [
  {
   "cell_type": "code",
   "execution_count": 1,
   "metadata": {},
   "outputs": [],
   "source": [
    "import numpy as np\n",
    "from datascience import *\n",
    "from math import *\n",
    "\n",
    "import matplotlib\n",
    "%matplotlib inline\n",
    "import matplotlib.pyplot as plt\n",
    "plt.style.use('fivethirtyeight')"
   ]
  },
  {
   "cell_type": "markdown",
   "metadata": {},
   "source": [
    "## Iteration: making a set of code run many times\n",
    "\n",
    "In Python, there are 2 ways we can make a set of code run multiple times: `while` loops and `for` loops.\n",
    "\n",
    "Let's start off with `while` loops since they aren't covered in Data 8, but then let's move on to `for` loops.\n",
    "\n",
    "The general structure of a `while` loop is as follows:\n",
    "\n",
    "`while <condition>:\n",
    "    <code>`\n",
    " \n",
    "We can read it as: \"While this condition is True, let's run the indented code in a loop. Once the condition becomes False, stop the code.\""
   ]
  },
  {
   "cell_type": "code",
   "execution_count": null,
   "metadata": {},
   "outputs": [],
   "source": [
    "# A toy example: halving until we reach 10\n",
    "\n",
    "counter = 0\n",
    "\n",
    "while counter < 5:\n",
    "    print(counter / 2)\n",
    "    counter = counter + 1\n",
    "    \n",
    "# What will happen when I run this code? Why?"
   ]
  },
  {
   "cell_type": "code",
   "execution_count": null,
   "metadata": {},
   "outputs": [],
   "source": [
    "# Be careful: don't make an infinite loop\n",
    "\n",
    "x = 0\n",
    "\n",
    "while x < 10:\n",
    "    print(\"School Spirit Counter: \" + str(x))\n",
    "    print(\"Go Bears!\")\n",
    "\n",
    "# If you get stuck, interrupt the kernel before it crashes\n",
    "# How do we fix this so we accurately count the number of \"Go Bears\"?"
   ]
  },
  {
   "cell_type": "code",
   "execution_count": null,
   "metadata": {},
   "outputs": [],
   "source": [
    "# The Hailstone sequence from last week\n",
    "# If even, divide by 2, if odd multiply by 3 and add 1\n",
    "# stop at 1\n",
    "\n",
    "hailstone = 3\n",
    "\n",
    "while ...: \n",
    "    print(hailstone)\n",
    "    if ...:\n",
    "        ...\n",
    "    else:\n",
    "        ..."
   ]
  },
  {
   "cell_type": "markdown",
   "metadata": {},
   "source": [
    "Although `while` loops are a good way to make a block of code run many times, they're prone to crashing your kernel and running infinitely. They're great if we don't know how many times we want to loop through our code but still want to continue until we stop fulfilling a condition. \n",
    "\n",
    "What is used much more often in data science is something called a `for` loop, which is better for our purposes because it lets us control the **number of loops** we want to perform. \n",
    "\n",
    "The general structure is follows:\n",
    "\n",
    "`for <dummy variable> in <collection>:\n",
    "    <code>\n",
    "`\n",
    "\n",
    "where `<dummy variable>` is any name, and `<collection>` is a collection like a list or array."
   ]
  },
  {
   "cell_type": "code",
   "execution_count": null,
   "metadata": {},
   "outputs": [],
   "source": [
    "## For loops work by \"iterating\" through a collection\n",
    "\n",
    "colors = [\"red\", \"orange\", \"yellow\", \"green\", \"blue\", \"indigo\", \"violet\"]\n",
    "\n",
    "for ... in ...:\n",
    "    ..."
   ]
  },
  {
   "cell_type": "code",
   "execution_count": null,
   "metadata": {},
   "outputs": [],
   "source": [
    "# in each iteration, the dummy variable \"color\" is equal to a specific value (in order) in colors\n",
    "# that means we can do modifications to each value\n",
    "new_colors = make_array()\n",
    "\n",
    "for ... in ...:\n",
    "    upper_case_color = ...\n",
    "    new_colors = ...\n",
    "    print(upper_case_color)\n",
    "    \n",
    "new_colors"
   ]
  },
  {
   "cell_type": "code",
   "execution_count": null,
   "metadata": {},
   "outputs": [],
   "source": [
    "# That's good if we want to do many of the same modifications, \n",
    "# but we don't /need/ to reference the values in the collection\n",
    "\n",
    "die = np.arange(6) + 1\n",
    "rolls = np.arange(...)\n",
    "turn_results = make_array()\n",
    "\n",
    "for ... in ...:\n",
    "    one_roll = ...\n",
    "    turn_results = ...\n",
    "    \n",
    "turn_results"
   ]
  },
  {
   "cell_type": "code",
   "execution_count": null,
   "metadata": {},
   "outputs": [],
   "source": [
    "# Another way of thinking about this:\n",
    "num_rolls = ...\n",
    "\n",
    "for ... in ...:\n",
    "    one_roll = ...\n",
    "    print(\"On roll #\" + str(...) + \" we rolled a \" + str(...))"
   ]
  },
  {
   "cell_type": "code",
   "execution_count": null,
   "metadata": {},
   "outputs": [],
   "source": [
    "# From slides: Temp Check 1 \n",
    "# What will be the output? What is the code doing?\n",
    "\n",
    "stars = make_array(4, 3.5, 4.9, 4.7, 4.4, 4.5)\n",
    "counter = 0\n",
    "for rating in stars:\n",
    "    if rating >= 4.5:\n",
    "        counter = counter + 1\n",
    "counter"
   ]
  },
  {
   "cell_type": "code",
   "execution_count": null,
   "metadata": {},
   "outputs": [],
   "source": [
    "# From slides: Temp Check 2\n",
    "# Why doesn't this code work? Fix the loop so it correctly calculates these salaries post-tax\n",
    "\n",
    "salaries = make_array(25, 50, 100, 25, 100)\n",
    "post_tax = make_array()\n",
    "for i in salaries:\n",
    "    tax = i * 0.2\n",
    "    np.append(post_tax, i - tax)\n",
    "post_tax "
   ]
  },
  {
   "cell_type": "markdown",
   "metadata": {},
   "source": [
    "We'll get a lot more practice working with these loops  when we start doing empirical simulations for statistics & hypothesis tests in 8.2X!\n",
    "\n",
    "\n",
    "Utilizing this computational power is going to be a key part of data science. "
   ]
  },
  {
   "cell_type": "markdown",
   "metadata": {},
   "source": [
    "## An application of everything we've learned so far: Analyzing the 2020 Presidential Election in Pennsylvania\n",
    "\n",
    "As we know, Joe Biden beat Donald Trump for the US Presidency in 2020. Pennsylvania is considered a battleground state that traditionally votes Democratic (the \"Blue Wall\"). However, in 2016, it flipped for the first time to a Republican candidate since 1988. For today's class, we won't look at 2016 data (ask me in office hours for that analysis!). Instead, we're going to focus on how the votes were distributed in 2020.\n",
    "\n",
    "Let's practice doing some data cleaning and exploratory data analysis using the more advanced table methods: `group`, `join`, and `pivot`!"
   ]
  },
  {
   "cell_type": "code",
   "execution_count": null,
   "metadata": {},
   "outputs": [],
   "source": [
    "# Let's start off with data cleaning!\n",
    "pa_2020 = Table().read_table(\"2020_presidential.CSV\")\n",
    "pa_2020.show(5)"
   ]
  },
  {
   "cell_type": "code",
   "execution_count": null,
   "metadata": {},
   "outputs": [],
   "source": [
    "# Let's only take the columns we want\n",
    "cols_of_interest = [\"County Name\", \"Party Name\", \"Candidate Name\", \"Votes\", \"Election Day Votes\", \"Mail Votes\", \"Provisional Votes\"]\n",
    "\n",
    "pa_2020 = ...\n",
    "pa_2020"
   ]
  },
  {
   "cell_type": "code",
   "execution_count": null,
   "metadata": {},
   "outputs": [],
   "source": [
    "# How many people voted in Pennsylvania in 2020? Try calculating it.\n",
    "total_votes = ...\n",
    "total_votes"
   ]
  },
  {
   "cell_type": "code",
   "execution_count": null,
   "metadata": {},
   "outputs": [],
   "source": [
    "# What's the problem? Let's check the data types.\n",
    "..."
   ]
  },
  {
   "cell_type": "code",
   "execution_count": null,
   "metadata": {},
   "outputs": [],
   "source": [
    "# It looks like we need to do some data cleaning\n",
    "# How do we convert this into a number we can work with?\n",
    "adamsctybiden = pa_2020.column(\"Votes\").item(0)\n",
    "\n",
    "..."
   ]
  },
  {
   "cell_type": "code",
   "execution_count": null,
   "metadata": {},
   "outputs": [],
   "source": [
    "# Now, how do we do this to all of the numbers in the dataset? We need a function.\n",
    "def vote_to_int(votes):\n",
    "    \"\"\"...\"\"\"\n",
    "    ...\n",
    "\n",
    "vote_to_int(adamsctybiden)"
   ]
  },
  {
   "cell_type": "code",
   "execution_count": null,
   "metadata": {},
   "outputs": [],
   "source": [
    "# Now, we can apply this to the data in the table!\n",
    "..."
   ]
  },
  {
   "cell_type": "code",
   "execution_count": null,
   "metadata": {},
   "outputs": [],
   "source": [
    "# Let's go fix the whole dataset\n",
    "# Just run this cell, but figure out what's happening\n",
    "\n",
    "cols_to_convert = [\"Votes\", \"Election Day Votes\", \"Mail Votes\", \"Provisional Votes\"]\n",
    "\n",
    "for col in cols_to_convert:\n",
    "    votes_as_ints = pa_2020.apply(vote_to_int, col)\n",
    "    pa_2020 = pa_2020.with_column(col, votes_as_ints)\n",
    "    \n",
    "pa_2020"
   ]
  },
  {
   "cell_type": "code",
   "execution_count": null,
   "metadata": {},
   "outputs": [],
   "source": [
    "# Checking data types\n",
    "..."
   ]
  },
  {
   "cell_type": "code",
   "execution_count": null,
   "metadata": {},
   "outputs": [],
   "source": [
    "# Looks good! Now, as someone interested in media, let's add in some info about TV media markets\n",
    "pa_media_markets = Table().read_table(\"media_markets.csv\")\n",
    "pa_media_markets"
   ]
  },
  {
   "cell_type": "code",
   "execution_count": null,
   "metadata": {},
   "outputs": [],
   "source": [
    "# I want this information attached to pa_2020\n",
    "# what happens if we try to join?\n",
    "\n",
    "..."
   ]
  },
  {
   "cell_type": "code",
   "execution_count": null,
   "metadata": {},
   "outputs": [],
   "source": [
    "# What went wrong? How do we fix it?\n",
    "\n",
    "mm_counties = ...\n",
    "cleaned_counties = make_array()\n",
    "\n",
    "for ...:\n",
    "    ...\n",
    "\n",
    "cleaned_counties"
   ]
  },
  {
   "cell_type": "code",
   "execution_count": null,
   "metadata": {},
   "outputs": [],
   "source": [
    "# Cleaning up the media markets table with the new names\n",
    "pa_media_markets = ...\n",
    "pa_media_markets"
   ]
  },
  {
   "cell_type": "code",
   "execution_count": null,
   "metadata": {},
   "outputs": [],
   "source": [
    "# Finally, combining all of our data with a join\n",
    "pa_2020_mm = ...\n",
    "pa_2020_mm"
   ]
  },
  {
   "cell_type": "markdown",
   "metadata": {},
   "source": [
    "Now that we have a workable dataset, let's do some short EDA! Let's learn more about where voters voted and how they voted. We're going to use `group` and `pivot` for this.\n",
    "\n",
    "Recall: `tbl.group(\"col\", func)` If func is not specified, by default finds the count of each unique value in \"col\". Otherwise, applies func to the grouped values in every other column. \n",
    "\n",
    "`tbl.pivot(\"col\", \"row\", \"vals\", func)` cross-classifies a dataset, making all the unique values in 1 column the new rows and all the unique values in the other column the new column labels. Then, it puts the values of \"vals\", with the function applied to each group, in the corresponding cells.\n",
    "\n",
    "For example:\n",
    "http://data8.org/interactive_table_functions/ "
   ]
  },
  {
   "cell_type": "code",
   "execution_count": null,
   "metadata": {},
   "outputs": [],
   "source": [
    "# Now we can finally begin a quick analysis using interesting table methods\n",
    "# First, we can use a group to quickly quantify the # of counties in each media market\n",
    "pa_2020_mm..."
   ]
  },
  {
   "cell_type": "code",
   "execution_count": null,
   "metadata": {},
   "outputs": [],
   "source": [
    "# How many voters are in each media market? \n",
    "# Notice that we need to clean the resultant table a bit\n",
    "pa_2020_mm..."
   ]
  },
  {
   "cell_type": "code",
   "execution_count": null,
   "metadata": {},
   "outputs": [],
   "source": [
    "# We can also use a double group to quantify by both media market and party\n",
    "pa_2020_mm..."
   ]
  },
  {
   "cell_type": "code",
   "execution_count": null,
   "metadata": {},
   "outputs": [],
   "source": [
    "# In general, how did each party vote? (Election Day, Mail Votes, Provisional)\n",
    "# Let's figure it out. \n",
    "party_by_votes = ...\n",
    "party_by_votes"
   ]
  },
  {
   "cell_type": "code",
   "execution_count": null,
   "metadata": {},
   "outputs": [],
   "source": [
    "# Let's convert all of the columns into a proportion using array arithmetic; run this cell\n",
    "# This makes it a bit easier to compare across party by controlling by # of votes\n",
    "\n",
    "def vote_prop(col_str):\n",
    "    return party_by_votes.column(col_str) / party_by_votes.column(\"Votes sum\")\n",
    "\n",
    "party_vote_props = party_by_votes.select(\"Party Name\").with_columns(\"Election Day Votes\", vote_prop(\"Election Day Votes sum\"),\n",
    "                                                                   \"Mail Votes\", vote_prop(\"Mail Votes sum\"),\n",
    "                                                                   \"Provisional Votes\", vote_prop(\"Provisional Votes sum\"))\n",
    "\n",
    "# Bar chart to see the breakdown! \n",
    "party_vote_props.barh(0)"
   ]
  },
  {
   "cell_type": "code",
   "execution_count": null,
   "metadata": {},
   "outputs": [],
   "source": [
    "# Reminder of the table setup\n",
    "pa_2020_mm.show(5)"
   ]
  },
  {
   "cell_type": "code",
   "execution_count": null,
   "metadata": {},
   "outputs": [],
   "source": [
    "# Now let's try \"cross classifying\"; similar to a 2 column group, but let's focus on a specific value\n",
    "# How were the votes broken down by Media Market and party? \n",
    "# or: what media markets did most of the raw votes come from for each party?\n",
    "market_vs_party = ...\n",
    "market_vs_party"
   ]
  },
  {
   "cell_type": "code",
   "execution_count": null,
   "metadata": {},
   "outputs": [],
   "source": [
    "# Let's look at the data with a bar chart\n",
    "..."
   ]
  },
  {
   "cell_type": "code",
   "execution_count": null,
   "metadata": {},
   "outputs": [],
   "source": [
    "# Just run this cell; it's a lot of wordy array arithmetic\n",
    "# We're converting each party to proportions\n",
    "\n",
    "market_vs_party.column(\"Democratic\") / (market_vs_party.column(\"Democratic\") + market_vs_party.column(\"Libertarian\") + market_vs_party.column(\"Republican\"))\n",
    "\n",
    "mvp_props = market_vs_party.select(\"Media Market\").with_columns(\"Democratic\", market_vs_party.column(\"Democratic\") / (market_vs_party.column(\"Democratic\") + market_vs_party.column(\"Libertarian\") + market_vs_party.column(\"Republican\")),\n",
    "                                                                \"Libertarian\", market_vs_party.column(\"Libertarian\") / (market_vs_party.column(\"Democratic\") + market_vs_party.column(\"Libertarian\") + market_vs_party.column(\"Republican\")),\n",
    "                                                                \"Republican\", market_vs_party.column(\"Republican\") / (market_vs_party.column(\"Democratic\") + market_vs_party.column(\"Libertarian\") + market_vs_party.column(\"Republican\")))\n",
    "\n",
    "# Now that we've controlled for number of votes in media market, this shows us who \"won\" each media market\n",
    "mvp_props.barh(0)\n"
   ]
  },
  {
   "cell_type": "markdown",
   "metadata": {},
   "source": [
    "## Now, that was a lot of work!\n",
    "\n",
    "As useful as this was, the `datascience` library has a lot of limitations and requires a lot of work to do just this level of cleaning and EDA. \n",
    "\n",
    "However, it'll get easier as we get more comfortable working with and manipulating tables! Once we have a good handle on working with tabular data, we'll go over how to use `pandas` in discussion. It's a lot more powerful, concise, and lets us do even more interesting analysis with data tables. More on that soon!"
   ]
  },
  {
   "cell_type": "code",
   "execution_count": null,
   "metadata": {},
   "outputs": [],
   "source": []
  },
  {
   "cell_type": "code",
   "execution_count": null,
   "metadata": {},
   "outputs": [],
   "source": []
  }
 ],
 "metadata": {
  "kernelspec": {
   "display_name": "Python 3",
   "language": "python",
   "name": "python3"
  },
  "language_info": {
   "codemirror_mode": {
    "name": "ipython",
    "version": 3
   },
   "file_extension": ".py",
   "mimetype": "text/x-python",
   "name": "python",
   "nbconvert_exporter": "python",
   "pygments_lexer": "ipython3",
   "version": "3.8.6"
  }
 },
 "nbformat": 4,
 "nbformat_minor": 4
}
