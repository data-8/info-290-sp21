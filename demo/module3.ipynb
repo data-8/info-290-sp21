{
 "cells": [
  {
   "cell_type": "code",
   "execution_count": null,
   "metadata": {},
   "outputs": [],
   "source": [
    "from datascience import *\n",
    "import numpy as np\n",
    "\n",
    "# Notice the new library\n",
    "import matplotlib.pyplot as plt # pyplot is the main module in matplotlib for plotting in Python\n",
    "plt.style.use('fivethirtyeight') # setting up styles\n",
    "# inline lets us embed plots to our notebook as static images\n",
    "%matplotlib inline "
   ]
  },
  {
   "cell_type": "markdown",
   "metadata": {},
   "source": [
    "## Importing Datasets\n",
    "\n",
    "To import datasets into JupyterHub, follow these steps:\n",
    "\n",
    "1) Download your dataset. (csv preferred for the datascience library)\n",
    "\n",
    "2) Click on File > Open... to open the directory your notebook is in.\n",
    "\n",
    "3) Click Upload and upload your dataset.\n",
    "\n",
    "4) Go back to the notebook, and import the dataset using the `Table().read_table(\"your_file_name.csv\")` function.\n"
   ]
  },
  {
   "cell_type": "code",
   "execution_count": null,
   "metadata": {},
   "outputs": [],
   "source": [
    "# Let's practice importing the bechdel dataset: bechdel.csv\n",
    "bechdel = ...\n",
    "bechdel"
   ]
  },
  {
   "cell_type": "code",
   "execution_count": null,
   "metadata": {},
   "outputs": [],
   "source": [
    "# We can use attributes to learn more about the dataset: num_rows, labels, num_columns\n",
    "bechdel..."
   ]
  },
  {
   "cell_type": "code",
   "execution_count": null,
   "metadata": {},
   "outputs": [],
   "source": [
    "## As a quick note: tabular data is how most data scientists work with their datasets.\n",
    "# datascience is our main tool in this class. datascience is largely an educational tool,\n",
    "# and a simplified version of the more industry-standard pandas library\n",
    "\n",
    "import pandas as pd\n",
    "bechdel_df = pd.read_csv(\"bechdel.csv\")\n",
    "bechdel_df.head()\n",
    "\n",
    "# pandas has a lot of interesting syntax and requires decent knowledge of Python\n",
    "# we'll have some workshops and demos on this later in the semester,\n",
    "# but notice the similarities! "
   ]
  },
  {
   "cell_type": "markdown",
   "metadata": {},
   "source": [
    "## Basic Table Manipulations\n",
    "\n",
    "The majority of data science will be taking these large datasets (in the form of tables) and performing manipulations on them to learn something interesting.\n",
    "\n",
    "To manipulate tables, we will use methods, which are functions that act on a specific object -- in this case, a table. For example: tbl.where(\"column\", value) \n",
    "\n",
    "You should get comfortable using these methods. The nice thing about methods is that, instead of nesting them like functions:\n",
    "\n",
    "`sum(max(1, 3), min(4, 6))`, \n",
    "\n",
    "we can string them together and read them from left to right. For example: \n",
    "\n",
    "`tbl.where(\"column\", value).sort(\"column2\").column(\"column3\").`\n",
    "\n",
    "Today, we'll go over some of the basic table methods. This will be your best friend: http://data8.org/sp21/python-reference.html "
   ]
  },
  {
   "cell_type": "code",
   "execution_count": null,
   "metadata": {},
   "outputs": [],
   "source": [
    "# To view a table, we can use tbl.show(). What's the datatype?\n",
    "bechdel..."
   ]
  },
  {
   "cell_type": "code",
   "execution_count": null,
   "metadata": {},
   "outputs": [],
   "source": [
    "# That's a lot of columns! Let's clean it up.\n",
    "# For this analysis, we only want the columns \"year\", \"title\", \"clean_test\", \"binary\"\n",
    "clean_bechdel = ...\n",
    "clean_bechdel"
   ]
  },
  {
   "cell_type": "code",
   "execution_count": null,
   "metadata": {},
   "outputs": [],
   "source": [
    "# Let's make it more readable. Change clean_test to \"test\" and binary to \"result\"\n",
    "# Notice how we edit the table \"in place\"\n",
    "clean_bechdel...\n",
    "# tbl.sort\n"
   ]
  },
  {
   "cell_type": "code",
   "execution_count": null,
   "metadata": {},
   "outputs": [],
   "source": [
    "# Now, let's see what is the first and last year in the dataset. We can do this by sorting and looking at the table. \n",
    "clean_bechdel..."
   ]
  },
  {
   "cell_type": "code",
   "execution_count": null,
   "metadata": {},
   "outputs": [],
   "source": [
    "# Let's focus on a single year. In that year, how many movies passed or failed the test? \n",
    "# We can use tbl.where to filter a table by some condition\n",
    "clean_bechdel...\n",
    "\n",
    "# What movies in 2010 failed the Bechdel test? Let's get the data as an array.\n",
    "..."
   ]
  },
  {
   "cell_type": "code",
   "execution_count": null,
   "metadata": {},
   "outputs": [],
   "source": [
    "# I did some data cleaning and manipulations for you, and created this table \"bechdel_by_year.csv\"\n",
    "# which shows the proportion of how many movies in the dataset passed/failed the Bechdel test\n",
    "# You should be able to figure out how to do this transformation in a few weeks. \n",
    "props_by_year = ...\n",
    "props_by_year"
   ]
  },
  {
   "cell_type": "code",
   "execution_count": null,
   "metadata": {},
   "outputs": [],
   "source": [
    "# (More on this next week) We can use tbl.group(\"col\") to find the count of all unique values in a column\n",
    "# Does this explain anything about the pattern we saw above? \n",
    "clean_bechdel.group(\"year\").plot(0)"
   ]
  },
  {
   "cell_type": "markdown",
   "metadata": {},
   "source": [
    "## Intro to Matplotlib workshop\n",
    "\n",
    "Now, we made a few graphs using the tools from the datascience library. It's easy; all we needed to do was tbl.plot(\"x\", \"y\"), tbl.scatter(\"x\", \"y\"), tbl.barh(\"categories\"), etc. \n",
    "\n",
    "But most people don't use datascience to graph! They use matplotlib, which is a popular visualization library used to graph data in Python. For our purposes, it's more useful because we get a lot more control over what we graph using matplot instead of just the functions in datascience.\n",
    "\n",
    "(Note: this is for your personal learning; you're allowed to use the datascience functions for everything in this class).\n"
   ]
  },
  {
   "cell_type": "code",
   "execution_count": null,
   "metadata": {},
   "outputs": [],
   "source": [
    "# If you have experience in R, you'll notice that there are /a lot/ of similarities in syntax.\n",
    "# Recall that we imported matplotlib.pyplots as plt at the start\n",
    "\n",
    "# Q1: Let's recreate the graph in how movies have gotten better (or worse) \n",
    "# in terms of the Bechdel test over time.\n",
    "\n",
    "x = ...\n",
    "y = ...\n",
    "\n",
    "# Building a plot: figure/figsize, plot, x/ylim, x/ylabel, axh/vline, title\n",
    "plt..."
   ]
  },
  {
   "cell_type": "code",
   "execution_count": null,
   "metadata": {},
   "outputs": [],
   "source": [
    "#Q2 (depending on time): Make a bar chart comparing the number of each category from \"test\" \n",
    "# from the clean_bechdel table in 2010\n",
    "\n",
    "# Hint: plt.barh(\"categories\", \"value\")\n",
    "tests_2010 = ...\n",
    "tests_2010\n",
    "\n",
    "..."
   ]
  },
  {
   "cell_type": "markdown",
   "metadata": {},
   "source": [
    "## Histograms\n",
    "\n",
    "Histograms are very important tools to analyze the distribution of our datasets. What is the center and spread of a value in the sample? In this course, we can make them with tbl.hist(\"col\") or with matplotlib.\n",
    "\n",
    "Some general rules about histograms:\n",
    "\n",
    "1) Histograms look like bar charts, but instead of categories separating the groups, we have a continuous range. The range will be split into categories by setting \"bins\" (ex. value a to b, b to c, and c to d) that values fall into. \n",
    "\n",
    "2) We are going to forever use density histograms, NOT count histograms. Density is a measure of % of data per x-unit. Density is better than counts because it scales based on the size of our bins and therefore gives a better idea of the distribution (see here: https://www.inferentialthinking.com/chapters/07/2/Visualizing_Numerical_Distributions.html)\n",
    "\n",
    "3) Bins are inclusive of the left end but non-inclusive of the right end. In mathematical terms, if we have a bin A-B, then \\[A, B). For example: if we have the bin [0, 10), the values 5 and 9.99999999 fall in this bin, but 10 does not.\n",
    "\n",
    "4) Lastly, because of these values, we can make the following conclusions:\n",
    "\n",
    "(Percent of data in bin) = Area of bin = Height (in density) / Width of bin (B - A, if B > A)\n",
    "\n",
    "and that the sum of area of bins = 100. If you're confused about this, try doing the algebra/unit conversions."
   ]
  },
  {
   "cell_type": "code",
   "execution_count": null,
   "metadata": {},
   "outputs": [],
   "source": [
    "# Some made-up data. \n",
    "age_data =  Table().with_column(\"Ages\", [3, 4, 8, 9, 14, 18, 20, 23, 24, 35])\n",
    "age_data"
   ]
  },
  {
   "cell_type": "code",
   "execution_count": null,
   "metadata": {},
   "outputs": [],
   "source": [
    "# How we'll make histograms in homework\n",
    "bins = ...\n",
    "age_data.hist(...)"
   ]
  },
  {
   "cell_type": "markdown",
   "metadata": {},
   "source": [
    "### A toy example: a binomial (coin-flip) and normal distribution\n",
    "\n",
    "A binomial distribution is defined as a distribution that has a binary success/failure with *n* independent experiments. The probability of a success is defined as *p* and the probability of a failure is therefore *(1-p)*.\n",
    "\n",
    "We'll learn later about normal distributions, but if you take a future data science course, all normal distributions follow this equation:\n",
    "\n",
    "The *normal curve with mean $\\mu$ and SD $\\sigma$* is defined by\n",
    "\n",
    "$$\n",
    "f(x) ~ = ~ \\frac{1}{\\sqrt{2\\pi}\\sigma} e^{-\\frac{1}{2}\\big{(}\\frac{x-\\mu}{\\sigma}\\big{)}^2}, ~~~ -\\infty < x < \\infty\n",
    "$$\n",
    "\n",
    "One cool thing is that if we repeat *n* binomial experiments many times, the distribution of results from the binomial distribution will be approximately normal. Let's demonstrate this property with 10 coin flips and matplotlib!"
   ]
  },
  {
   "cell_type": "code",
   "execution_count": null,
   "metadata": {},
   "outputs": [],
   "source": [
    "# We'll learn later that, if we perform an experiment many times,\n",
    "# the distribution of our observed (\"empirical\") results will converge on the true (\"probability\") distribution\n",
    "# This is a fundamental part of computational statistics/data science, because \n",
    "# we're going to use simulations to approximate distributions. \n",
    "\n",
    "\n",
    "# The np.random module; let's simulate 50 flips of a fair coin, many many times\n",
    "heads = ...\n",
    "heads"
   ]
  },
  {
   "cell_type": "code",
   "execution_count": null,
   "metadata": {},
   "outputs": [],
   "source": [
    "# Make a histogram of the results using matplot\n",
    "bins = np.arange(min(heads) - 0.5, max(heads) + 0.5, 1) \n",
    "# weird bins, but this is to make sure only 1 integer value falls within each bin and that the curve draws correctly\n",
    "# in other words, it centers our values between bars\n",
    "plt.figure(figsize = (10, 5)); \n",
    "plt.hist(heads, bins = bins, density = True);\n",
    "\n",
    "# What do you notice? Center, spread, shape"
   ]
  },
  {
   "cell_type": "code",
   "execution_count": null,
   "metadata": {},
   "outputs": [],
   "source": [
    "# Draw the normal curve over the histogram with plt.plot(...)\n",
    "mean = ...\n",
    "std = ...\n",
    "\n",
    "x = ... \n",
    "f_x = (1 / (np.sqrt(2 * np.pi) * std)) * np.e ** (-0.5 * ((x - mean) / std) ** 2) # the normal curve equation\n",
    "\n",
    "...\n"
   ]
  },
  {
   "cell_type": "markdown",
   "metadata": {},
   "source": [
    "## Next Week\n",
    "\n",
    "For our next discussion, we will spend more time on Python coding fundamentals. We'll be going over (1) conditionals, or how to make decisions with your code using \"Boolean\" values and (2) how to write functions to make your code more versatile. We will also try to go over some more complicated table manipulations (group, pivot, join) which we can use to pull more interesting information from your dataset.\n",
    "\n",
    "If you want to learn more about matplotlib, check out these resources:\n",
    "\n",
    "https://matplotlib.org/users/index.html \n",
    "\n",
    "https://realpython.com/python-matplotlib-guide/\n",
    "\n",
    "https://towardsdatascience.com/visualizations-with-matplotlib-part-1-c9651008b6b8\n"
   ]
  },
  {
   "cell_type": "code",
   "execution_count": null,
   "metadata": {},
   "outputs": [],
   "source": []
  }
 ],
 "metadata": {
  "history": [
   {
    "code": "# intro to functions",
    "id": "d8e73406ec5a43f08381e683e6d9022d",
    "idx": 1,
    "time": "2021-02-04T03:35:15.752Z",
    "type": "execution"
   },
   {
    "id": "d8e73406ec5a43f08381e683e6d9022d",
    "time": "2021-02-04T03:35:15.949Z",
    "type": "completion"
   },
   {
    "code": "# introduce the bechdel set\n",
    "id": "d8e73406ec5a43f08381e683e6d9022d",
    "idx": 1,
    "time": "2021-02-04T03:35:23.768Z",
    "type": "execution"
   },
   {
    "id": "d8e73406ec5a43f08381e683e6d9022d",
    "time": "2021-02-04T03:35:23.848Z",
    "type": "completion"
   },
   {
    "code": "# basic table manipulations\n\n",
    "id": "a1bf04cda4d54605a63b43d1f4095bd4",
    "idx": 2,
    "time": "2021-02-04T03:35:32.362Z",
    "type": "execution"
   },
   {
    "id": "a1bf04cda4d54605a63b43d1f4095bd4",
    "time": "2021-02-04T03:35:32.519Z",
    "type": "completion"
   },
   {
    "code": "import pandas as pd\nimport numpy as np\nimport matplotlib.pyplot as plt\nplt.style.use('fivethirtyeight')\n%matplotlib inline\n",
    "id": "2454f2c2576e41e4a13f982820b11716",
    "idx": 0,
    "time": "2021-02-04T03:37:45.458Z",
    "type": "execution"
   },
   {
    "id": "2454f2c2576e41e4a13f982820b11716",
    "time": "2021-02-04T03:37:46.143Z",
    "type": "completion"
   },
   {
    "code": "from datascience import *\nimport numpy as np\nimport matplotlib.pyplot as plt\nplt.style.use('fivethirtyeight')\n%matplotlib inline\n",
    "id": "2454f2c2576e41e4a13f982820b11716",
    "idx": 0,
    "time": "2021-02-04T03:37:52.800Z",
    "type": "execution"
   },
   {
    "id": "2454f2c2576e41e4a13f982820b11716",
    "time": "2021-02-04T03:37:53.894Z",
    "type": "completion"
   },
   {
    "code": "# introduce the bechdel set\nbechdel = Table().read_table(\"bechdel.csv\")\n\n",
    "id": "d8e73406ec5a43f08381e683e6d9022d",
    "idx": 1,
    "time": "2021-02-04T03:38:11.686Z",
    "type": "execution"
   },
   {
    "id": "d8e73406ec5a43f08381e683e6d9022d",
    "time": "2021-02-04T03:38:11.784Z",
    "type": "completion"
   },
   {
    "code": "# introduce the bechdel set\nbechdel = Table().read_table(\"bechdel.csv\")\nbechdel\n",
    "id": "d8e73406ec5a43f08381e683e6d9022d",
    "idx": 1,
    "time": "2021-02-04T03:38:14.022Z",
    "type": "execution"
   },
   {
    "id": "d8e73406ec5a43f08381e683e6d9022d",
    "time": "2021-02-04T03:38:14.215Z",
    "type": "completion"
   },
   {
    "code": "# basic table manipulations\nplt.scatter(bechdel.column(\"year\"), bechdel.column(\"budget\"))\n",
    "id": "a1bf04cda4d54605a63b43d1f4095bd4",
    "idx": 2,
    "time": "2021-02-04T03:38:48.560Z",
    "type": "execution"
   },
   {
    "id": "a1bf04cda4d54605a63b43d1f4095bd4",
    "time": "2021-02-04T03:38:48.861Z",
    "type": "completion"
   },
   {
    "code": "bechdel.column(\"year\")",
    "id": "3762691051174519baeb5854b5db8ee5",
    "idx": 3,
    "time": "2021-02-04T03:39:20.756Z",
    "type": "execution"
   },
   {
    "id": "3762691051174519baeb5854b5db8ee5",
    "time": "2021-02-04T03:39:20.952Z",
    "type": "completion"
   },
   {
    "code": "bechdel.group(\"year\")",
    "id": "3762691051174519baeb5854b5db8ee5",
    "idx": 3,
    "time": "2021-02-04T03:39:27.574Z",
    "type": "execution"
   },
   {
    "id": "3762691051174519baeb5854b5db8ee5",
    "time": "2021-02-04T03:39:27.767Z",
    "type": "completion"
   },
   {
    "code": "bechdel.group(\"year\", max)",
    "id": "3762691051174519baeb5854b5db8ee5",
    "idx": 3,
    "time": "2021-02-04T03:39:30.402Z",
    "type": "execution"
   },
   {
    "id": "3762691051174519baeb5854b5db8ee5",
    "time": "2021-02-04T03:39:30.631Z",
    "type": "completion"
   },
   {
    "code": "bechdel.group(\"year\", max).column(\"budget max\")",
    "id": "3762691051174519baeb5854b5db8ee5",
    "idx": 3,
    "time": "2021-02-04T03:39:42.982Z",
    "type": "execution"
   },
   {
    "id": "3762691051174519baeb5854b5db8ee5",
    "time": "2021-02-04T03:39:43.183Z",
    "type": "completion"
   },
   {
    "code": "# basic table manipulations\nplt.scatter(bechdel.column(\"year\"), bechdel.column(\"budget\"))\nplt.plot(bechdel.group(\"year\", max).column(\"year\"), bechdel.group(\"year\", max).column(\"budget max\"))\n",
    "id": "a1bf04cda4d54605a63b43d1f4095bd4",
    "idx": 2,
    "time": "2021-02-04T03:40:06.700Z",
    "type": "execution"
   },
   {
    "id": "a1bf04cda4d54605a63b43d1f4095bd4",
    "time": "2021-02-04T03:40:07.237Z",
    "type": "completion"
   },
   {
    "code": "# basic table manipulations\nplt.scatter(bechdel.column(\"year\"), bechdel.column(\"budget\"))\nplt.plot(bechdel.group(\"year\", max).column(\"year\"), bechdel.group(\"year\", max).column(\"budget max\"))\nplt.figure(figsize = (4, 4))\n",
    "id": "a1bf04cda4d54605a63b43d1f4095bd4",
    "idx": 2,
    "time": "2021-02-04T03:40:18.864Z",
    "type": "execution"
   },
   {
    "id": "a1bf04cda4d54605a63b43d1f4095bd4",
    "time": "2021-02-04T03:40:19.357Z",
    "type": "completion"
   },
   {
    "code": "# basic table manipulations\nplt.scatter(bechdel.column(\"year\"), bechdel.column(\"budget\"))\nplt.plot(bechdel.group(\"year\", max).column(\"year\"), bechdel.group(\"year\", max).column(\"budget max\"))\nplt.figure(figsize = (8, 8))\n",
    "id": "a1bf04cda4d54605a63b43d1f4095bd4",
    "idx": 2,
    "time": "2021-02-04T03:40:26.172Z",
    "type": "execution"
   },
   {
    "id": "a1bf04cda4d54605a63b43d1f4095bd4",
    "time": "2021-02-04T03:40:26.751Z",
    "type": "completion"
   },
   {
    "code": "# basic table manipulations\nplt.scatter(bechdel.column(\"year\"), bechdel.column(\"budget\"))\nplt.plot(bechdel.group(\"year\", max).column(\"year\"), bechdel.group(\"year\", max).column(\"budget max\"))\nplt.figure(figsize = (8, 8));\n",
    "id": "a1bf04cda4d54605a63b43d1f4095bd4",
    "idx": 2,
    "time": "2021-02-04T03:40:29.557Z",
    "type": "execution"
   },
   {
    "id": "a1bf04cda4d54605a63b43d1f4095bd4",
    "time": "2021-02-04T03:40:30.057Z",
    "type": "completion"
   },
   {
    "code": "# basic table manipulations\nplt.scatter(bechdel.column(\"year\"), bechdel.column(\"budget\"));\nplt.plot(bechdel.group(\"year\", max).column(\"year\"), bechdel.group(\"year\", max).column(\"budget max\"));\nplt.figure(figsize = (8, 8));\n",
    "id": "a1bf04cda4d54605a63b43d1f4095bd4",
    "idx": 2,
    "time": "2021-02-04T03:40:34.296Z",
    "type": "execution"
   },
   {
    "id": "a1bf04cda4d54605a63b43d1f4095bd4",
    "time": "2021-02-04T03:40:34.736Z",
    "type": "completion"
   },
   {
    "code": "# basic table manipulations\nplt.figure(figsize = (8, 8));\nplt.scatter(bechdel.column(\"year\"), bechdel.column(\"budget\"));\nplt.plot(bechdel.group(\"year\", max).column(\"year\"), bechdel.group(\"year\", max).column(\"budget max\"));\n\n",
    "id": "a1bf04cda4d54605a63b43d1f4095bd4",
    "idx": 2,
    "time": "2021-02-04T03:40:42.042Z",
    "type": "execution"
   },
   {
    "id": "a1bf04cda4d54605a63b43d1f4095bd4",
    "time": "2021-02-04T03:40:42.538Z",
    "type": "completion"
   },
   {
    "code": "# basic table manipulations\nplt.figure(figsize = (8, 8));\nplt.scatter(bechdel.column(\"year\"), bechdel.column(\"budget\"));\nplt.plot(bechdel.group(\"year\", max).column(\"year\"), bechdel.group(\"year\", max).column(\"budget max\"), color = \"red\");\n\n",
    "id": "a1bf04cda4d54605a63b43d1f4095bd4",
    "idx": 2,
    "time": "2021-02-04T03:41:06.214Z",
    "type": "execution"
   },
   {
    "id": "a1bf04cda4d54605a63b43d1f4095bd4",
    "time": "2021-02-04T03:41:06.799Z",
    "type": "completion"
   },
   {
    "code": "# basic table manipulations\nplt.figure(figsize = (8, 8));\nplt.scatter(bechdel.column(\"year\"), bechdel.column(\"budget\"));\nplt.plot(bechdel.group(\"year\", np.average).column(\"year\"), bechdel.group(\"year\", np.average).column(\"budget average\"), color = \"red\");\n\n",
    "id": "a1bf04cda4d54605a63b43d1f4095bd4",
    "idx": 2,
    "time": "2021-02-04T03:41:22.835Z",
    "type": "execution"
   },
   {
    "id": "a1bf04cda4d54605a63b43d1f4095bd4",
    "time": "2021-02-04T03:41:23.316Z",
    "type": "completion"
   },
   {
    "code": "# introduce the bechdel set\nbechdel = Table().read_table(\"bechdel.csv\")\nbechdel",
    "id": "d8e73406ec5a43f08381e683e6d9022d",
    "idx": 2,
    "time": "2021-02-04T03:47:58.764Z",
    "type": "execution"
   },
   {
    "id": "d8e73406ec5a43f08381e683e6d9022d",
    "time": "2021-02-04T03:47:58.919Z",
    "type": "completion"
   },
   {
    "code": "from datascience import *\nimport numpy as np\n\n# Notice the new library\nimport matplotlib.pyplot as plt # pyplot is the main module in matplotlib for plotting in Python\nplt.style.use('fivethirtyeight') # setting up styles\n%matplotlib inline # lets us embed plots to our notebook as static images",
    "id": "2454f2c2576e41e4a13f982820b11716",
    "idx": 0,
    "time": "2021-02-04T03:50:31.058Z",
    "type": "execution"
   },
   {
    "code": "# introduce the bechdel set\nbechdel = Table().read_table(\"bechdel.csv\")\nbechdel",
    "id": "d8e73406ec5a43f08381e683e6d9022d",
    "idx": 2,
    "time": "2021-02-04T03:50:32.225Z",
    "type": "execution"
   },
   {
    "code": "# introduce the bechdel set\nbechdel = Table().read_table(\"bechdel.csv\")\nbechdel",
    "id": "d8e73406ec5a43f08381e683e6d9022d",
    "idx": 2,
    "time": "2021-02-04T03:50:47.832Z",
    "type": "execution"
   },
   {
    "code": "# basic table manipulations\nplt.figure(figsize = (8, 8));\nplt.scatter(bechdel.column(\"year\"), bechdel.column(\"budget\"));\nplt.plot(bechdel.group(\"year\", np.average).column(\"year\"), bechdel.group(\"year\", np.average).column(\"budget average\"), color = \"red\");\n\n",
    "id": "a1bf04cda4d54605a63b43d1f4095bd4",
    "idx": 3,
    "time": "2021-02-04T03:50:48.314Z",
    "type": "execution"
   },
   {
    "code": "from datascience import *\nimport numpy as np\n\n# Notice the new library\nimport matplotlib.pyplot as plt # pyplot is the main module in matplotlib for plotting in Python\nplt.style.use('fivethirtyeight') # setting up styles\n%matplotlib inline # lets us embed plots to our notebook as static images",
    "id": "2454f2c2576e41e4a13f982820b11716",
    "idx": 0,
    "time": "2021-02-04T03:50:50.591Z",
    "type": "execution"
   },
   {
    "code": "# introduce the bechdel set\nbechdel = Table().read_table(\"bechdel.csv\")\nbechdel",
    "id": "f094e3f65d6145519025564882584301",
    "idx": 2,
    "time": "2021-02-04T03:51:56.583Z",
    "type": "execution"
   },
   {
    "id": "f094e3f65d6145519025564882584301",
    "time": "2021-02-04T03:51:56.738Z",
    "type": "completion"
   },
   {
    "code": "# basic table manipulations\nplt.figure(figsize = (8, 8));\nplt.scatter(bechdel.column(\"year\"), bechdel.column(\"budget\"));\nplt.plot(bechdel.group(\"year\", np.average).column(\"year\"), bechdel.group(\"year\", np.average).column(\"budget average\"), color = \"red\");\n\n",
    "id": "bc5cb77fd327496e9b148fefca3d079b",
    "idx": 3,
    "time": "2021-02-04T03:51:56.889Z",
    "type": "execution"
   },
   {
    "id": "bc5cb77fd327496e9b148fefca3d079b",
    "time": "2021-02-04T03:51:57.043Z",
    "type": "completion"
   },
   {
    "code": "from datascience import *\nimport numpy as np\n\n# Notice the new library\nimport matplotlib.pyplot as plt # pyplot is the main module in matplotlib for plotting in Python\nplt.style.use('fivethirtyeight') # setting up styles\n%matplotlib inline # lets us embed plots to our notebook as static images",
    "id": "0bf5eda8981f4eeb8ec73a49e9234b2c",
    "idx": 0,
    "time": "2021-02-04T03:51:58.908Z",
    "type": "execution"
   },
   {
    "code": "# introduce the bechdel set\nbechdel = Table().read_table(\"bechdel.csv\")\nbechdel",
    "id": "f094e3f65d6145519025564882584301",
    "idx": 2,
    "time": "2021-02-04T03:51:59.567Z",
    "type": "execution"
   },
   {
    "id": "0bf5eda8981f4eeb8ec73a49e9234b2c",
    "time": "2021-02-04T03:52:00.450Z",
    "type": "completion"
   },
   {
    "id": "f094e3f65d6145519025564882584301",
    "time": "2021-02-04T03:52:00.454Z",
    "type": "completion"
   },
   {
    "code": "# introduce the bechdel set\nbechdel = Table().read_table(\"bechdel.csv\")\nbechdel",
    "id": "f094e3f65d6145519025564882584301",
    "idx": 2,
    "time": "2021-02-04T03:52:02.016Z",
    "type": "execution"
   },
   {
    "id": "f094e3f65d6145519025564882584301",
    "time": "2021-02-04T03:52:02.178Z",
    "type": "completion"
   },
   {
    "code": "bechdel.num_rows",
    "id": "307e0317bef948a8890196a224ee6bf8",
    "idx": 3,
    "time": "2021-02-04T03:55:22.687Z",
    "type": "execution"
   },
   {
    "id": "307e0317bef948a8890196a224ee6bf8",
    "time": "2021-02-04T03:55:22.825Z",
    "type": "completion"
   },
   {
    "code": "bechdel.num_rows\nbechdel.describe",
    "id": "307e0317bef948a8890196a224ee6bf8",
    "idx": 3,
    "time": "2021-02-04T03:55:27.183Z",
    "type": "execution"
   },
   {
    "id": "307e0317bef948a8890196a224ee6bf8",
    "time": "2021-02-04T03:55:27.366Z",
    "type": "completion"
   },
   {
    "code": "bechdel.num_rows\nbechdel.describe()",
    "id": "307e0317bef948a8890196a224ee6bf8",
    "idx": 3,
    "time": "2021-02-04T03:55:29.368Z",
    "type": "execution"
   },
   {
    "id": "307e0317bef948a8890196a224ee6bf8",
    "time": "2021-02-04T03:55:29.477Z",
    "type": "completion"
   },
   {
    "code": "bechdel.num_rows\nbechdel.labels",
    "id": "307e0317bef948a8890196a224ee6bf8",
    "idx": 3,
    "time": "2021-02-04T03:55:34.175Z",
    "type": "execution"
   },
   {
    "id": "307e0317bef948a8890196a224ee6bf8",
    "time": "2021-02-04T03:55:34.276Z",
    "type": "completion"
   },
   {
    "code": "bechdel.num_rows\nbechdel.labels\nbechdel?",
    "id": "307e0317bef948a8890196a224ee6bf8",
    "idx": 3,
    "time": "2021-02-04T03:55:37.456Z",
    "type": "execution"
   },
   {
    "id": "307e0317bef948a8890196a224ee6bf8",
    "time": "2021-02-04T03:55:37.634Z",
    "type": "completion"
   },
   {
    "code": "bechdel.num_rows\nbechdel.labels\nbechdel.columns",
    "id": "307e0317bef948a8890196a224ee6bf8",
    "idx": 3,
    "time": "2021-02-04T03:56:12.151Z",
    "type": "execution"
   },
   {
    "id": "307e0317bef948a8890196a224ee6bf8",
    "time": "2021-02-04T03:56:12.246Z",
    "type": "completion"
   },
   {
    "code": "bechdel.num_rows\nbechdel.labels\nbechdel.num_columns",
    "id": "307e0317bef948a8890196a224ee6bf8",
    "idx": 3,
    "time": "2021-02-04T03:56:20.021Z",
    "type": "execution"
   },
   {
    "id": "307e0317bef948a8890196a224ee6bf8",
    "time": "2021-02-04T03:56:20.101Z",
    "type": "completion"
   },
   {
    "code": "# We can use attributes to learn more about the dataset\nbechdel.num_rows\nbechdel.labels\nbechdel.num_columns\nbechdel.relabel",
    "id": "307e0317bef948a8890196a224ee6bf8",
    "idx": 3,
    "time": "2021-02-04T03:58:19.432Z",
    "type": "execution"
   },
   {
    "id": "307e0317bef948a8890196a224ee6bf8",
    "time": "2021-02-04T03:58:19.554Z",
    "type": "completion"
   },
   {
    "code": "# We can use attributes to learn more about the dataset\nbechdel.num_rows\nbechdel.labels\nbechdel.num_columns",
    "id": "307e0317bef948a8890196a224ee6bf8",
    "idx": 3,
    "time": "2021-02-04T03:58:26.793Z",
    "type": "execution"
   },
   {
    "id": "307e0317bef948a8890196a224ee6bf8",
    "time": "2021-02-04T03:58:26.872Z",
    "type": "completion"
   },
   {
    "code": "# Qs we want to ask: correlation b/w budget of a movie and its domestic gross\n",
    "id": "6b2f84d30a6641948e325a78d465294b",
    "idx": 10,
    "time": "2021-02-04T03:59:14.504Z",
    "type": "execution"
   },
   {
    "id": "6b2f84d30a6641948e325a78d465294b",
    "time": "2021-02-04T03:59:14.577Z",
    "type": "completion"
   },
   {
    "code": "# Have movies gotten better at passing the bechdel test over time?\n",
    "id": "23e1350697304b899acf4c0a6a78bc55",
    "idx": 11,
    "time": "2021-02-04T03:59:30.392Z",
    "type": "execution"
   },
   {
    "id": "23e1350697304b899acf4c0a6a78bc55",
    "time": "2021-02-04T03:59:30.607Z",
    "type": "completion"
   },
   {
    "code": "np.random.multinomial(100, [0.5, 0.5], 100000)",
    "id": "a8b2c2f639184ddd9f829f9cf848ab5b",
    "idx": 13,
    "time": "2021-02-04T04:04:55.422Z",
    "type": "execution"
   },
   {
    "id": "a8b2c2f639184ddd9f829f9cf848ab5b",
    "time": "2021-02-04T04:04:55.616Z",
    "type": "completion"
   },
   {
    "code": "np.random.multinomial(100, [0.5, 0.5], 100000)[:,0]",
    "id": "a8b2c2f639184ddd9f829f9cf848ab5b",
    "idx": 13,
    "time": "2021-02-04T04:05:01.707Z",
    "type": "execution"
   },
   {
    "id": "a8b2c2f639184ddd9f829f9cf848ab5b",
    "time": "2021-02-04T04:05:01.829Z",
    "type": "completion"
   },
   {
    "code": "np.random.multinomial(100, [0.5, 0.5], 100000)",
    "id": "a8b2c2f639184ddd9f829f9cf848ab5b",
    "idx": 13,
    "time": "2021-02-04T04:05:06.442Z",
    "type": "execution"
   },
   {
    "id": "a8b2c2f639184ddd9f829f9cf848ab5b",
    "time": "2021-02-04T04:05:06.559Z",
    "type": "completion"
   },
   {
    "code": "np.random.multinomial(100, [0.5, 0.5], 100000)[:]",
    "id": "a8b2c2f639184ddd9f829f9cf848ab5b",
    "idx": 13,
    "time": "2021-02-04T04:05:08.708Z",
    "type": "execution"
   },
   {
    "id": "a8b2c2f639184ddd9f829f9cf848ab5b",
    "time": "2021-02-04T04:05:08.852Z",
    "type": "completion"
   },
   {
    "code": "np.random.multinomial(100, [0.5, 0.5], 100000)",
    "id": "a8b2c2f639184ddd9f829f9cf848ab5b",
    "idx": 13,
    "time": "2021-02-04T04:05:10.497Z",
    "type": "execution"
   },
   {
    "id": "a8b2c2f639184ddd9f829f9cf848ab5b",
    "time": "2021-02-04T04:05:10.592Z",
    "type": "completion"
   },
   {
    "code": "# We'll learn later that, if we perform an experiment many times,\n# the distribution of our observed results will converge on the \"true\" distribution\n\nnp.random.multinomial(100, [0.5, 0.5], 100000)",
    "id": "a8b2c2f639184ddd9f829f9cf848ab5b",
    "idx": 13,
    "time": "2021-02-04T04:06:18.259Z",
    "type": "execution"
   },
   {
    "id": "a8b2c2f639184ddd9f829f9cf848ab5b",
    "time": "2021-02-04T04:06:18.391Z",
    "type": "completion"
   },
   {
    "code": "# We'll learn later that, if we perform an experiment many times,\n# the distribution of our observed results will converge on the \"true\" distribution\n\nnp.random.multinomial(100, [0.5, 0.5], 100000)[:,0]",
    "id": "a8b2c2f639184ddd9f829f9cf848ab5b",
    "idx": 13,
    "time": "2021-02-04T04:06:30.559Z",
    "type": "execution"
   },
   {
    "id": "a8b2c2f639184ddd9f829f9cf848ab5b",
    "time": "2021-02-04T04:06:30.650Z",
    "type": "completion"
   },
   {
    "code": "# We'll learn later that, if we perform an experiment many times,\n# the distribution of our observed results will converge on the \"true\" distribution\n\nnp.random.multinomial(100, [0.5, 0.5], 100000)[:,0]",
    "id": "a8b2c2f639184ddd9f829f9cf848ab5b",
    "idx": 13,
    "time": "2021-02-04T04:06:36.071Z",
    "type": "execution"
   },
   {
    "id": "a8b2c2f639184ddd9f829f9cf848ab5b",
    "time": "2021-02-04T04:06:36.171Z",
    "type": "completion"
   },
   {
    "code": "# We'll learn later that, if we perform an experiment many times,\n# the distribution of our observed results will converge on the \"true\" distribution\n\nnp.random.multinomial(100, [0.5, 0.5], 100000)",
    "id": "a8b2c2f639184ddd9f829f9cf848ab5b",
    "idx": 13,
    "time": "2021-02-04T04:06:39.074Z",
    "type": "execution"
   },
   {
    "id": "a8b2c2f639184ddd9f829f9cf848ab5b",
    "time": "2021-02-04T04:06:39.197Z",
    "type": "completion"
   },
   {
    "code": "# We'll learn later that, if we perform an experiment many times,\n# the distribution of our observed results will converge on the \"true\" distribution\n\nnp.random.multinomial(100, [0.5, 0.5], 100000)\n\nnp.random.binomial?",
    "id": "a8b2c2f639184ddd9f829f9cf848ab5b",
    "idx": 13,
    "time": "2021-02-04T04:06:48.777Z",
    "type": "execution"
   },
   {
    "id": "a8b2c2f639184ddd9f829f9cf848ab5b",
    "time": "2021-02-04T04:06:48.907Z",
    "type": "completion"
   },
   {
    "code": "# We'll learn later that, if we perform an experiment many times,\n# the distribution of our observed results will converge on the \"true\" distribution\n\nnp.random.multinomial(100, [0.5, 0.5], 100000)\n\nnp.random.binomial(10, 0.5)",
    "id": "a8b2c2f639184ddd9f829f9cf848ab5b",
    "idx": 13,
    "time": "2021-02-04T04:07:01.200Z",
    "type": "execution"
   },
   {
    "id": "a8b2c2f639184ddd9f829f9cf848ab5b",
    "time": "2021-02-04T04:07:01.306Z",
    "type": "completion"
   },
   {
    "code": "# We'll learn later that, if we perform an experiment many times,\n# the distribution of our observed results will converge on the \"true\" distribution\n\nnp.random.multinomial(100, [0.5, 0.5], 100000)\n\nnp.random.binomial(10, 0.5)",
    "id": "a8b2c2f639184ddd9f829f9cf848ab5b",
    "idx": 13,
    "time": "2021-02-04T04:07:02.512Z",
    "type": "execution"
   },
   {
    "id": "a8b2c2f639184ddd9f829f9cf848ab5b",
    "time": "2021-02-04T04:07:02.610Z",
    "type": "completion"
   },
   {
    "code": "# We'll learn later that, if we perform an experiment many times,\n# the distribution of our observed results will converge on the \"true\" distribution\n\nnp.random.multinomial(100, [0.5, 0.5], 100000)\n\nnp.random.binomial(10, 0.5, 100)",
    "id": "a8b2c2f639184ddd9f829f9cf848ab5b",
    "idx": 13,
    "time": "2021-02-04T04:07:04.998Z",
    "type": "execution"
   },
   {
    "id": "a8b2c2f639184ddd9f829f9cf848ab5b",
    "time": "2021-02-04T04:07:05.113Z",
    "type": "completion"
   },
   {
    "code": "# We'll learn later that, if we perform an experiment many times,\n# the distribution of our observed results will converge on the \"true\" distribution\n\nnp.random.binomial(10, 0.5, 10000)\n\nnp.random.binomial(10, 0.5, 100)",
    "id": "a8b2c2f639184ddd9f829f9cf848ab5b",
    "idx": 13,
    "time": "2021-02-04T04:07:48.447Z",
    "type": "execution"
   },
   {
    "id": "a8b2c2f639184ddd9f829f9cf848ab5b",
    "time": "2021-02-04T04:07:48.590Z",
    "type": "completion"
   },
   {
    "code": "# We'll learn later that, if we perform an experiment many times,\n# the distribution of our observed results will converge on the \"true\" distribution\n\nnp.random.binomial(50, 0.5, 10000)\n\nnp.random.binomial(10, 0.5, 100)",
    "id": "a8b2c2f639184ddd9f829f9cf848ab5b",
    "idx": 13,
    "time": "2021-02-04T04:07:51.191Z",
    "type": "execution"
   },
   {
    "id": "a8b2c2f639184ddd9f829f9cf848ab5b",
    "time": "2021-02-04T04:07:51.280Z",
    "type": "completion"
   },
   {
    "code": "# We'll learn later that, if we perform an experiment many times,\n# the distribution of our observed results will converge on the \"true\" distribution\n\nnp.random.binomial(50, 0.5, 100000)\n\nnp.random.binomial(10, 0.5, 100)",
    "id": "a8b2c2f639184ddd9f829f9cf848ab5b",
    "idx": 13,
    "time": "2021-02-04T04:07:53.615Z",
    "type": "execution"
   },
   {
    "id": "a8b2c2f639184ddd9f829f9cf848ab5b",
    "time": "2021-02-04T04:07:53.724Z",
    "type": "completion"
   },
   {
    "code": "# We'll learn later that, if we perform an experiment many times,\n# the distribution of our observed results will converge on the \"true\" distribution\n\nlen(np.random.binomial(50, 0.5, 100000))\n\n",
    "id": "a8b2c2f639184ddd9f829f9cf848ab5b",
    "idx": 13,
    "time": "2021-02-04T04:08:03.812Z",
    "type": "execution"
   },
   {
    "id": "a8b2c2f639184ddd9f829f9cf848ab5b",
    "time": "2021-02-04T04:08:03.940Z",
    "type": "completion"
   },
   {
    "code": "# We'll learn later that, if we perform an experiment many times,\n# the distribution of our observed results will converge on the \"true\" distribution\n\nlen(np.random.binomial(50, 0.5, 10000))\n\n",
    "id": "a8b2c2f639184ddd9f829f9cf848ab5b",
    "idx": 13,
    "time": "2021-02-04T04:08:07.413Z",
    "type": "execution"
   },
   {
    "id": "a8b2c2f639184ddd9f829f9cf848ab5b",
    "time": "2021-02-04T04:08:07.515Z",
    "type": "completion"
   },
   {
    "code": "# We'll learn later that, if we perform an experiment many times,\n# the distribution of our observed results will converge on the \"true\" distribution\n\nnp.random.binomial(50, 0.5, 10000)\n\n",
    "id": "a8b2c2f639184ddd9f829f9cf848ab5b",
    "idx": 13,
    "time": "2021-02-04T04:08:11.959Z",
    "type": "execution"
   },
   {
    "id": "a8b2c2f639184ddd9f829f9cf848ab5b",
    "time": "2021-02-04T04:08:12.078Z",
    "type": "completion"
   },
   {
    "code": "# We'll learn later that, if we perform an experiment many times,\n# the distribution of our observed results will converge on the \"true\" distribution\n\nheads = np.random.binomial(50, 0.5, 10000)\n\n",
    "id": "a8b2c2f639184ddd9f829f9cf848ab5b",
    "idx": 13,
    "time": "2021-02-04T04:08:19.238Z",
    "type": "execution"
   },
   {
    "id": "a8b2c2f639184ddd9f829f9cf848ab5b",
    "time": "2021-02-04T04:08:19.309Z",
    "type": "completion"
   },
   {
    "code": "# We'll learn later that, if we perform an experiment many times,\n# the distribution of our observed results will converge on the \"true\" distribution\n\nheads = np.random.binomial(50, 0.5, 10000)\nplt.hist(heads)\n",
    "id": "a8b2c2f639184ddd9f829f9cf848ab5b",
    "idx": 13,
    "time": "2021-02-04T04:08:42.038Z",
    "type": "execution"
   },
   {
    "id": "a8b2c2f639184ddd9f829f9cf848ab5b",
    "time": "2021-02-04T04:08:42.147Z",
    "type": "completion"
   },
   {
    "code": "# We'll learn later that, if we perform an experiment many times,\n# the distribution of our observed results will converge on the \"true\" distribution\n\nheads = np.random.binomial(50, 0.5, 10000)\nplt.hist(heads);\n",
    "id": "a8b2c2f639184ddd9f829f9cf848ab5b",
    "idx": 13,
    "time": "2021-02-04T04:08:44.151Z",
    "type": "execution"
   },
   {
    "id": "a8b2c2f639184ddd9f829f9cf848ab5b",
    "time": "2021-02-04T04:08:44.225Z",
    "type": "completion"
   },
   {
    "code": "# We'll learn later that, if we perform an experiment many times,\n# the distribution of our observed results will converge on the \"true\" distribution\n\nheads = np.random.binomial(50, 0.5, 10000)\nplt.figure\nplt.hist(heads);\n",
    "id": "a8b2c2f639184ddd9f829f9cf848ab5b",
    "idx": 13,
    "time": "2021-02-04T04:08:51.222Z",
    "type": "execution"
   },
   {
    "id": "a8b2c2f639184ddd9f829f9cf848ab5b",
    "time": "2021-02-04T04:08:51.303Z",
    "type": "completion"
   },
   {
    "code": "from datascience import *\nimport numpy as np\n\n# Notice the new library\nimport matplotlib.pyplot as plt # pyplot is the main module in matplotlib for plotting in Python\nplt.style.use('fivethirtyeight') # setting up styles\n%matplotlib inline # lets us embed plots to our notebook as static images",
    "id": "0bf5eda8981f4eeb8ec73a49e9234b2c",
    "idx": 0,
    "time": "2021-02-04T04:08:54.345Z",
    "type": "execution"
   },
   {
    "id": "0bf5eda8981f4eeb8ec73a49e9234b2c",
    "time": "2021-02-04T04:08:54.434Z",
    "type": "completion"
   },
   {
    "code": "from datascience import *\nimport numpy as np\n\n# Notice the new library\nimport matplotlib.pyplot as plt # pyplot is the main module in matplotlib for plotting in Python\nplt.style.use('fivethirtyeight') # setting up styles\n%matplotlib inline \n# lets us embed plots to our notebook as static images",
    "id": "0bf5eda8981f4eeb8ec73a49e9234b2c",
    "idx": 0,
    "time": "2021-02-04T04:08:57.598Z",
    "type": "execution"
   },
   {
    "id": "0bf5eda8981f4eeb8ec73a49e9234b2c",
    "time": "2021-02-04T04:08:57.670Z",
    "type": "completion"
   },
   {
    "code": "from datascience import *\nimport numpy as np\n\n# Notice the new library\nimport matplotlib.pyplot as plt # pyplot is the main module in matplotlib for plotting in Python\nplt.style.use('fivethirtyeight') # setting up styles\n# lets us embed plots to our notebook as static images\n%matplotlib inline ",
    "id": "0bf5eda8981f4eeb8ec73a49e9234b2c",
    "idx": 0,
    "time": "2021-02-04T04:09:06.993Z",
    "type": "execution"
   },
   {
    "id": "0bf5eda8981f4eeb8ec73a49e9234b2c",
    "time": "2021-02-04T04:09:07.063Z",
    "type": "completion"
   },
   {
    "code": "from datascience import *\nimport numpy as np\n\n# Notice the new library\nimport matplotlib.pyplot as plt # pyplot is the main module in matplotlib for plotting in Python\nplt.style.use('fivethirtyeight') # setting up styles\n# inline lets us embed plots to our notebook as static images\n%matplotlib inline ",
    "id": "0bf5eda8981f4eeb8ec73a49e9234b2c",
    "idx": 0,
    "time": "2021-02-04T04:09:09.416Z",
    "type": "execution"
   },
   {
    "id": "0bf5eda8981f4eeb8ec73a49e9234b2c",
    "time": "2021-02-04T04:09:09.490Z",
    "type": "completion"
   },
   {
    "code": "# We'll learn later that, if we perform an experiment many times,\n# the distribution of our observed results will converge on the \"true\" distribution\n\nheads = np.random.binomial(50, 0.5, 10000)\nplt.figure\nplt.hist(heads);\n",
    "id": "a8b2c2f639184ddd9f829f9cf848ab5b",
    "idx": 13,
    "time": "2021-02-04T04:09:11.682Z",
    "type": "execution"
   },
   {
    "id": "a8b2c2f639184ddd9f829f9cf848ab5b",
    "time": "2021-02-04T04:09:11.976Z",
    "type": "completion"
   },
   {
    "code": "# We'll learn later that, if we perform an experiment many times,\n# the distribution of our observed results will converge on the \"true\" distribution\n\nheads = np.random.binomial(50, 0.5, 100000)\nplt.hist(heads);\n",
    "id": "a8b2c2f639184ddd9f829f9cf848ab5b",
    "idx": 13,
    "time": "2021-02-04T04:09:19.932Z",
    "type": "execution"
   },
   {
    "id": "a8b2c2f639184ddd9f829f9cf848ab5b",
    "time": "2021-02-04T04:09:20.280Z",
    "type": "completion"
   },
   {
    "code": "# We'll learn later that, if we perform an experiment many times,\n# the distribution of our observed results will converge on the \"true\" distribution\n\nheads = np.random.binomial(50, 0.5, 100000)\nplt.hist(heads, density = True);\n",
    "id": "a8b2c2f639184ddd9f829f9cf848ab5b",
    "idx": 13,
    "time": "2021-02-04T04:09:31.260Z",
    "type": "execution"
   },
   {
    "id": "a8b2c2f639184ddd9f829f9cf848ab5b",
    "time": "2021-02-04T04:09:31.543Z",
    "type": "completion"
   },
   {
    "code": "# We'll learn later that, if we perform an experiment many times,\n# the distribution of our observed results will converge on the \"true\" distribution\n\nheads = np.random.binomial(50, 0.5, 100000)\nplt.hist(heads, bins = np.arange(10, 50, 2), density = True);\n",
    "id": "a8b2c2f639184ddd9f829f9cf848ab5b",
    "idx": 13,
    "time": "2021-02-04T04:09:47.136Z",
    "type": "execution"
   },
   {
    "id": "a8b2c2f639184ddd9f829f9cf848ab5b",
    "time": "2021-02-04T04:09:47.422Z",
    "type": "completion"
   },
   {
    "code": "# We'll learn later that, if we perform an experiment many times,\n# the distribution of our observed results will converge on the \"true\" distribution\n\nheads = np.random.binomial(50, 0.5, 100000)\nplt.hist(heads, bins = np.arange(10, 50, 1), density = True);\n",
    "id": "a8b2c2f639184ddd9f829f9cf848ab5b",
    "idx": 13,
    "time": "2021-02-04T04:09:55.879Z",
    "type": "execution"
   },
   {
    "id": "a8b2c2f639184ddd9f829f9cf848ab5b",
    "time": "2021-02-04T04:09:56.229Z",
    "type": "completion"
   },
   {
    "code": "# We'll learn later that, if we perform an experiment many times,\n# the distribution of our observed results will converge on the \"true\" distribution\n\nheads = np.random.binomial(50, 0.5, 100000)\nplt.hist(heads, bins = np.arange(10, 40, 1), density = True);\n",
    "id": "a8b2c2f639184ddd9f829f9cf848ab5b",
    "idx": 13,
    "time": "2021-02-04T04:10:00.201Z",
    "type": "execution"
   },
   {
    "id": "a8b2c2f639184ddd9f829f9cf848ab5b",
    "time": "2021-02-04T04:10:00.498Z",
    "type": "completion"
   },
   {
    "code": "# We'll learn later that, if we perform an experiment many times,\n# the distribution of our observed results will converge on the \"true\" distribution\n\nheads = np.random.binomial(50, 0.5, 100000)\nplt.hist(heads, bins = np.arange(10, 45, 1), density = True);\n",
    "id": "a8b2c2f639184ddd9f829f9cf848ab5b",
    "idx": 13,
    "time": "2021-02-04T04:10:04.870Z",
    "type": "execution"
   },
   {
    "id": "a8b2c2f639184ddd9f829f9cf848ab5b",
    "time": "2021-02-04T04:10:05.281Z",
    "type": "completion"
   },
   {
    "code": "# We'll learn later that, if we perform an experiment many times,\n# the distribution of our observed results will converge on the \"true\" distribution\n\nheads = np.random.binomial(50, 0.5, 100000)\nplt.hist(heads, bins = np.arange(10, 45, 1), density = True, ec = \"white\");\n",
    "id": "a8b2c2f639184ddd9f829f9cf848ab5b",
    "idx": 13,
    "time": "2021-02-04T04:10:13.654Z",
    "type": "execution"
   },
   {
    "id": "a8b2c2f639184ddd9f829f9cf848ab5b",
    "time": "2021-02-04T04:10:13.990Z",
    "type": "completion"
   },
   {
    "code": "# We'll learn later that, if we perform an experiment many times,\n# the distribution of our observed results will converge on the \"true\" distribution\n\nheads = np.random.binomial(50, 0.5, 100000)\nplt.hist(heads, bins = np.arange(10, 45, 1), density = True, ec = \"red\");\n",
    "id": "a8b2c2f639184ddd9f829f9cf848ab5b",
    "idx": 13,
    "time": "2021-02-04T04:10:16.439Z",
    "type": "execution"
   },
   {
    "id": "a8b2c2f639184ddd9f829f9cf848ab5b",
    "time": "2021-02-04T04:10:16.761Z",
    "type": "completion"
   },
   {
    "code": "# We'll learn later that, if we perform an experiment many times,\n# the distribution of our observed results will converge on the \"true\" distribution\n\nheads = np.random.binomial(50, 0.5, 100000)\nplt.hist(heads, bins = np.arange(10, 45, 1), density = True);\n",
    "id": "a8b2c2f639184ddd9f829f9cf848ab5b",
    "idx": 13,
    "time": "2021-02-04T04:10:26.633Z",
    "type": "execution"
   },
   {
    "id": "a8b2c2f639184ddd9f829f9cf848ab5b",
    "time": "2021-02-04T04:10:26.965Z",
    "type": "completion"
   },
   {
    "code": "test_data =  Table().with_column(\"Ages\", [3, 4, 8, 9, 14, 18, 20, 23, 24, 35])",
    "id": "44fa42e338bb49c5a0417422745b3093",
    "idx": 13,
    "time": "2021-02-04T04:12:38.417Z",
    "type": "execution"
   },
   {
    "id": "44fa42e338bb49c5a0417422745b3093",
    "time": "2021-02-04T04:12:38.536Z",
    "type": "completion"
   },
   {
    "code": "age_data =  Table().with_column(\"Ages\", [3, 4, 8, 9, 14, 18, 20, 23, 24, 35])\nage_data",
    "id": "44fa42e338bb49c5a0417422745b3093",
    "idx": 13,
    "time": "2021-02-04T04:12:47.712Z",
    "type": "execution"
   },
   {
    "id": "44fa42e338bb49c5a0417422745b3093",
    "time": "2021-02-04T04:12:47.845Z",
    "type": "completion"
   },
   {
    "code": "age_data =  Table().with_column(\"Ages\", [3, 4, 8, 9, 14, 18, 20, 23, 24, 35])\nage_data.hist(\"Ages\")",
    "id": "44fa42e338bb49c5a0417422745b3093",
    "idx": 13,
    "time": "2021-02-04T04:12:51.438Z",
    "type": "execution"
   },
   {
    "id": "44fa42e338bb49c5a0417422745b3093",
    "time": "2021-02-04T04:12:51.696Z",
    "type": "completion"
   },
   {
    "code": "age_data =  Table().with_column(\"Ages\", [3, 4, 8, 9, 14, 18, 20, 23, 24, 35])\nage_data.hist(\"Ages\", bins = np.arange(0, 50, 10))",
    "id": "44fa42e338bb49c5a0417422745b3093",
    "idx": 13,
    "time": "2021-02-04T04:13:01.878Z",
    "type": "execution"
   },
   {
    "id": "44fa42e338bb49c5a0417422745b3093",
    "time": "2021-02-04T04:13:02.367Z",
    "type": "completion"
   },
   {
    "code": "# We'll learn later that, if we perform an experiment many times,\n# the distribution of our observed results will converge on the \"true\" distribution\n\nheads = np.random.binomial(50, 0.5, 100000)\nplt.hist(heads, bins = np.arange(10, 45, 1), density = True);\n",
    "id": "a8b2c2f639184ddd9f829f9cf848ab5b",
    "idx": 14,
    "time": "2021-02-04T04:13:14.730Z",
    "type": "execution"
   },
   {
    "id": "a8b2c2f639184ddd9f829f9cf848ab5b",
    "time": "2021-02-04T04:13:15.068Z",
    "type": "completion"
   },
   {
    "code": "# We'll learn later that, if we perform an experiment many times,\n# the distribution of our observed results will converge on the \"true\" distribution\n\nheads = np.random.binomial(50, 0.5, 100000)\nplt.hist(heads, bins = np.arange(10, 45, 1), density = True);\n\n# drawing out the curve\nx = np.linspace(0, 50, 200)\nf_x = (1 / (np.sqrt(2 * np.pi) * 4.4)) * np.e ** (-0.5 * ((x - 25) / 4.4) ** 2)\n",
    "id": "a8b2c2f639184ddd9f829f9cf848ab5b",
    "idx": 14,
    "time": "2021-02-04T04:14:34.071Z",
    "type": "execution"
   },
   {
    "id": "a8b2c2f639184ddd9f829f9cf848ab5b",
    "time": "2021-02-04T04:14:34.472Z",
    "type": "completion"
   },
   {
    "code": "# We'll learn later that, if we perform an experiment many times,\n# the distribution of our observed results will converge on the \"true\" distribution\n\nheads = np.random.binomial(50, 0.5, 100000)\nplt.hist(heads, bins = np.arange(10, 45, 1), density = True);\n\n# drawing out the curve\nx = np.linspace(0, 50, 200)\nf_x = (1 / (np.sqrt(2 * np.pi) * 4.4)) * np.e ** (-0.5 * ((x - 25) / 4.4) ** 2)\nplt.plot(x, f_x, linewidth = 2)\n",
    "id": "a8b2c2f639184ddd9f829f9cf848ab5b",
    "idx": 14,
    "time": "2021-02-04T04:14:43.816Z",
    "type": "execution"
   },
   {
    "id": "a8b2c2f639184ddd9f829f9cf848ab5b",
    "time": "2021-02-04T04:14:44.176Z",
    "type": "completion"
   },
   {
    "code": "# We'll learn later that, if we perform an experiment many times,\n# the distribution of our observed results will converge on the \"true\" distribution\n\nheads = np.random.binomial(50, 0.5, 100000)\nplt.hist(heads, bins = np.arange(10, 45, 1), density = True);\n\n# drawing out the curve\nmean\nstd = \nx = np.linspace(0, 50, 200)\nf_x = (1 / (np.sqrt(2 * np.pi) * std)) * np.e ** (-0.5 * ((x - 25) / std) ** 2)\nplt.plot(x, f_x, linewidth = 2)\n",
    "id": "a8b2c2f639184ddd9f829f9cf848ab5b",
    "idx": 14,
    "time": "2021-02-04T04:15:08.776Z",
    "type": "execution"
   },
   {
    "id": "a8b2c2f639184ddd9f829f9cf848ab5b",
    "time": "2021-02-04T04:15:08.909Z",
    "type": "completion"
   },
   {
    "code": "# We'll learn later that, if we perform an experiment many times,\n# the distribution of our observed results will converge on the \"true\" distribution\n\nheads = np.random.binomial(50, 0.5, 100000)\nplt.hist(heads, bins = np.arange(10, 45, 1), density = True);\n\n# drawing out the curve\nmean = 25\nstd = np.sqrt(50 * 0.5 * 0.5)\nx = np.linspace(0, 50, 200)\nf_x = (1 / (np.sqrt(2 * np.pi) * std)) * np.e ** (-0.5 * ((x - mean) / std) ** 2)\nplt.plot(x, f_x, linewidth = 2)\n",
    "id": "a8b2c2f639184ddd9f829f9cf848ab5b",
    "idx": 14,
    "time": "2021-02-04T04:16:58.897Z",
    "type": "execution"
   },
   {
    "id": "a8b2c2f639184ddd9f829f9cf848ab5b",
    "time": "2021-02-04T04:16:59.279Z",
    "type": "completion"
   },
   {
    "code": "# We'll learn later that, if we perform an experiment many times,\n# the distribution of our observed results will converge on the \"true\" distribution\n\nheads = np.random.binomial(50, 0.5, 100000)\nplt.hist(heads, bins = np.arange(10, 45, 1), density = True);\n\n# drawing out the curve\nmean = 25\nstd = np.sqrt(50 * 0.5 * 0.5)\nx = np.linspace(0, 50, 200)\nf_x = (1 / (np.sqrt(2 * np.pi) * std)) * np.e ** (-0.5 * ((x - mean) / std) ** 2)\nplt.plot(x, f_x, linewidth = 2)\n",
    "id": "a8b2c2f639184ddd9f829f9cf848ab5b",
    "idx": 14,
    "time": "2021-02-04T04:17:03.215Z",
    "type": "execution"
   },
   {
    "id": "a8b2c2f639184ddd9f829f9cf848ab5b",
    "time": "2021-02-04T04:17:03.564Z",
    "type": "completion"
   },
   {
    "code": "# We'll learn later that, if we perform an experiment many times,\n# the distribution of our observed results will converge on the \"true\" distribution\n\nheads = np.random.binomial(50, 0.5, 1000000)\nplt.hist(heads, bins = np.arange(10, 45, 1), density = True);\n\n# drawing out the curve\nmean = 25\nstd = np.sqrt(50 * 0.5 * 0.5)\nx = np.linspace(0, 50, 200)\nf_x = (1 / (np.sqrt(2 * np.pi) * std)) * np.e ** (-0.5 * ((x - mean) / std) ** 2)\nplt.plot(x, f_x, linewidth = 2)\n",
    "id": "a8b2c2f639184ddd9f829f9cf848ab5b",
    "idx": 14,
    "time": "2021-02-04T04:17:34.305Z",
    "type": "execution"
   },
   {
    "id": "a8b2c2f639184ddd9f829f9cf848ab5b",
    "time": "2021-02-04T04:17:34.899Z",
    "type": "completion"
   },
   {
    "code": "# We'll learn later that, if we perform an experiment many times,\n# the distribution of our observed results will converge on the \"true\" distribution\n\nheads = np.random.binomial(50, 0.5, 1000000)\nplt.hist(heads, bins = np.arange(min(heads) - 0.5, max(heads) + 0.5, density = True);\n\n# drawing out the curve\nmean = 25\nstd = np.sqrt(50 * 0.5 * 0.5)\nx = np.linspace(0, 50, 200)\nf_x = (1 / (np.sqrt(2 * np.pi) * std)) * np.e ** (-0.5 * ((x - mean) / std) ** 2)\nplt.plot(x, f_x, linewidth = 2)\n",
    "id": "a8b2c2f639184ddd9f829f9cf848ab5b",
    "idx": 14,
    "time": "2021-02-04T04:18:09.092Z",
    "type": "execution"
   },
   {
    "id": "a8b2c2f639184ddd9f829f9cf848ab5b",
    "time": "2021-02-04T04:18:09.213Z",
    "type": "completion"
   },
   {
    "code": "# We'll learn later that, if we perform an experiment many times,\n# the distribution of our observed results will converge on the \"true\" distribution\n\nheads = np.random.binomial(50, 0.5, 1000000)\nplt.hist(heads, bins = np.arange(min(heads) - 0.5, max(heads) + 0.5), density = True);\n\n# drawing out the curve\nmean = 25\nstd = np.sqrt(50 * 0.5 * 0.5)\nx = np.linspace(0, 50, 200)\nf_x = (1 / (np.sqrt(2 * np.pi) * std)) * np.e ** (-0.5 * ((x - mean) / std) ** 2)\nplt.plot(x, f_x, linewidth = 2)\n",
    "id": "a8b2c2f639184ddd9f829f9cf848ab5b",
    "idx": 14,
    "time": "2021-02-04T04:18:15.400Z",
    "type": "execution"
   },
   {
    "id": "a8b2c2f639184ddd9f829f9cf848ab5b",
    "time": "2021-02-04T04:18:16.288Z",
    "type": "completion"
   },
   {
    "code": "# We'll learn later that, if we perform an experiment many times,\n# the distribution of our observed results will converge on the \"true\" distribution\n\nheads = np.random.binomial(50, 0.5, 1000000)\nplt.figure(figsize = (5, 5));\nplt.hist(heads, bins = np.arange(min(heads) - 0.5, max(heads) + 0.5), density = True);\n\n# drawing out the curve\nmean = 25\nstd = np.sqrt(50 * 0.5 * 0.5)\nx = np.linspace(0, 50, 200)\nf_x = (1 / (np.sqrt(2 * np.pi) * std)) * np.e ** (-0.5 * ((x - mean) / std) ** 2)\nplt.plot(x, f_x, linewidth = 2)\n",
    "id": "a8b2c2f639184ddd9f829f9cf848ab5b",
    "idx": 14,
    "time": "2021-02-04T04:18:54.344Z",
    "type": "execution"
   },
   {
    "id": "a8b2c2f639184ddd9f829f9cf848ab5b",
    "time": "2021-02-04T04:18:55.144Z",
    "type": "completion"
   },
   {
    "code": "# We'll learn later that, if we perform an experiment many times,\n# the distribution of our observed results will converge on the \"true\" distribution\n\nheads = np.random.binomial(50, 0.5, 1000000)\nplt.figure(figsize = (10, 10));\nplt.hist(heads, bins = np.arange(min(heads) - 0.5, max(heads) + 0.5), density = True);\n\n# drawing out the curve\nmean = 25\nstd = np.sqrt(50 * 0.5 * 0.5)\nx = np.linspace(0, 50, 200)\nf_x = (1 / (np.sqrt(2 * np.pi) * std)) * np.e ** (-0.5 * ((x - mean) / std) ** 2)\nplt.plot(x, f_x, linewidth = 2)\n",
    "id": "a8b2c2f639184ddd9f829f9cf848ab5b",
    "idx": 14,
    "time": "2021-02-04T04:18:59.218Z",
    "type": "execution"
   },
   {
    "id": "a8b2c2f639184ddd9f829f9cf848ab5b",
    "time": "2021-02-04T04:19:00.089Z",
    "type": "completion"
   },
   {
    "code": "# We'll learn later that, if we perform an experiment many times,\n# the distribution of our observed results will converge on the \"true\" distribution\n\nheads = np.random.binomial(50, 0.5, 1000000)\nplt.figure(figsize = (10, 5));\nplt.hist(heads, bins = np.arange(min(heads) - 0.5, max(heads) + 0.5), density = True);\n\n# drawing out the curve\nmean = 25\nstd = np.sqrt(50 * 0.5 * 0.5)\nx = np.linspace(0, 50, 200)\nf_x = (1 / (np.sqrt(2 * np.pi) * std)) * np.e ** (-0.5 * ((x - mean) / std) ** 2)\nplt.plot(x, f_x, linewidth = 2)\n",
    "id": "a8b2c2f639184ddd9f829f9cf848ab5b",
    "idx": 14,
    "time": "2021-02-04T04:19:05.087Z",
    "type": "execution"
   },
   {
    "id": "a8b2c2f639184ddd9f829f9cf848ab5b",
    "time": "2021-02-04T04:19:05.932Z",
    "type": "completion"
   },
   {
    "code": "# We'll learn later that, if we perform an experiment many times,\n# the distribution of our observed results will converge on the \"true\" distribution\n\nheads = np.random.binomial(50, 0.5, 1000000);\nplt.figure(figsize = (10, 5));\nplt.hist(heads, bins = np.arange(min(heads) - 0.5, max(heads) + 0.5), density = True);\n\n# drawing out the curve\nmean = 25\nstd = np.sqrt(50 * 0.5 * 0.5)\nx = np.linspace(0, 50, 200)\nf_x = (1 / (np.sqrt(2 * np.pi) * std)) * np.e ** (-0.5 * ((x - mean) / std) ** 2)\nplt.plot(x, f_x, linewidth = 2)\n",
    "id": "a8b2c2f639184ddd9f829f9cf848ab5b",
    "idx": 14,
    "time": "2021-02-04T04:19:24.203Z",
    "type": "execution"
   },
   {
    "id": "a8b2c2f639184ddd9f829f9cf848ab5b",
    "time": "2021-02-04T04:19:25.024Z",
    "type": "completion"
   },
   {
    "code": "# We'll learn later that, if we perform an experiment many times,\n# the distribution of our observed results will converge on the \"true\" distribution\n\nheads = np.random.binomial(50, 0.5, 1000000);\nplt.figure(figsize = (10, 5));\nplt.hist(heads, bins = np.arange(min(heads) - 0.5, max(heads) + 0.5), density = True);\n\n# drawing out the curve\nmean = 25\nstd = np.sqrt(50 * 0.5 * 0.5)\nx = np.linspace(0, 50, 200)\nf_x = (1 / (np.sqrt(2 * np.pi) * std)) * np.e ** (-0.5 * ((x - mean) / std) ** 2)\nplt.plot(x, f_x, linewidth = 2);\n",
    "id": "a8b2c2f639184ddd9f829f9cf848ab5b",
    "idx": 14,
    "time": "2021-02-04T04:19:29.436Z",
    "type": "execution"
   },
   {
    "id": "a8b2c2f639184ddd9f829f9cf848ab5b",
    "time": "2021-02-04T04:19:30.238Z",
    "type": "completion"
   },
   {
    "code": "# How we'll \nage_data =  Table().with_column(\"Ages\", [3, 4, 8, 9, 14, 18, 20, 23, 24, 35])\nage_data",
    "id": "44fa42e338bb49c5a0417422745b3093",
    "idx": 13,
    "time": "2021-02-04T04:20:45.632Z",
    "type": "execution"
   },
   {
    "id": "44fa42e338bb49c5a0417422745b3093",
    "time": "2021-02-04T04:20:45.778Z",
    "type": "completion"
   },
   {
    "code": "# How we'll make histograms in homework \nage_data.hist(\"Ages\", bins = np.arange(0, 50, 10))",
    "id": "c5639a64ef4645fc88c6bb5bef51f1aa",
    "idx": 14,
    "time": "2021-02-04T04:20:50.253Z",
    "type": "execution"
   },
   {
    "id": "c5639a64ef4645fc88c6bb5bef51f1aa",
    "time": "2021-02-04T04:20:50.519Z",
    "type": "completion"
   },
   {
    "code": "# How we'll make histograms in homework \nage_data.hist(\"Ages\", bins = np.arange(0, 50, 10), density = False)",
    "id": "c5639a64ef4645fc88c6bb5bef51f1aa",
    "idx": 14,
    "time": "2021-02-04T04:20:55.129Z",
    "type": "execution"
   },
   {
    "id": "c5639a64ef4645fc88c6bb5bef51f1aa",
    "time": "2021-02-04T04:20:55.406Z",
    "type": "completion"
   },
   {
    "code": "# How we'll make histograms in homework \nage_data.hist(\"Ages\", bins = np.arange(0, 50, 10), density = True)",
    "id": "c5639a64ef4645fc88c6bb5bef51f1aa",
    "idx": 14,
    "time": "2021-02-04T04:21:03.062Z",
    "type": "execution"
   },
   {
    "id": "c5639a64ef4645fc88c6bb5bef51f1aa",
    "time": "2021-02-04T04:21:03.335Z",
    "type": "completion"
   },
   {
    "code": "# How we'll make histograms in homework \nage_data.hist(\"Ages\", bins = np.arange(0, 50, 10), density = False)",
    "id": "c5639a64ef4645fc88c6bb5bef51f1aa",
    "idx": 14,
    "time": "2021-02-04T04:21:07.234Z",
    "type": "execution"
   },
   {
    "id": "c5639a64ef4645fc88c6bb5bef51f1aa",
    "time": "2021-02-04T04:21:07.711Z",
    "type": "completion"
   },
   {
    "code": "# How we'll make histograms in homework \nage_data.hist(\"Ages\", bins = np.arange(0, 50, 10), density = True)",
    "id": "c5639a64ef4645fc88c6bb5bef51f1aa",
    "idx": 14,
    "time": "2021-02-04T04:21:09.816Z",
    "type": "execution"
   },
   {
    "id": "c5639a64ef4645fc88c6bb5bef51f1aa",
    "time": "2021-02-04T04:21:10.147Z",
    "type": "completion"
   },
   {
    "code": "# How we'll make histograms in homework \nage_data.hist(\"Ages\", bins = np.arange(0, 50, 10))",
    "id": "c5639a64ef4645fc88c6bb5bef51f1aa",
    "idx": 14,
    "time": "2021-02-04T04:21:13.583Z",
    "type": "execution"
   },
   {
    "id": "c5639a64ef4645fc88c6bb5bef51f1aa",
    "time": "2021-02-04T04:21:13.866Z",
    "type": "completion"
   },
   {
    "code": "# We'll learn later that, if we perform an experiment many times,\n# the distribution of our observed results will converge on the \"true\" distribution\n\nheads = np.random.binomial(50, 0.5, 1000000);\nplt.figure(figsize = (10, 5));\nplt.hist(heads, bins = np.arange(min(heads) - 0.5, max(heads) + 0.5), density = True);\n\n# drawing out the curve\nmean = 25\nstd = np.sqrt(50 * 0.5 * 0.5)\nx = np.linspace(0, 50, 200)\nf_x = (1 / (np.sqrt(2 * np.pi) * std)) * np.e ** (-0.5 * ((x - mean) / std) ** 2)\nplt.plot(x, f_x, linewidth = 2);\n",
    "id": "a8b2c2f639184ddd9f829f9cf848ab5b",
    "idx": 15,
    "time": "2021-02-04T04:21:17.941Z",
    "type": "execution"
   },
   {
    "id": "a8b2c2f639184ddd9f829f9cf848ab5b",
    "time": "2021-02-04T04:21:18.730Z",
    "type": "completion"
   },
   {
    "code": "# We'll learn later that, if we perform an experiment many times,\n# the distribution of our observed results will converge on the \"true\" distribution\n\nheads = np.random.binomial(50, 0.5, 1000000);\nplt.figure(figsize = (10, 5));\nplt.hist(heads, bins = np.arange(min(heads) - 0.5, max(heads) + 0.5, 0.5), density = True);\n\n# drawing out the curve\nmean = 25\nstd = np.sqrt(50 * 0.5 * 0.5)\nx = np.linspace(0, 50, 200)\nf_x = (1 / (np.sqrt(2 * np.pi) * std)) * np.e ** (-0.5 * ((x - mean) / std) ** 2)\nplt.plot(x, f_x, linewidth = 2);\n",
    "id": "a8b2c2f639184ddd9f829f9cf848ab5b",
    "idx": 15,
    "time": "2021-02-04T04:21:30.662Z",
    "type": "execution"
   },
   {
    "id": "a8b2c2f639184ddd9f829f9cf848ab5b",
    "time": "2021-02-04T04:21:31.561Z",
    "type": "completion"
   },
   {
    "code": "# We'll learn later that, if we perform an experiment many times,\n# the distribution of our observed results will converge on the \"true\" distribution\n\nheads = np.random.binomial(50, 0.5, 1000000);\nplt.figure(figsize = (10, 5));\nplt.hist(heads, bins = np.arange(min(heads) - 0.5, max(heads) + 0.5, 2), density = True);\n\n# drawing out the curve\nmean = 25\nstd = np.sqrt(50 * 0.5 * 0.5)\nx = np.linspace(0, 50, 200)\nf_x = (1 / (np.sqrt(2 * np.pi) * std)) * np.e ** (-0.5 * ((x - mean) / std) ** 2)\nplt.plot(x, f_x, linewidth = 2);\n",
    "id": "a8b2c2f639184ddd9f829f9cf848ab5b",
    "idx": 15,
    "time": "2021-02-04T04:21:34.787Z",
    "type": "execution"
   },
   {
    "id": "a8b2c2f639184ddd9f829f9cf848ab5b",
    "time": "2021-02-04T04:21:35.632Z",
    "type": "completion"
   },
   {
    "code": "# We'll learn later that, if we perform an experiment many times,\n# the distribution of our observed results will converge on the \"true\" distribution\n\nheads = np.random.binomial(50, 0.5, 1000000);\nplt.figure(figsize = (10, 5));\nplt.hist(heads, bins = np.arange(min(heads) - 0.5, max(heads) + 0.5, 1), density = True);\n\n# drawing out the curve\nmean = 25\nstd = np.sqrt(50 * 0.5 * 0.5)\nx = np.linspace(0, 50, 200)\nf_x = (1 / (np.sqrt(2 * np.pi) * std)) * np.e ** (-0.5 * ((x - mean) / std) ** 2)\nplt.plot(x, f_x, linewidth = 2);\n",
    "id": "a8b2c2f639184ddd9f829f9cf848ab5b",
    "idx": 15,
    "time": "2021-02-04T04:21:37.366Z",
    "type": "execution"
   },
   {
    "id": "a8b2c2f639184ddd9f829f9cf848ab5b",
    "time": "2021-02-04T04:21:38.255Z",
    "type": "completion"
   },
   {
    "code": "## As a quick note: \n\nimport pandas as pd\npd.read_csv(\"bechdel.csv|\")",
    "id": "6dc4e58864664688835dbfb13be01941",
    "idx": 4,
    "time": "2021-02-04T04:27:57.955Z",
    "type": "execution"
   },
   {
    "id": "6dc4e58864664688835dbfb13be01941",
    "time": "2021-02-04T04:27:58.143Z",
    "type": "completion"
   },
   {
    "code": "## As a quick note: \n\nimport pandas as pd\npd.read_csv(\"bechdel.csv\")",
    "id": "6dc4e58864664688835dbfb13be01941",
    "idx": 4,
    "time": "2021-02-04T04:28:01.219Z",
    "type": "execution"
   },
   {
    "id": "6dc4e58864664688835dbfb13be01941",
    "time": "2021-02-04T04:28:01.409Z",
    "type": "completion"
   },
   {
    "code": "# Let's practice importing the bechdel dataset: bechdel.csv\nbechdel = Table().read_table(\"bechdel.csv\")\nbechdel",
    "id": "25eaa2ee27c2445e854e8dd0f38e2bc9",
    "idx": 2,
    "time": "2021-02-04T19:44:50.619Z",
    "type": "execution"
   },
   {
    "id": "25eaa2ee27c2445e854e8dd0f38e2bc9",
    "time": "2021-02-04T19:44:50.763Z",
    "type": "completion"
   },
   {
    "code": "from datascience import *\nimport numpy as np\n\n# Notice the new library\nimport matplotlib.pyplot as plt # pyplot is the main module in matplotlib for plotting in Python\nplt.style.use('fivethirtyeight') # setting up styles\n# inline lets us embed plots to our notebook as static images\n%matplotlib inline ",
    "id": "1b4e455a4b474f2780eb9556c07cde78",
    "idx": 0,
    "time": "2021-02-04T19:44:53.651Z",
    "type": "execution"
   },
   {
    "code": "# Let's practice importing the bechdel dataset: bechdel.csv\nbechdel = Table().read_table(\"bechdel.csv\")\nbechdel",
    "id": "25eaa2ee27c2445e854e8dd0f38e2bc9",
    "idx": 2,
    "time": "2021-02-04T19:44:54.597Z",
    "type": "execution"
   },
   {
    "id": "1b4e455a4b474f2780eb9556c07cde78",
    "time": "2021-02-04T19:44:55.097Z",
    "type": "completion"
   },
   {
    "id": "25eaa2ee27c2445e854e8dd0f38e2bc9",
    "time": "2021-02-04T19:44:55.188Z",
    "type": "completion"
   },
   {
    "code": "# We can use attributes to learn more about the dataset\nbechdel.num_rows\nbechdel.labels\nbechdel.num_columns",
    "id": "6bd3aee0fb4c4fff81bdae2e1055ee2f",
    "idx": 3,
    "time": "2021-02-04T19:44:57.410Z",
    "type": "execution"
   },
   {
    "id": "6bd3aee0fb4c4fff81bdae2e1055ee2f",
    "time": "2021-02-04T19:44:57.522Z",
    "type": "completion"
   },
   {
    "code": "## As a quick note: tabular data is how most data scientists work with their datasets.\n# datascience is our main tool in this class. datascience is largely an educational tool,\n# and a simplified version of the more industry-standard pandas library\n\nimport pandas as pd\npd.read_csv(\"bechdel.csv\")\n\n# pandas has a lot of interesting syntax and requires decent knowledge of Python\n# we'll have some workshops and demos on this later in the semester,\n# but notice the similarities! ",
    "id": "ee9f4e6c60024220b7d79be6ad91078c",
    "idx": 4,
    "time": "2021-02-04T19:45:03.673Z",
    "type": "execution"
   },
   {
    "id": "ee9f4e6c60024220b7d79be6ad91078c",
    "time": "2021-02-04T19:45:03.820Z",
    "type": "completion"
   },
   {
    "code": "## As a quick note: tabular data is how most data scientists work with their datasets.\n# datascience is our main tool in this class. datascience is largely an educational tool,\n# and a simplified version of the more industry-standard pandas library\n\nimport pandas as pd\nbechdel_df = pd.read_csv(\"bechdel.csv\")\nbechdel_df.head()\n\n# pandas has a lot of interesting syntax and requires decent knowledge of Python\n# we'll have some workshops and demos on this later in the semester,\n# but notice the similarities! ",
    "id": "ee9f4e6c60024220b7d79be6ad91078c",
    "idx": 4,
    "time": "2021-02-04T19:50:46.179Z",
    "type": "execution"
   },
   {
    "id": "ee9f4e6c60024220b7d79be6ad91078c",
    "time": "2021-02-04T19:50:46.386Z",
    "type": "completion"
   },
   {
    "code": "# To view a table, we can use tbl.show(). What's the datatype?\n\nbechdel.show(5)",
    "id": "3832a7194e1e44738923dcc669b23935",
    "idx": 6,
    "time": "2021-02-04T19:54:45.812Z",
    "type": "execution"
   },
   {
    "id": "3832a7194e1e44738923dcc669b23935",
    "time": "2021-02-04T19:54:45.940Z",
    "type": "completion"
   },
   {
    "code": "# That's a lot of columns! Let's clean it up.\n# For this analysis, we only want the columns \"year\", \"title\", \"clean_test\", \"binary\"\nclean_bechdel = bechdel.select(\"year\", \"title\", \"clean_test\", \"binary\")\nclean_bechdel\n# tbl.select() lets us choose the columns that we we want to keep\n# alternatively, we can use tbl.drop\n",
    "id": "602808ca908c477f8d9d004389ce5688",
    "idx": 7,
    "time": "2021-02-04T19:55:44.149Z",
    "type": "execution"
   },
   {
    "id": "602808ca908c477f8d9d004389ce5688",
    "time": "2021-02-04T19:55:44.255Z",
    "type": "completion"
   },
   {
    "code": "# That's a lot of columns! Let's clean it up.\n# For this analysis, we only want the columns \"year\", \"title\", \"clean_test\", \"binary\"\nclean_bechdel = bechdel.select(\"year\", \"title\", \"clean_test\", \"binary\")\nclean_bechdel",
    "id": "602808ca908c477f8d9d004389ce5688",
    "idx": 7,
    "time": "2021-02-04T19:56:20.339Z",
    "type": "execution"
   },
   {
    "id": "602808ca908c477f8d9d004389ce5688",
    "time": "2021-02-04T19:56:20.464Z",
    "type": "completion"
   },
   {
    "code": "# Let's make it more readable. Change clean_test to \"test\" and binary to \"result\"\nclean_bechdel.relabel(\"clean_test\", \"test\").relabel(\"binary\", \"result\")\n# tbl.sort\n",
    "id": "2fe2d4cca60f41c9be11aa27f7ff1350",
    "idx": 8,
    "time": "2021-02-04T19:57:25.308Z",
    "type": "execution"
   },
   {
    "id": "2fe2d4cca60f41c9be11aa27f7ff1350",
    "time": "2021-02-04T19:57:25.434Z",
    "type": "completion"
   },
   {
    "code": "# Now, let's see what is the first and last year in the dataset. We can do this by sorting.\n\nclean_bechdel.sort(\"year\", descending = True)",
    "id": "d355232afb8a44dfbc74753e027c90f9",
    "idx": 9,
    "time": "2021-02-04T19:58:11.053Z",
    "type": "execution"
   },
   {
    "id": "d355232afb8a44dfbc74753e027c90f9",
    "time": "2021-02-04T19:58:11.336Z",
    "type": "completion"
   },
   {
    "code": "# Now, let's see what is the first and last year in the dataset. We can do this by sorting.\n\nclean_bechdel.sort(\"year\", descending = False)",
    "id": "d355232afb8a44dfbc74753e027c90f9",
    "idx": 9,
    "time": "2021-02-04T19:58:15.850Z",
    "type": "execution"
   },
   {
    "id": "d355232afb8a44dfbc74753e027c90f9",
    "time": "2021-02-04T19:58:15.942Z",
    "type": "completion"
   },
   {
    "code": "# Let's focus on a single year. In that year, how many movies passed or failed the test? \nclean_bechdel.where(\"year\", 2010)\n",
    "id": "3f6339ec776446b78bb232b741d5ba4b",
    "idx": 10,
    "time": "2021-02-04T19:58:52.306Z",
    "type": "execution"
   },
   {
    "id": "3f6339ec776446b78bb232b741d5ba4b",
    "time": "2021-02-04T19:58:52.486Z",
    "type": "completion"
   },
   {
    "code": "# tbl.take\nresults_by_year = clean_bechdel.pivot(\"result\", \"year\")\npass_prop = make_array()\nfail_prop = make_array()\n\nfor i in np.arange(results_by_year.num_rows):\n    total_for_year = (results_by_year.row(i)[1] + results_by_year.row(i)[2])\n    pass_prop = np.append(pass_prop, results_by_year.row(i)[1] / total_for_year)\n    fail_prop = np.append(fail_prop, results_by_year.row(i)[2] / total_for_year)\n    \nresults_by_year_prop = Table().with_columns(\"Year\", results_by_year.column(\"year\"),\n                                           \"Pass Prop\", pass_prop,\n                                           \"Fail Prop\", fail_prop)\nresults_by_year_prop",
    "id": "4d304afe2f054f7aa8bed18b8dd7791e",
    "idx": 11,
    "time": "2021-02-04T19:59:38.427Z",
    "type": "execution"
   },
   {
    "id": "4d304afe2f054f7aa8bed18b8dd7791e",
    "time": "2021-02-04T19:59:38.604Z",
    "type": "completion"
   },
   {
    "code": "# tbl.take\nresults_by_year = clean_bechdel.pivot(\"result\", \"year\")\npass_prop = make_array()\nfail_prop = make_array()\n\nfor i in np.arange(results_by_year.num_rows):\n    total_for_year = (results_by_year.row(i)[1] + results_by_year.row(i)[2])\n    pass_prop = np.append(pass_prop, results_by_year.row(i)[1] / total_for_year)\n    fail_prop = np.append(fail_prop, results_by_year.row(i)[2] / total_for_year)\n    \nresults_by_year_prop = Table().with_columns(\"Year\", results_by_year.column(\"year\"),\n                                           \"Pass Prop\", pass_prop,\n                                           \"Fail Prop\", fail_prop)\nresults_by_year_prop.to_df",
    "id": "4d304afe2f054f7aa8bed18b8dd7791e",
    "idx": 11,
    "time": "2021-02-04T19:59:55.171Z",
    "type": "execution"
   },
   {
    "id": "4d304afe2f054f7aa8bed18b8dd7791e",
    "time": "2021-02-04T19:59:55.347Z",
    "type": "completion"
   },
   {
    "code": "# tbl.take\nresults_by_year = clean_bechdel.pivot(\"result\", \"year\")\npass_prop = make_array()\nfail_prop = make_array()\n\nfor i in np.arange(results_by_year.num_rows):\n    total_for_year = (results_by_year.row(i)[1] + results_by_year.row(i)[2])\n    pass_prop = np.append(pass_prop, results_by_year.row(i)[1] / total_for_year)\n    fail_prop = np.append(fail_prop, results_by_year.row(i)[2] / total_for_year)\n    \nresults_by_year_prop = Table().with_columns(\"Year\", results_by_year.column(\"year\"),\n                                           \"Pass Prop\", pass_prop,\n                                           \"Fail Prop\", fail_prop)\nresults_by_year_prop.to_df()",
    "id": "4d304afe2f054f7aa8bed18b8dd7791e",
    "idx": 11,
    "time": "2021-02-04T19:59:58.497Z",
    "type": "execution"
   },
   {
    "id": "4d304afe2f054f7aa8bed18b8dd7791e",
    "time": "2021-02-04T19:59:58.703Z",
    "type": "completion"
   },
   {
    "code": "# tbl.take\nresults_by_year = clean_bechdel.pivot(\"result\", \"year\")\npass_prop = make_array()\nfail_prop = make_array()\n\nfor i in np.arange(results_by_year.num_rows):\n    total_for_year = (results_by_year.row(i)[1] + results_by_year.row(i)[2])\n    pass_prop = np.append(pass_prop, results_by_year.row(i)[1] / total_for_year)\n    fail_prop = np.append(fail_prop, results_by_year.row(i)[2] / total_for_year)\n    \nresults_by_year_prop = Table().with_columns(\"Year\", results_by_year.column(\"year\"),\n                                           \"Pass Prop\", pass_prop,\n                                           \"Fail Prop\", fail_prop)\nresults_by_year_prop.to_df().to_csv(\"bechdel_by_year.csv\", index = False)",
    "id": "4d304afe2f054f7aa8bed18b8dd7791e",
    "idx": 11,
    "time": "2021-02-04T20:00:29.573Z",
    "type": "execution"
   },
   {
    "id": "4d304afe2f054f7aa8bed18b8dd7791e",
    "time": "2021-02-04T20:00:29.753Z",
    "type": "completion"
   },
   {
    "code": "Table().read_table(\"bechdel_by_year.csv\")",
    "id": "5fe297fbf2544ca28a3cbc5bdd693cea",
    "idx": 12,
    "time": "2021-02-04T20:00:45.233Z",
    "type": "execution"
   },
   {
    "id": "5fe297fbf2544ca28a3cbc5bdd693cea",
    "time": "2021-02-04T20:00:45.338Z",
    "type": "completion"
   },
   {
    "code": "Table().read_table(\"bechdel_by_year.csv\").plot(\"Year\", \"Pass Prop\")",
    "id": "5fe297fbf2544ca28a3cbc5bdd693cea",
    "idx": 12,
    "time": "2021-02-04T20:00:53.522Z",
    "type": "execution"
   },
   {
    "id": "5fe297fbf2544ca28a3cbc5bdd693cea",
    "time": "2021-02-04T20:00:53.870Z",
    "type": "completion"
   },
   {
    "code": "Table().read_table(\"bechdel_by_year.csv\")",
    "id": "5fe297fbf2544ca28a3cbc5bdd693cea",
    "idx": 12,
    "time": "2021-02-04T20:01:20.596Z",
    "type": "execution"
   },
   {
    "id": "5fe297fbf2544ca28a3cbc5bdd693cea",
    "time": "2021-02-04T20:01:20.719Z",
    "type": "completion"
   },
   {
    "code": "# (More on this next week) We can use tbl.group(\"col\") to find the count of all unique values in a column\nclean_bechdel.group(\"year\")",
    "id": "4d304afe2f054f7aa8bed18b8dd7791e",
    "idx": 11,
    "time": "2021-02-04T20:02:47.137Z",
    "type": "execution"
   },
   {
    "id": "4d304afe2f054f7aa8bed18b8dd7791e",
    "time": "2021-02-04T20:02:47.303Z",
    "type": "completion"
   },
   {
    "code": "# (More on this next week) We can use tbl.group(\"col\") to find the count of all unique values in a column\nclean_bechdel.group(\"year\").barh(0)",
    "id": "4d304afe2f054f7aa8bed18b8dd7791e",
    "idx": 11,
    "time": "2021-02-04T20:02:50.438Z",
    "type": "execution"
   },
   {
    "id": "4d304afe2f054f7aa8bed18b8dd7791e",
    "time": "2021-02-04T20:02:51.419Z",
    "type": "completion"
   },
   {
    "code": "# (More on this next week) We can use tbl.group(\"col\") to find the count of all unique values in a column\nclean_bechdel.group(\"year\").plot(0)",
    "id": "4d304afe2f054f7aa8bed18b8dd7791e",
    "idx": 11,
    "time": "2021-02-04T20:02:59.153Z",
    "type": "execution"
   },
   {
    "id": "4d304afe2f054f7aa8bed18b8dd7791e",
    "time": "2021-02-04T20:02:59.518Z",
    "type": "completion"
   },
   {
    "code": "# I did some data cleaning and manipulations for you, and created this table \"bechdel_by_year.csv\"\n# which shows the proportion of how many movies in the dataset passed/failed the Bechdel test\nprops = Table().read_table(\"bechdel_by_year.csv\")",
    "id": "5fe297fbf2544ca28a3cbc5bdd693cea",
    "idx": 11,
    "time": "2021-02-04T20:03:37.362Z",
    "type": "execution"
   },
   {
    "id": "5fe297fbf2544ca28a3cbc5bdd693cea",
    "time": "2021-02-04T20:03:37.443Z",
    "type": "completion"
   },
   {
    "code": "# I did some data cleaning and manipulations for you, and created this table \"bechdel_by_year.csv\"\n# which shows the proportion of how many movies in the dataset passed/failed the Bechdel test\nprops = Table().read_table(\"bechdel_by_year.csv\")\nprops",
    "id": "5fe297fbf2544ca28a3cbc5bdd693cea",
    "idx": 11,
    "time": "2021-02-04T20:03:40.080Z",
    "type": "execution"
   },
   {
    "id": "5fe297fbf2544ca28a3cbc5bdd693cea",
    "time": "2021-02-04T20:03:40.174Z",
    "type": "completion"
   },
   {
    "code": "# If you have experience in R, you'll notice that there are /a lot/ of similarities in syntax.\n# Recall that we imported matplotlib.pyplots as plt at the start\n\n# Q1: Let's recreate the graph in how movies have gotten better (or worse) \n# in terms of the Bechdel test over time.\n\nx = props.column(\"Year\")\ny = props.column(\"Pass Prop\")\n\nplt.figure(figsize = (4, 4));\nplt.plot(x, y);\nplt.ylim(min(y), max(y));\nplt.xlim(min(x), max(y));\nplt.plot(x, y)\n#plt.axhline(...)\n#plt.axvline(...)\n#plt.title",
    "id": "59205de03980421588e7959b37e93d37",
    "idx": 14,
    "time": "2021-02-04T20:18:01.037Z",
    "type": "execution"
   },
   {
    "id": "59205de03980421588e7959b37e93d37",
    "time": "2021-02-04T20:18:01.345Z",
    "type": "completion"
   },
   {
    "code": "# If you have experience in R, you'll notice that there are /a lot/ of similarities in syntax.\n# Recall that we imported matplotlib.pyplots as plt at the start\n\n# Q1: Let's recreate the graph in how movies have gotten better (or worse) \n# in terms of the Bechdel test over time.\n\nx = props.column(\"Year\")\ny = props.column(\"Pass Prop\")\n\nplt.figure(figsize = (4, 4));\nplt.plot(x, y);\nplt.ylim(min(y), max(y));\nplt.xlim(min(x), max(y));\nplt.plot(x, y);\n#plt.axhline(...)\n#plt.axvline(...)\n#plt.title",
    "id": "59205de03980421588e7959b37e93d37",
    "idx": 14,
    "time": "2021-02-04T20:18:03.355Z",
    "type": "execution"
   },
   {
    "id": "59205de03980421588e7959b37e93d37",
    "time": "2021-02-04T20:18:03.604Z",
    "type": "completion"
   },
   {
    "code": "# If you have experience in R, you'll notice that there are /a lot/ of similarities in syntax.\n# Recall that we imported matplotlib.pyplots as plt at the start\n\n# Q1: Let's recreate the graph in how movies have gotten better (or worse) \n# in terms of the Bechdel test over time.\n\nx = props.column(\"Year\")\ny = props.column(\"Pass Prop\")\n\nplt.figure(figsize = (4, 4));\nplt.plot(x, y);\n#plt.ylim(min(y), max(y));\n#plt.xlim(min(x), max(y));\nplt.plot(x, y);\n#plt.axhline(...)\n#plt.axvline(...)\n#plt.title",
    "id": "59205de03980421588e7959b37e93d37",
    "idx": 14,
    "time": "2021-02-04T20:18:10.586Z",
    "type": "execution"
   },
   {
    "id": "59205de03980421588e7959b37e93d37",
    "time": "2021-02-04T20:18:10.867Z",
    "type": "completion"
   },
   {
    "code": "# If you have experience in R, you'll notice that there are /a lot/ of similarities in syntax.\n# Recall that we imported matplotlib.pyplots as plt at the start\n\n# Q1: Let's recreate the graph in how movies have gotten better (or worse) \n# in terms of the Bechdel test over time.\n\nx = props.column(\"Year\")\ny = props.column(\"Pass Prop\")\n\nplt.figure(figsize = (4, 4));\nplt.plot(x, y);\n#plt.ylim(min(y), max(y));\n#plt.xlim(min(x), max(y));\n#plt.axhline(...)\n#plt.axvline(...)\n#plt.title",
    "id": "59205de03980421588e7959b37e93d37",
    "idx": 14,
    "time": "2021-02-04T20:18:13.847Z",
    "type": "execution"
   },
   {
    "id": "59205de03980421588e7959b37e93d37",
    "time": "2021-02-04T20:18:14.094Z",
    "type": "completion"
   },
   {
    "code": "# If you have experience in R, you'll notice that there are /a lot/ of similarities in syntax.\n# Recall that we imported matplotlib.pyplots as plt at the start\n\n# Q1: Let's recreate the graph in how movies have gotten better (or worse) \n# in terms of the Bechdel test over time.\n\nx = props.column(\"Year\")\ny = props.column(\"Pass Prop\")\n\nplt.figure(figsize = (4, 4));\nplt.plot(x, y);\nplt.ylim(min(y), max(y));\n#plt.xlim(min(x), max(y));\n#plt.axhline(...)\n#plt.axvline(...)\n#plt.title",
    "id": "59205de03980421588e7959b37e93d37",
    "idx": 14,
    "time": "2021-02-04T20:18:20.041Z",
    "type": "execution"
   },
   {
    "id": "59205de03980421588e7959b37e93d37",
    "time": "2021-02-04T20:18:20.279Z",
    "type": "completion"
   },
   {
    "code": "# If you have experience in R, you'll notice that there are /a lot/ of similarities in syntax.\n# Recall that we imported matplotlib.pyplots as plt at the start\n\n# Q1: Let's recreate the graph in how movies have gotten better (or worse) \n# in terms of the Bechdel test over time.\n\nx = props.column(\"Year\")\ny = props.column(\"Pass Prop\")\n\nplt.figure(figsize = (4, 4));\nplt.plot(x, y);\nplt.ylim(min(y), max(y));\nplt.xlim(min(x), max(y));\n#plt.axhline(...)\n#plt.axvline(...)\n#plt.title",
    "id": "59205de03980421588e7959b37e93d37",
    "idx": 14,
    "time": "2021-02-04T20:18:29.072Z",
    "type": "execution"
   },
   {
    "id": "59205de03980421588e7959b37e93d37",
    "time": "2021-02-04T20:18:29.280Z",
    "type": "completion"
   },
   {
    "code": "# If you have experience in R, you'll notice that there are /a lot/ of similarities in syntax.\n# Recall that we imported matplotlib.pyplots as plt at the start\n\n# Q1: Let's recreate the graph in how movies have gotten better (or worse) \n# in terms of the Bechdel test over time.\n\nx = props.column(\"Year\")\ny = props.column(\"Pass Prop\")\n\nplt.figure(figsize = (4, 4));\nplt.plot(x, y);\nplt.ylim(min(y), max(y));\n#plt.xlim(min(x), max(y));\n#plt.axhline(...)\n#plt.axvline(...)\n#plt.title",
    "id": "59205de03980421588e7959b37e93d37",
    "idx": 14,
    "time": "2021-02-04T20:18:32.197Z",
    "type": "execution"
   },
   {
    "id": "59205de03980421588e7959b37e93d37",
    "time": "2021-02-04T20:18:32.461Z",
    "type": "completion"
   },
   {
    "code": "# If you have experience in R, you'll notice that there are /a lot/ of similarities in syntax.\n# Recall that we imported matplotlib.pyplots as plt at the start\n\n# Q1: Let's recreate the graph in how movies have gotten better (or worse) \n# in terms of the Bechdel test over time.\n\nx = props.column(\"Year\")\ny = props.column(\"Pass Prop\")\n\nplt.figure(figsize = (4, 4));\nplt.plot(x, y);\nplt.ylim(min(y), max(y));\n#plt.xlim(min(x), max(x));\n#plt.axhline(...)\n#plt.axvline(...)\n#plt.title",
    "id": "59205de03980421588e7959b37e93d37",
    "idx": 14,
    "time": "2021-02-04T20:18:34.206Z",
    "type": "execution"
   },
   {
    "id": "59205de03980421588e7959b37e93d37",
    "time": "2021-02-04T20:18:34.477Z",
    "type": "completion"
   },
   {
    "code": "# If you have experience in R, you'll notice that there are /a lot/ of similarities in syntax.\n# Recall that we imported matplotlib.pyplots as plt at the start\n\n# Q1: Let's recreate the graph in how movies have gotten better (or worse) \n# in terms of the Bechdel test over time.\n\nx = props.column(\"Year\")\ny = props.column(\"Pass Prop\")\n\nplt.figure(figsize = (4, 4));\nplt.plot(x, y);\nplt.ylim(min(y), max(y));\nplt.xlim(min(x), max(x));\n#plt.axhline(...)\n#plt.axvline(...)\n#plt.title",
    "id": "59205de03980421588e7959b37e93d37",
    "idx": 14,
    "time": "2021-02-04T20:18:36.001Z",
    "type": "execution"
   },
   {
    "id": "59205de03980421588e7959b37e93d37",
    "time": "2021-02-04T20:18:36.274Z",
    "type": "completion"
   },
   {
    "code": "# If you have experience in R, you'll notice that there are /a lot/ of similarities in syntax.\n# Recall that we imported matplotlib.pyplots as plt at the start\n\n# Q1: Let's recreate the graph in how movies have gotten better (or worse) \n# in terms of the Bechdel test over time.\n\nx = props.column(\"Year\")\ny = props.column(\"Pass Prop\")\n\nplt.figure(figsize = (4, 4));\nplt.plot(x, y);\nplt.ylim(0, 1.1;\nplt.xlim(min(x) - 10, max(x) + 10);\n#plt.axhline(...)\n#plt.axvline(...)\n#plt.title",
    "id": "59205de03980421588e7959b37e93d37",
    "idx": 14,
    "time": "2021-02-04T20:18:55.857Z",
    "type": "execution"
   },
   {
    "id": "59205de03980421588e7959b37e93d37",
    "time": "2021-02-04T20:18:55.993Z",
    "type": "completion"
   },
   {
    "code": "# If you have experience in R, you'll notice that there are /a lot/ of similarities in syntax.\n# Recall that we imported matplotlib.pyplots as plt at the start\n\n# Q1: Let's recreate the graph in how movies have gotten better (or worse) \n# in terms of the Bechdel test over time.\n\nx = props.column(\"Year\")\ny = props.column(\"Pass Prop\")\n\nplt.figure(figsize = (4, 4));\nplt.plot(x, y);\nplt.ylim(0, 1.1);\nplt.xlim(min(x) - 10, max(x) + 10);\n#plt.axhline(...)\n#plt.axvline(...)\n#plt.title",
    "id": "59205de03980421588e7959b37e93d37",
    "idx": 14,
    "time": "2021-02-04T20:18:58.684Z",
    "type": "execution"
   },
   {
    "id": "59205de03980421588e7959b37e93d37",
    "time": "2021-02-04T20:18:58.963Z",
    "type": "completion"
   },
   {
    "code": "# If you have experience in R, you'll notice that there are /a lot/ of similarities in syntax.\n# Recall that we imported matplotlib.pyplots as plt at the start\n\n# Q1: Let's recreate the graph in how movies have gotten better (or worse) \n# in terms of the Bechdel test over time.\n\nx = props.column(\"Year\")\ny = props.column(\"Pass Prop\")\n\nplt.figure(figsize = (4, 4));\nplt.plot(x, y);\nplt.ylim(0, 1.1);\nplt.xlim(min(x) - 10, max(x) + 10);\nplt.ylabel()\nplt.axhline(0.5)\n#plt.title",
    "id": "59205de03980421588e7959b37e93d37",
    "idx": 14,
    "time": "2021-02-04T20:21:48.016Z",
    "type": "execution"
   },
   {
    "id": "59205de03980421588e7959b37e93d37",
    "time": "2021-02-04T20:21:48.350Z",
    "type": "completion"
   },
   {
    "code": "# If you have experience in R, you'll notice that there are /a lot/ of similarities in syntax.\n# Recall that we imported matplotlib.pyplots as plt at the start\n\n# Q1: Let's recreate the graph in how movies have gotten better (or worse) \n# in terms of the Bechdel test over time.\n\nx = props.column(\"Year\")\ny = props.column(\"Pass Prop\")\n\nplt.figure(figsize = (4, 4));\nplt.plot(x, y);\nplt.ylim(0, 1.1);\nplt.xlim(min(x) - 10, max(x) + 10);\nplt.ylabel(\"Prop Pass\")\nplt.axhline(0.5)\n#plt.title",
    "id": "59205de03980421588e7959b37e93d37",
    "idx": 14,
    "time": "2021-02-04T20:21:53.649Z",
    "type": "execution"
   },
   {
    "id": "59205de03980421588e7959b37e93d37",
    "time": "2021-02-04T20:21:53.950Z",
    "type": "completion"
   },
   {
    "code": "# If you have experience in R, you'll notice that there are /a lot/ of similarities in syntax.\n# Recall that we imported matplotlib.pyplots as plt at the start\n\n# Q1: Let's recreate the graph in how movies have gotten better (or worse) \n# in terms of the Bechdel test over time.\n\nx = props.column(\"Year\")\ny = props.column(\"Pass Prop\")\n\nplt.figure(figsize = (4, 4));\nplt.plot(x, y);\nplt.ylim(0, 1.1);\nplt.xlim(min(x) - 10, max(x) + 10);\nplt.ylabel(\"Prop Pass\")\nplt.axhline(0.5, color = \"red\")\n#plt.title",
    "id": "59205de03980421588e7959b37e93d37",
    "idx": 14,
    "time": "2021-02-04T20:21:58.640Z",
    "type": "execution"
   },
   {
    "id": "59205de03980421588e7959b37e93d37",
    "time": "2021-02-04T20:21:58.926Z",
    "type": "completion"
   },
   {
    "code": "# If you have experience in R, you'll notice that there are /a lot/ of similarities in syntax.\n# Recall that we imported matplotlib.pyplots as plt at the start\n\n# Q1: Let's recreate the graph in how movies have gotten better (or worse) \n# in terms of the Bechdel test over time.\n\nx = props.column(\"Year\")\ny = props.column(\"Pass Prop\")\n\nplt.figure(figsize = (4, 4));\nplt.plot(x, y);\nplt.ylim(0, 1.1);\nplt.xlim(min(x) - 10, max(x) + 10);\nplt.ylabel(\"Prop Pass\")\nplt.axhline(0.5, color = \"red\");\n#plt.title",
    "id": "59205de03980421588e7959b37e93d37",
    "idx": 14,
    "time": "2021-02-04T20:22:00.668Z",
    "type": "execution"
   },
   {
    "id": "59205de03980421588e7959b37e93d37",
    "time": "2021-02-04T20:22:00.955Z",
    "type": "completion"
   },
   {
    "code": "# If you have experience in R, you'll notice that there are /a lot/ of similarities in syntax.\n# Recall that we imported matplotlib.pyplots as plt at the start\n\n# Q1: Let's recreate the graph in how movies have gotten better (or worse) \n# in terms of the Bechdel test over time.\n\nx = props.column(\"Year\")\ny = props.column(\"Pass Prop\")\n\nplt.figure(figsize = (4, 4));\nplt.plot(x, y);\nplt.ylim(0, 1.1);\nplt.xlim(min(x) - 10, max(x) + 10);\nplt.ylabel(\"Prop Pass\")\nplt.axhline(0.5, color = \"red\");\nplt.title(\"Bechdel Test over time\")",
    "id": "59205de03980421588e7959b37e93d37",
    "idx": 14,
    "time": "2021-02-04T20:22:10.046Z",
    "type": "execution"
   },
   {
    "id": "59205de03980421588e7959b37e93d37",
    "time": "2021-02-04T20:22:10.375Z",
    "type": "completion"
   },
   {
    "code": "# If you have experience in R, you'll notice that there are /a lot/ of similarities in syntax.\n# Recall that we imported matplotlib.pyplots as plt at the start\n\n# Q1: Let's recreate the graph in how movies have gotten better (or worse) \n# in terms of the Bechdel test over time.\n\nx = props.column(\"Year\")\ny = props.column(\"Pass Prop\")\n\nplt.figure(figsize = (4, 4));\nplt.plot(x, y);\nplt.ylim(0, 1.1);\nplt.xlim(min(x) - 10, max(x) + 10);\nplt.ylabel(\"Prop Pass\")\nplt.axhline(0.5, color = \"red\");\nplt.title(\"Bechdel Test over time\");",
    "id": "59205de03980421588e7959b37e93d37",
    "idx": 14,
    "time": "2021-02-04T20:22:12.482Z",
    "type": "execution"
   },
   {
    "id": "59205de03980421588e7959b37e93d37",
    "time": "2021-02-04T20:22:12.763Z",
    "type": "completion"
   },
   {
    "code": "# If you have experience in R, you'll notice that there are /a lot/ of similarities in syntax.\n# Recall that we imported matplotlib.pyplots as plt at the start\n\n# Q1: Let's recreate the graph in how movies have gotten better (or worse) \n# in terms of the Bechdel test over time.\n\nx = props.column(\"Year\")\ny = props.column(\"Pass Prop\")\n\nplt.figure(figsize = (6, 4));\nplt.plot(x, y);\nplt.ylim(0, 1.1);\nplt.xlim(min(x) - 10, max(x) + 10);\nplt.ylabel(\"Prop Pass\")\nplt.axhline(0.5, color = \"red\");\nplt.title(\"Bechdel Test over time\");",
    "id": "59205de03980421588e7959b37e93d37",
    "idx": 14,
    "time": "2021-02-04T20:22:17.976Z",
    "type": "execution"
   },
   {
    "id": "59205de03980421588e7959b37e93d37",
    "time": "2021-02-04T20:22:18.258Z",
    "type": "completion"
   },
   {
    "code": "# If you have experience in R, you'll notice that there are /a lot/ of similarities in syntax.\n# Recall that we imported matplotlib.pyplots as plt at the start\n\n# Q1: Let's recreate the graph in how movies have gotten better (or worse) \n# in terms of the Bechdel test over time.\n\nx = props.column(\"Year\")\ny = props.column(\"Pass Prop\")\n\nplt.figure(figsize = (6, 8));\nplt.plot(x, y);\nplt.ylim(0, 1.1);\nplt.xlim(min(x) - 10, max(x) + 10);\nplt.ylabel(\"Prop Pass\")\nplt.axhline(0.5, color = \"red\");\nplt.title(\"Bechdel Test over time\");",
    "id": "59205de03980421588e7959b37e93d37",
    "idx": 14,
    "time": "2021-02-04T20:22:22.121Z",
    "type": "execution"
   },
   {
    "id": "59205de03980421588e7959b37e93d37",
    "time": "2021-02-04T20:22:22.426Z",
    "type": "completion"
   },
   {
    "code": "# If you have experience in R, you'll notice that there are /a lot/ of similarities in syntax.\n# Recall that we imported matplotlib.pyplots as plt at the start\n\n# Q1: Let's recreate the graph in how movies have gotten better (or worse) \n# in terms of the Bechdel test over time.\n\nx = props.column(\"Year\")\ny = props.column(\"Pass Prop\")\n\nplt.figure(figsize = (6, 5));\nplt.plot(x, y);\nplt.ylim(0, 1.1);\nplt.xlim(min(x) - 10, max(x) + 10);\nplt.ylabel(\"Prop Pass\")\nplt.axhline(0.5, color = \"red\");\nplt.title(\"Bechdel Test over time\");",
    "id": "59205de03980421588e7959b37e93d37",
    "idx": 14,
    "time": "2021-02-04T20:22:26.216Z",
    "type": "execution"
   },
   {
    "id": "59205de03980421588e7959b37e93d37",
    "time": "2021-02-04T20:22:26.502Z",
    "type": "completion"
   },
   {
    "code": "# If you have experience in R, you'll notice that there are /a lot/ of similarities in syntax.\n# Recall that we imported matplotlib.pyplots as plt at the start\n\n# Q1: Let's recreate the graph in how movies have gotten better (or worse) \n# in terms of the Bechdel test over time.\n\nx = props.column(\"Year\")\ny = props.column(\"Pass Prop\")\n\nplt.figure(figsize = (6, 5));\nplt.plot(x, y);\nplt.ylim(0, 1.1);\nplt.xlim(min(x), max(x));\nplt.ylabel(\"Prop Pass\")\nplt.axhline(0.5, color = \"red\");\nplt.title(\"Bechdel Test over time\");",
    "id": "59205de03980421588e7959b37e93d37",
    "idx": 14,
    "time": "2021-02-04T20:22:43.752Z",
    "type": "execution"
   },
   {
    "id": "59205de03980421588e7959b37e93d37",
    "time": "2021-02-04T20:22:44.048Z",
    "type": "completion"
   },
   {
    "code": "#Q2 (depending on time): Make a bar chart comparing the number of each \"test\" from the clean_bechdel table\n# in 2010\ntests_2010 = bechdel.where(\"Year\", 2010).group(\"test\")\n",
    "id": "58da4c221c3a43f7887761dc8a4845bb",
    "idx": 15,
    "time": "2021-02-04T20:28:05.623Z",
    "type": "execution"
   },
   {
    "id": "58da4c221c3a43f7887761dc8a4845bb",
    "time": "2021-02-04T20:28:05.787Z",
    "type": "completion"
   },
   {
    "code": "#Q2 (depending on time): Make a bar chart comparing the number of each \"test\" from the clean_bechdel table\n# in 2010\ntests_2010 = bechdel.where(\"Year\", 2010).group(\"test\")\ntests_2010\n",
    "id": "58da4c221c3a43f7887761dc8a4845bb",
    "idx": 15,
    "time": "2021-02-04T20:28:09.306Z",
    "type": "execution"
   },
   {
    "id": "58da4c221c3a43f7887761dc8a4845bb",
    "time": "2021-02-04T20:28:09.420Z",
    "type": "completion"
   },
   {
    "code": "#Q2 (depending on time): Make a bar chart comparing the number of each \"test\" from the clean_bechdel table\n# in 2010\ntests_2010 = bechdel.where(\"tear\", 2010).group(\"test\")\ntests_2010\n",
    "id": "58da4c221c3a43f7887761dc8a4845bb",
    "idx": 15,
    "time": "2021-02-04T20:28:12.065Z",
    "type": "execution"
   },
   {
    "id": "58da4c221c3a43f7887761dc8a4845bb",
    "time": "2021-02-04T20:28:12.163Z",
    "type": "completion"
   },
   {
    "code": "#Q2 (depending on time): Make a bar chart comparing the number of each \"test\" from the clean_bechdel table\n# in 2010\ntests_2010 = bechdel.where(\"year\", 2010).group(\"test\")\ntests_2010\n",
    "id": "58da4c221c3a43f7887761dc8a4845bb",
    "idx": 15,
    "time": "2021-02-04T20:28:13.465Z",
    "type": "execution"
   },
   {
    "id": "58da4c221c3a43f7887761dc8a4845bb",
    "time": "2021-02-04T20:28:13.603Z",
    "type": "completion"
   },
   {
    "code": "#Q2 (depending on time): Make a bar chart comparing the number of each \"test\" from the clean_bechdel table\n# in 2010\n\n# Hint: plt.barh(\"categories\", \"value\")\ntests_2010 = bechdel.where(\"year\", 2010).group(\"test\")\ntests_2010\n\nplt.barh(tests_2010.column(0), tests_2010.column(1));",
    "id": "58da4c221c3a43f7887761dc8a4845bb",
    "idx": 15,
    "time": "2021-02-04T20:29:03.396Z",
    "type": "execution"
   },
   {
    "id": "58da4c221c3a43f7887761dc8a4845bb",
    "time": "2021-02-04T20:29:03.685Z",
    "type": "completion"
   },
   {
    "code": "#Q2 (depending on time): Make a bar chart comparing the number of each \"test\" from the clean_bechdel table\n# in 2010\n\n# Hint: plt.barh(\"categories\", \"value\")\ntests_2010 = bechdel.where(\"year\", 2010).group(\"test\").sort(1)\ntests_2010\n\nplt.barh(tests_2010.column(0), tests_2010.column(1));",
    "id": "58da4c221c3a43f7887761dc8a4845bb",
    "idx": 15,
    "time": "2021-02-04T20:29:29.415Z",
    "type": "execution"
   },
   {
    "id": "58da4c221c3a43f7887761dc8a4845bb",
    "time": "2021-02-04T20:29:29.720Z",
    "type": "completion"
   },
   {
    "code": "#Q2 (depending on time): Make a bar chart comparing the number of each \"test\" from the clean_bechdel table\n# in 2010\n\n# Hint: plt.barh(\"categories\", \"value\")\ntests_2010 = bechdel.where(\"year\", 2010).group(\"test\").sort(1)\ntests_2010\n\nplt.barh(tests_2010.column(0), tests_2010.column(1), alpha = 0.5);",
    "id": "58da4c221c3a43f7887761dc8a4845bb",
    "idx": 15,
    "time": "2021-02-04T20:30:05.376Z",
    "type": "execution"
   },
   {
    "id": "58da4c221c3a43f7887761dc8a4845bb",
    "time": "2021-02-04T20:30:05.681Z",
    "type": "completion"
   },
   {
    "code": "#Q2 (depending on time): Make a bar chart comparing the number of each \"test\" from the clean_bechdel table\n# in 2010\n\n# Hint: plt.barh(\"categories\", \"value\")\ntests_2010 = bechdel.where(\"year\", 2010).group(\"test\").sort(1)\ntests_2010\n\nplt.barh(tests_2010.column(0), tests_2010.column(1), align = \"center\";",
    "id": "58da4c221c3a43f7887761dc8a4845bb",
    "idx": 15,
    "time": "2021-02-04T20:30:14.936Z",
    "type": "execution"
   },
   {
    "id": "58da4c221c3a43f7887761dc8a4845bb",
    "time": "2021-02-04T20:30:15.015Z",
    "type": "completion"
   },
   {
    "code": "#Q2 (depending on time): Make a bar chart comparing the number of each \"test\" from the clean_bechdel table\n# in 2010\n\n# Hint: plt.barh(\"categories\", \"value\")\ntests_2010 = bechdel.where(\"year\", 2010).group(\"test\").sort(1)\ntests_2010\n\nplt.barh(tests_2010.column(0), tests_2010.column(1), align = \"center\");",
    "id": "58da4c221c3a43f7887761dc8a4845bb",
    "idx": 15,
    "time": "2021-02-04T20:30:17.743Z",
    "type": "execution"
   },
   {
    "id": "58da4c221c3a43f7887761dc8a4845bb",
    "time": "2021-02-04T20:30:18.040Z",
    "type": "completion"
   },
   {
    "code": "#Q2 (depending on time): Make a bar chart comparing the number of each \"test\" from the clean_bechdel table\n# in 2010\n\n# Hint: plt.barh(\"categories\", \"value\")\ntests_2010 = bechdel.where(\"year\", 2010).group(\"test\").sort(1)\ntests_2010\n\nplt.barh(tests_2010.column(0), tests_2010.column(1), align = \"center\");\nplt.yticks(tests_2010.column(0))",
    "id": "58da4c221c3a43f7887761dc8a4845bb",
    "idx": 15,
    "time": "2021-02-04T20:30:55.793Z",
    "type": "execution"
   },
   {
    "id": "58da4c221c3a43f7887761dc8a4845bb",
    "time": "2021-02-04T20:30:56.167Z",
    "type": "completion"
   },
   {
    "code": "#Q2 (depending on time): Make a bar chart comparing the number of each \"test\" from the clean_bechdel table\n# in 2010\n\n# Hint: plt.barh(\"categories\", \"value\")\ntests_2010 = bechdel.where(\"year\", 2010).group(\"test\").sort(1)\ntests_2010\n\nplt.barh(tests_2010.column(0), tests_2010.column(1), align = \"center\");\nplt.yticks(tests_2010.column(0));",
    "id": "58da4c221c3a43f7887761dc8a4845bb",
    "idx": 15,
    "time": "2021-02-04T20:30:58.745Z",
    "type": "execution"
   },
   {
    "id": "58da4c221c3a43f7887761dc8a4845bb",
    "time": "2021-02-04T20:30:59.053Z",
    "type": "completion"
   },
   {
    "code": "#Q2 (depending on time): Make a bar chart comparing the number of each \"test\" from the clean_bechdel table\n# in 2010\n\n# Hint: plt.barh(\"categories\", \"value\")\ntests_2010 = bechdel.where(\"year\", 2010).group(\"test\").sort(1)\ntests_2010\n\nplt.barh(tests_2010.column(0), tests_2010.column(1), align = \"center\");\nplt.yticks(tests_2010.column(0), tests_2010.column(1));",
    "id": "58da4c221c3a43f7887761dc8a4845bb",
    "idx": 15,
    "time": "2021-02-04T20:31:06.574Z",
    "type": "execution"
   },
   {
    "id": "58da4c221c3a43f7887761dc8a4845bb",
    "time": "2021-02-04T20:31:06.827Z",
    "type": "completion"
   },
   {
    "code": "#Q2 (depending on time): Make a bar chart comparing the number of each \"test\" from the clean_bechdel table\n# in 2010\n\n# Hint: plt.barh(\"categories\", \"value\")\ntests_2010 = bechdel.where(\"year\", 2010).group(\"test\").sort(1)\ntests_2010\n\nplt.barh(tests_2010.column(0), tests_2010.column(1), align = \"center\");",
    "id": "58da4c221c3a43f7887761dc8a4845bb",
    "idx": 15,
    "time": "2021-02-04T20:31:13.391Z",
    "type": "execution"
   },
   {
    "id": "58da4c221c3a43f7887761dc8a4845bb",
    "time": "2021-02-04T20:31:13.724Z",
    "type": "completion"
   },
   {
    "code": "# Some made-up data. \nage_data =  Table().with_column(\"Ages\", [3, 4, 8, 9, 14, 18, 20, 23, 24, 35])\nage_data",
    "id": "2fc85b0e6a034318845b3442a0b1ba92",
    "idx": 17,
    "time": "2021-02-04T20:39:28.112Z",
    "type": "execution"
   },
   {
    "id": "2fc85b0e6a034318845b3442a0b1ba92",
    "time": "2021-02-04T20:39:28.236Z",
    "type": "completion"
   },
   {
    "code": "# How we'll make histograms in homework \nage_data.hist(\"Ages\", bins = np.arange(0, 50, 10))",
    "id": "53125a3652e8463cb0872481a0109fc1",
    "idx": 18,
    "time": "2021-02-04T20:39:30.240Z",
    "type": "execution"
   },
   {
    "id": "53125a3652e8463cb0872481a0109fc1",
    "time": "2021-02-04T20:39:30.481Z",
    "type": "completion"
   },
   {
    "code": "# How we'll make histograms in homework\nbins = np.arange(0, 50, 10)\nage_data.hist(\"Ages\")",
    "id": "53125a3652e8463cb0872481a0109fc1",
    "idx": 18,
    "time": "2021-02-04T20:39:41.256Z",
    "type": "execution"
   },
   {
    "id": "53125a3652e8463cb0872481a0109fc1",
    "time": "2021-02-04T20:39:41.505Z",
    "type": "completion"
   },
   {
    "code": "# How we'll make histograms in homework\nbins = np.arange(0, 50, 5)\nage_data.hist(\"Ages\")",
    "id": "53125a3652e8463cb0872481a0109fc1",
    "idx": 18,
    "time": "2021-02-04T20:39:46.183Z",
    "type": "execution"
   },
   {
    "id": "53125a3652e8463cb0872481a0109fc1",
    "time": "2021-02-04T20:39:46.451Z",
    "type": "completion"
   },
   {
    "code": "# How we'll make histograms in homework\nbins = np.arange(0, 50, 10)\nage_data.hist(\"Ages\")",
    "id": "53125a3652e8463cb0872481a0109fc1",
    "idx": 18,
    "time": "2021-02-04T20:39:48.935Z",
    "type": "execution"
   },
   {
    "id": "53125a3652e8463cb0872481a0109fc1",
    "time": "2021-02-04T20:39:49.179Z",
    "type": "completion"
   },
   {
    "code": "# How we'll make histograms in homework\nbins = np.arange(0, 50, 10)\nage_data.hist(\"Ages\", bins = bins)",
    "id": "53125a3652e8463cb0872481a0109fc1",
    "idx": 18,
    "time": "2021-02-04T20:39:52.992Z",
    "type": "execution"
   },
   {
    "id": "53125a3652e8463cb0872481a0109fc1",
    "time": "2021-02-04T20:39:53.252Z",
    "type": "completion"
   },
   {
    "code": "# We'll learn later that, if we perform an experiment many times,\n# the distribution of our observed (\"empirical\") results will converge on the true (\"probability\") distribution\n# This is a fundamental part of computational statistics/data science, because \n# we're going to use simulations to approximate distributions. \n\nheads = np.random.binomial(50, 0.5, 1000000);\nplt.figure(figsize = (10, 5));\nplt.hist(heads, bins = np.arange(min(heads) - 0.5, max(heads) + 0.5, 1), density = True);\n\n# drawing out the curve\nmean = np.mean(heads)\nstd = np.std(heads)\nx = np.linspace(0, 50, 200)\nf_x = (1 / (np.sqrt(2 * np.pi) * std)) * np.e ** (-0.5 * ((x - mean) / std) ** 2)\nplt.plot(x, f_x, linewidth = 2);\n",
    "id": "199efb2d4779464d8b058f3ab6385d02",
    "idx": 20,
    "time": "2021-02-04T22:22:46.038Z",
    "type": "execution"
   },
   {
    "id": "199efb2d4779464d8b058f3ab6385d02",
    "time": "2021-02-04T22:22:46.208Z",
    "type": "completion"
   },
   {
    "code": "from datascience import *\nimport numpy as np\n\n# Notice the new library\nimport matplotlib.pyplot as plt # pyplot is the main module in matplotlib for plotting in Python\nplt.style.use('fivethirtyeight') # setting up styles\n# inline lets us embed plots to our notebook as static images\n%matplotlib inline ",
    "id": "792d2c9890f24bc38bac5358bbf9fea2",
    "idx": 0,
    "time": "2021-02-04T22:22:49.687Z",
    "type": "execution"
   },
   {
    "id": "792d2c9890f24bc38bac5358bbf9fea2",
    "time": "2021-02-04T22:22:51.401Z",
    "type": "completion"
   },
   {
    "code": "# We'll learn later that, if we perform an experiment many times,\n# the distribution of our observed (\"empirical\") results will converge on the true (\"probability\") distribution\n# This is a fundamental part of computational statistics/data science, because \n# we're going to use simulations to approximate distributions. \n\nheads = np.random.binomial(50, 0.5, 1000000);\nplt.figure(figsize = (10, 5));\nplt.hist(heads, bins = np.arange(min(heads) - 0.5, max(heads) + 0.5, 1), density = True);\n\n# drawing out the curve\nmean = np.mean(heads)\nstd = np.std(heads)\nx = np.linspace(0, 50, 200)\nf_x = (1 / (np.sqrt(2 * np.pi) * std)) * np.e ** (-0.5 * ((x - mean) / std) ** 2)\nplt.plot(x, f_x, linewidth = 2);\n",
    "id": "199efb2d4779464d8b058f3ab6385d02",
    "idx": 20,
    "time": "2021-02-04T22:22:52.595Z",
    "type": "execution"
   },
   {
    "id": "199efb2d4779464d8b058f3ab6385d02",
    "time": "2021-02-04T22:22:53.465Z",
    "type": "completion"
   },
   {
    "code": "# We'll learn later that, if we perform an experiment many times,\n# the distribution of our observed (\"empirical\") results will converge on the true (\"probability\") distribution\n# This is a fundamental part of computational statistics/data science, because \n# we're going to use simulations to approximate distributions. \n\nheads = np.random.binomial(50, 0.5, 1000000)\n",
    "id": "199efb2d4779464d8b058f3ab6385d02",
    "idx": 20,
    "time": "2021-02-04T22:31:58.780Z",
    "type": "execution"
   },
   {
    "id": "199efb2d4779464d8b058f3ab6385d02",
    "time": "2021-02-04T22:31:59.066Z",
    "type": "completion"
   },
   {
    "code": "# We'll learn later that, if we perform an experiment many times,\n# the distribution of our observed (\"empirical\") results will converge on the true (\"probability\") distribution\n# This is a fundamental part of computational statistics/data science, because \n# we're going to use simulations to approximate distributions. \n\nheads = np.random.binomial(50, 0.5, 1000000)\nheads",
    "id": "199efb2d4779464d8b058f3ab6385d02",
    "idx": 20,
    "time": "2021-02-04T22:32:00.683Z",
    "type": "execution"
   },
   {
    "id": "199efb2d4779464d8b058f3ab6385d02",
    "time": "2021-02-04T22:32:00.985Z",
    "type": "completion"
   },
   {
    "code": "# We'll learn later that, if we perform an experiment many times,\n# the distribution of our observed (\"empirical\") results will converge on the true (\"probability\") distribution\n# This is a fundamental part of computational statistics/data science, because \n# we're going to use simulations to approximate distributions. \n\n\n# The np.random module\nheads = np.random.binomial(50, 0.5)\nheads",
    "id": "199efb2d4779464d8b058f3ab6385d02",
    "idx": 20,
    "time": "2021-02-04T22:32:13.040Z",
    "type": "execution"
   },
   {
    "id": "199efb2d4779464d8b058f3ab6385d02",
    "time": "2021-02-04T22:32:13.111Z",
    "type": "completion"
   },
   {
    "code": "# We'll learn later that, if we perform an experiment many times,\n# the distribution of our observed (\"empirical\") results will converge on the true (\"probability\") distribution\n# This is a fundamental part of computational statistics/data science, because \n# we're going to use simulations to approximate distributions. \n\n\n# The np.random module\nheads = np.random.binomial(50, 0.5, 500000)\nheads",
    "id": "199efb2d4779464d8b058f3ab6385d02",
    "idx": 20,
    "time": "2021-02-04T22:32:18.323Z",
    "type": "execution"
   },
   {
    "id": "199efb2d4779464d8b058f3ab6385d02",
    "time": "2021-02-04T22:32:18.594Z",
    "type": "completion"
   },
   {
    "code": "# Make a histogram of the results\nplt.figure(figsize = (10, 5));\nplt.hist(heads, bins = np.arange(min(heads) - 0.5, max(heads) + 0.5, 1), density = True);\n",
    "id": "675a48f854de48918096f05a35a2cdd3",
    "idx": 21,
    "time": "2021-02-04T22:33:05.759Z",
    "type": "execution"
   },
   {
    "id": "675a48f854de48918096f05a35a2cdd3",
    "time": "2021-02-04T22:33:06.371Z",
    "type": "completion"
   },
   {
    "code": "# Make a histogram of the results\nbins = bins = np.arange(min(heads) - 0.5, max(heads) + 0.5, 1\nplt.figure(figsize = (10, 5)); \nplt.hist(heads, bins = bins), density = True);\n\n# What do you notice?",
    "id": "675a48f854de48918096f05a35a2cdd3",
    "idx": 21,
    "time": "2021-02-04T22:33:48.547Z",
    "type": "execution"
   },
   {
    "id": "675a48f854de48918096f05a35a2cdd3",
    "time": "2021-02-04T22:33:48.618Z",
    "type": "completion"
   },
   {
    "code": "# Make a histogram of the results\nbins = bins = np.arange(min(heads) - 0.5, max(heads) + 0.5, 1\nplt.figure(figsize = (10, 5)); \nplt.hist(heads, bins = bins), density = True);\n\n# What do you notice?",
    "id": "675a48f854de48918096f05a35a2cdd3",
    "idx": 21,
    "time": "2021-02-04T22:33:51.267Z",
    "type": "execution"
   },
   {
    "id": "675a48f854de48918096f05a35a2cdd3",
    "time": "2021-02-04T22:33:51.349Z",
    "type": "completion"
   },
   {
    "code": "# Make a histogram of the results\nbins = bins = np.arange(min(heads) - 0.5, max(heads) + 0.5, 1)\nplt.figure(figsize = (10, 5)); \nplt.hist(heads, bins = bins), density = True);\n\n# What do you notice?",
    "id": "675a48f854de48918096f05a35a2cdd3",
    "idx": 21,
    "time": "2021-02-04T22:33:53.304Z",
    "type": "execution"
   },
   {
    "id": "675a48f854de48918096f05a35a2cdd3",
    "time": "2021-02-04T22:33:53.382Z",
    "type": "completion"
   },
   {
    "code": "# Make a histogram of the results\nbins = np.arange(min(heads) - 0.5, max(heads) + 0.5, 1)\nplt.figure(figsize = (10, 5)); \nplt.hist(heads, bins = bins), density = True);\n\n# What do you notice?",
    "id": "675a48f854de48918096f05a35a2cdd3",
    "idx": 21,
    "time": "2021-02-04T22:33:56.067Z",
    "type": "execution"
   },
   {
    "id": "675a48f854de48918096f05a35a2cdd3",
    "time": "2021-02-04T22:33:56.144Z",
    "type": "completion"
   },
   {
    "code": "# Make a histogram of the results\nbins = np.arange(min(heads) - 0.5, max(heads) + 0.5, 1)\nplt.figure(figsize = (10, 5)); \nplt.hist(heads, bins = bins), density = True;\n\n# What do you notice?",
    "id": "675a48f854de48918096f05a35a2cdd3",
    "idx": 21,
    "time": "2021-02-04T22:33:58.993Z",
    "type": "execution"
   },
   {
    "id": "675a48f854de48918096f05a35a2cdd3",
    "time": "2021-02-04T22:33:59.075Z",
    "type": "completion"
   },
   {
    "code": "# Make a histogram of the results\nbins = np.arange(min(heads) - 0.5, max(heads) + 0.5, 1)\nplt.figure(figsize = (10, 5)); \nplt.hist(heads, bins = bins, density = True;\n\n# What do you notice?",
    "id": "675a48f854de48918096f05a35a2cdd3",
    "idx": 21,
    "time": "2021-02-04T22:34:01.021Z",
    "type": "execution"
   },
   {
    "id": "675a48f854de48918096f05a35a2cdd3",
    "time": "2021-02-04T22:34:01.091Z",
    "type": "completion"
   },
   {
    "code": "# Make a histogram of the results\nbins = np.arange(min(heads) - 0.5, max(heads) + 0.5, 1)\nplt.figure(figsize = (10, 5)); \nplt.hist(heads, bins = bins, density = True);\n\n# What do you notice?",
    "id": "675a48f854de48918096f05a35a2cdd3",
    "idx": 21,
    "time": "2021-02-04T22:34:02.440Z",
    "type": "execution"
   },
   {
    "id": "675a48f854de48918096f05a35a2cdd3",
    "time": "2021-02-04T22:34:02.948Z",
    "type": "completion"
   },
   {
    "code": "# Make a histogram of the results\nbins = np.arange(min(heads) - 0.5, max(heads) + 0.5, 1)\nplt.figure(figsize = (10, 5)); \nplt.hist(heads, bins = bins, density = True);\n\n# What do you notice?",
    "id": "675a48f854de48918096f05a35a2cdd3",
    "idx": 21,
    "time": "2021-02-04T22:35:02.945Z",
    "type": "execution"
   },
   {
    "id": "675a48f854de48918096f05a35a2cdd3",
    "time": "2021-02-04T22:35:03.657Z",
    "type": "completion"
   },
   {
    "code": "# Draw the normal curve over the histogram\nmean = np.mean(heads)\nstd = np.std(heads)\n\n\n\nx = np.linspace(0, 50, 200)\nf_x = (1 / (np.sqrt(2 * np.pi) * std)) * np.e ** (-0.5 * ((x - mean) / std) ** 2)\n\nplt.figure(figsize = (10, 5));\nplt.hist(heads, bins = np.arange(min(heads) - 0.5, max(heads) + 0.5, 1), density = True);\nplt.plot(x, f_x, linewidth = 2);",
    "id": "23b50e0a1e7944c6af6a297e324c7f2d",
    "idx": 22,
    "time": "2021-02-04T22:35:04.227Z",
    "type": "execution"
   },
   {
    "id": "23b50e0a1e7944c6af6a297e324c7f2d",
    "time": "2021-02-04T22:35:04.743Z",
    "type": "completion"
   },
   {
    "code": "from datascience import *\nimport numpy as np\n\n# Notice the new library\nimport matplotlib.pyplot as plt # pyplot is the main module in matplotlib for plotting in Python\nplt.style.use('fivethirtyeight') # setting up styles\n# inline lets us embed plots to our notebook as static images\n%matplotlib inline ",
    "id": "792d2c9890f24bc38bac5358bbf9fea2",
    "idx": 0,
    "time": "2021-02-04T23:30:23.821Z",
    "type": "execution"
   },
   {
    "id": "792d2c9890f24bc38bac5358bbf9fea2",
    "time": "2021-02-04T23:30:24.200Z",
    "type": "completion"
   }
  ],
  "kernelspec": {
   "display_name": "Python 3",
   "language": "python",
   "name": "python3"
  },
  "language_info": {
   "codemirror_mode": {
    "name": "ipython",
    "version": 3
   },
   "file_extension": ".py",
   "mimetype": "text/x-python",
   "name": "python",
   "nbconvert_exporter": "python",
   "pygments_lexer": "ipython3",
   "version": "3.8.6"
  }
 },
 "nbformat": 4,
 "nbformat_minor": 5
}
